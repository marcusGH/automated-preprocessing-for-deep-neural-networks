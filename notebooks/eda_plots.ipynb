{
 "cells": [
  {
   "cell_type": "markdown",
   "id": "7c42772c-5622-4dd2-a04b-d15e64de92e5",
   "metadata": {},
   "source": [
    "# EDA plots for thesis"
   ]
  },
  {
   "cell_type": "code",
   "execution_count": 1,
   "id": "182bd6de-cfb7-48ec-b7d1-4622570ae48c",
   "metadata": {
    "tags": []
   },
   "outputs": [],
   "source": [
    "# imports\n",
    "import torch\n",
    "import torch.nn as nn\n",
    "import torch.nn.functional as F\n",
    "import numpy as np\n",
    "import sklearn\n",
    "import matplotlib.pyplot as plt\n",
    "import pandas as pd\n",
    "import os\n",
    "import gc\n",
    "import cupy\n",
    "import cudf\n",
    "import yaml\n",
    "from datetime import datetime\n",
    "import sklearn\n",
    "from tqdm.auto import tqdm\n",
    "\n",
    "with open(os.path.join(\"..\", \"config.yaml\")) as f:\n",
    "    main_cfg = yaml.load(f, Loader=yaml.FullLoader)\n",
    "    \n",
    "with open(os.path.join(\"..\", \"src\", \"experiments\", \"configs\", \"experiment-config-alpha.yaml\")) as f:\n",
    "    amex_cfg = yaml.load(f, Loader=yaml.FullLoader)\n",
    "\n",
    "with open(os.path.join(\"..\", \"src\", \"experiments\", \"configs\", \"experiment-config-beta.yaml\")) as f:\n",
    "    lob_cfg = yaml.load(f, Loader=yaml.FullLoader)\n",
    "    \n"
   ]
  },
  {
   "cell_type": "markdown",
   "id": "0880dd2d-6ac4-48ab-ae85-e0f9a2246d83",
   "metadata": {},
   "source": [
    "## Amex dataset"
   ]
  },
  {
   "cell_type": "code",
   "execution_count": 2,
   "id": "f457ddbf-2540-45c5-a1d7-90ce140a15c5",
   "metadata": {
    "tags": []
   },
   "outputs": [],
   "source": [
    "# TODO"
   ]
  },
  {
   "cell_type": "markdown",
   "id": "6af4e153-5e50-4ebf-ace9-074fd76e3148",
   "metadata": {},
   "source": [
    "## LOB dataset"
   ]
  },
  {
   "cell_type": "code",
   "execution_count": 94,
   "id": "780f7f0f-0b64-444e-a317-2946d827e52c",
   "metadata": {
    "tags": []
   },
   "outputs": [],
   "source": [
    "from src.lib.lob_loader import get_wf_lob_loaders\n",
    "from src.lib.lob_train_utils import lob_epoch_train_one_epoch, lob_evaluator\n",
    "from src.models.adaptive_grunet import AdaptiveGRUNetLOB\n",
    "from src.preprocessing.static_transformations import StandardScalerTimeSeries\n",
    "from src.preprocessing.adaptive_transformations import DAIN_Layer, BiN_Layer\n",
    "from src.preprocessing.normalizing_flows import EDAIN_Layer, EDAINScalerTimeSeries, EDAINScalerTimeSeriesDecorator\n"
   ]
  },
  {
   "cell_type": "code",
   "execution_count": 3,
   "id": "36517952-a149-49d1-98c3-4c7d1187e53d",
   "metadata": {
    "tags": []
   },
   "outputs": [],
   "source": [
    "train_loader, val_loader = get_wf_lob_loaders(\n",
    "    h5_path=lob_cfg['lob_dataset']['preprocessed_lob_path'],\n",
    "    window=15,\n",
    "    horizon=2,\n",
    "    split=8,\n",
    "    batch_size=128,\n",
    ")"
   ]
  },
  {
   "cell_type": "markdown",
   "id": "fc637181-db2c-49f5-90ee-36714e27756e",
   "metadata": {
    "jp-MarkdownHeadingCollapsed": true,
    "tags": []
   },
   "source": [
    "### Big model and optimizer cell"
   ]
  },
  {
   "cell_type": "code",
   "execution_count": 24,
   "id": "ae794464-a1d9-4a2b-9ab4-55cee419ee99",
   "metadata": {
    "tags": []
   },
   "outputs": [
    {
     "name": "stdout",
     "output_type": "stream",
     "text": [
      "Mode =  adaptive_scale\n"
     ]
    }
   ],
   "source": [
    "################################### local EDAIN ################################\n",
    "edain_model = AdaptiveGRUNetLOB(\n",
    "    adaptive_layer=EDAIN_Layer(\n",
    "        input_dim=144,\n",
    "        invert_bijector=False,\n",
    "        outlier_removal_residual_connection=True,\n",
    "        batch_aware=True,\n",
    "        init_sigma=0.000001,\n",
    "        outlier_removal_mode='exp',\n",
    "    ),\n",
    "    time_series_length=15,\n",
    "    dim_first=False,\n",
    "    input_dim=144,\n",
    ")\n",
    "\n",
    "edain_optimizer = torch.optim.RMSprop(\n",
    "    edain_model.preprocess.get_optimizer_param_list(\n",
    "        base_lr=1e-4,\n",
    "        # For local-aware\n",
    "        scale_lr=0.0001,\n",
    "        shift_lr=0.01,\n",
    "        outlier_lr=10.0,\n",
    "        power_lr=0.1,\n",
    "        # below for global-aware\n",
    "        # scale_lr: 10.0\n",
    "        # shift_lr: 10.0\n",
    "        # outlier_lr: 0.000001\n",
    "        # power_lr: 0.001\n",
    "        # # below for EDAIN-KL\n",
    "        # scale_lr: 0.0001\n",
    "        # shift_lr: 0.01\n",
    "        # outlier_lr: 10.0\n",
    "        # power_lr: 0.001\n",
    "    ) + [\n",
    "        {'params' : edain_model.gru.parameters(), 'lr' : 1e-4},\n",
    "        {'params' : edain_model.feed_forward.parameters(), 'lr' : 1e-4},\n",
    "    ], lr=1e-4)\n",
    "\n",
    "################################### global EDAIN ################################\n",
    "edain_global_model = AdaptiveGRUNetLOB(\n",
    "    adaptive_layer=EDAIN_Layer(\n",
    "        input_dim=144,\n",
    "        invert_bijector=False,\n",
    "        outlier_removal_residual_connection=True,\n",
    "        batch_aware=False,\n",
    "        init_sigma=0.000001,\n",
    "        outlier_removal_mode='exp',\n",
    "    ),\n",
    "    time_series_length=15,\n",
    "    dim_first=False,\n",
    "    input_dim=144,\n",
    ")\n",
    "\n",
    "edain_global_optimizer = torch.optim.RMSprop(\n",
    "    edain_global_model.preprocess.get_optimizer_param_list(\n",
    "        base_lr=1e-4,\n",
    "        # For local-aware\n",
    "        # scale_lr=0.0001,\n",
    "        # shift_lr=0.01,\n",
    "        # outlier_lr=10.0,\n",
    "        # power_lr=0.1,\n",
    "        # below for global-aware\n",
    "        scale_lr=10.0,\n",
    "        shift_lr=10.0,\n",
    "        outlier_lr=0.000001,\n",
    "        power_lr=0.001,\n",
    "        # # below for EDAIN-KL\n",
    "        # scale_lr: 0.0001\n",
    "        # shift_lr: 0.01\n",
    "        # outlier_lr: 10.0\n",
    "        # power_lr: 0.001\n",
    "    ) + [\n",
    "        {'params' : edain_global_model.gru.parameters(), 'lr' : 1e-4},\n",
    "        {'params' : edain_global_model.feed_forward.parameters(), 'lr' : 1e-4},\n",
    "    ], lr=1e-4)\n",
    "\n",
    "################################### DAIN ################################\n",
    "dain_model = AdaptiveGRUNetLOB(\n",
    "    adaptive_layer=DAIN_Layer(\n",
    "        mode='adaptive_scale',\n",
    "        input_dim=144,\n",
    "        mean_lr=0.01,\n",
    "        scale_lr=0.00000001,\n",
    "        gate_lr=10,\n",
    "    ),\n",
    "    time_series_length=15,\n",
    "    dim_first=True,\n",
    "    input_dim=144,\n",
    ")\n",
    "\n",
    "dain_optimizer = torch.optim.RMSprop(\n",
    "    dain_model.preprocess.get_optimizer_param_list(\n",
    "        base_lr=1e-4,\n",
    "    ) + [\n",
    "        {'params' : dain_model.gru.parameters(), 'lr' : 1e-4},\n",
    "        {'params' : dain_model.feed_forward.parameters(), 'lr' : 1e-4},\n",
    "    ], lr=1e-4)\n",
    "\n",
    "#################################### BIN ###############################\n",
    "bin_model = AdaptiveGRUNetLOB(\n",
    "    adaptive_layer=BiN_Layer(\n",
    "        input_shape=(144, 15),\n",
    "    ),\n",
    "    time_series_length=15,\n",
    "    dim_first=True,\n",
    "    input_dim=144,\n",
    ")\n",
    "\n",
    "bin_optimizer = torch.optim.RMSprop(\n",
    "    bin_model.preprocess.get_optimizer_param_list(\n",
    "        base_lr=1e-4,\n",
    "        beta_lr=1.0,\n",
    "        gamma_lr=0.00000001,\n",
    "        lambda_lr=0.1,\n",
    "    ) + [\n",
    "        {'params' : bin_model.gru.parameters(), 'lr' : 1e-4},\n",
    "        {'params' : bin_model.feed_forward.parameters(), 'lr' : 1e-4},\n",
    "    ], lr=1e-4)"
   ]
  },
  {
   "cell_type": "markdown",
   "id": "03e4d4c1-d555-4b94-a37a-f3c1b3192a8d",
   "metadata": {},
   "source": [
    "### Fit runner and loader cell"
   ]
  },
  {
   "cell_type": "code",
   "execution_count": 104,
   "id": "1228c749-be99-4776-97d8-e015cb6ad8b1",
   "metadata": {
    "tags": []
   },
   "outputs": [
    {
     "data": {
      "application/vnd.jupyter.widget-view+json": {
       "model_id": "b662864976d244619ad6e1cf38ecbe5f",
       "version_major": 2,
       "version_minor": 0
      },
      "text/plain": [
       "Fitting bijector:   0%|          | 0/1 [00:00<?, ?it/s]"
      ]
     },
     "metadata": {},
     "output_type": "display_data"
    },
    {
     "data": {
      "application/vnd.jupyter.widget-view+json": {
       "model_id": "3e66127854644bd6b7e258f2ff19e808",
       "version_major": 2,
       "version_minor": 0
      },
      "text/plain": [
       "  0%|          | 0/2 [00:00<?, ?it/s]"
      ]
     },
     "metadata": {},
     "output_type": "display_data"
    },
    {
     "data": {
      "application/vnd.jupyter.widget-view+json": {
       "model_id": "a5bccf4529ce4ec7b99ccc4df0950305",
       "version_major": 2,
       "version_minor": 0
      },
      "text/plain": [
       "Transforming data using bijector:   0%|          | 0/408 [00:00<?, ?it/s]"
      ]
     },
     "metadata": {},
     "output_type": "display_data"
    }
   ],
   "source": [
    "# fit the model\n",
    "torch.multiprocessing.set_sharing_strategy('file_system')\n",
    "np.random.seed(42)\n",
    "torch.manual_seed(42)\n",
    "DEV = torch.device('cuda', 5)\n",
    "\n",
    "FIT_PREPROCESS = False\n",
    "FIT_EDAIN = False\n",
    "FIT_EDAIN_GLOBAL = False\n",
    "FIT_BIN = False\n",
    "FIT_DAIN = False\n",
    "FIT_EDAIN_KL = False\n",
    "\n",
    "if FIT_PREPROCESS:\n",
    "    # fit the standard scaler first on the training data\n",
    "    preprocess = StandardScalerTimeSeries(15)\n",
    "    X_train = []\n",
    "    y_train = []\n",
    "    for X, y in tqdm(train_loader, desc=\"Preprocess\"):\n",
    "        X_train.append(X.numpy())\n",
    "        y_train.append(y.numpy())\n",
    "    X_train = np.concatenate(X_train, axis=0)\n",
    "    y_train = np.concatenate(y_train, axis=0)\n",
    "    print(\"Fitting standard scaler\")\n",
    "    X_train_ss = preprocess.fit_transform(X_train)\n",
    "    print(\"Done!\")\n",
    "\n",
    "if FIT_EDAIN:\n",
    "    edain_model = edain_model.to(DEV)\n",
    "    for i in tqdm(range(20)):\n",
    "        train_loss = lob_epoch_train_one_epoch(edain_model, train_loader, preprocess, edain_optimizer, DEV)\n",
    "        print(f\"Epoch {i+1}: Train loss = {train_loss:.8f}\") \n",
    "    torch.save(edain_model.state_dict(), os.path.join(main_cfg['checkpoint_directory'], \"edain_local-aware_lob\"))\n",
    "else:\n",
    "    edain_model = edain_model.cpu()\n",
    "    edain_model.load_state_dict(torch.load(os.path.join(main_cfg['checkpoint_directory'], \"edain_local-aware_lob\")))\n",
    "    edain_model.eval()\n",
    "    \n",
    "if FIT_EDAIN_GLOBAL:\n",
    "    edain_global_model = edain_global_model.to(DEV)\n",
    "    for i in tqdm(range(20)):\n",
    "        train_loss = lob_epoch_train_one_epoch(edain_global_model, train_loader, preprocess, edain_global_optimizer, DEV)\n",
    "        print(f\"Epoch {i+1}: Train loss = {train_loss:.8f}\") \n",
    "    torch.save(edain_global_model.state_dict(), os.path.join(main_cfg['checkpoint_directory'], \"edain_global-aware_lob\"))\n",
    "else:\n",
    "    edain_global_model = edain_global_model.cpu()\n",
    "    edain_global_model.load_state_dict(torch.load(os.path.join(main_cfg['checkpoint_directory'], \"edain_global-aware_lob\")))\n",
    "    edain_global_model.eval()\n",
    "    \n",
    "if FIT_DAIN:\n",
    "    dain_model = dain_model.to(DEV)\n",
    "    for i in tqdm(range(20)):\n",
    "        train_loss = lob_epoch_train_one_epoch(dain_model, train_loader, None, dain_optimizer, DEV)\n",
    "        print(f\"Epoch {i+1}: Train loss = {train_loss:.8f}\") \n",
    "    torch.save(dain_model.state_dict(), os.path.join(main_cfg['checkpoint_directory'], \"dain_lob\"))\n",
    "else:\n",
    "    dain_model = dain_model.cpu()\n",
    "    dain_model.load_state_dict(torch.load(os.path.join(main_cfg['checkpoint_directory'], \"dain_lob\")))\n",
    "    dain_model.eval()\n",
    "    \n",
    "if FIT_BIN:\n",
    "    bin_model = bin_model.to(DEV)\n",
    "    for i in tqdm(range(20)):\n",
    "        train_loss = lob_epoch_train_one_epoch(bin_model, train_loader, None, bin_optimizer, DEV)\n",
    "        print(f\"Epoch {i+1}: Train loss = {train_loss:.8f}\") \n",
    "    torch.save(bin_model.state_dict(), os.path.join(main_cfg['checkpoint_directory'], \"bin_lob\"))\n",
    "else:\n",
    "    bin_model = bin_model.cpu()\n",
    "    bin_model.load_state_dict(torch.load(os.path.join(main_cfg['checkpoint_directory'], \"bin_lob\")))\n",
    "    bin_model.eval()\n",
    "    \n",
    "if True:\n",
    "    edain_kl = EDAINScalerTimeSeriesDecorator(\n",
    "        scaler=StandardScalerTimeSeries(15),\n",
    "        time_series_length=15,\n",
    "        input_dim=144,\n",
    "        bijector_kwargs={\n",
    "            'init_sigma' : 0.0001,\n",
    "            'eps' : 0.00001,\n",
    "            'batch_aware' : False,\n",
    "            'outlier_removal_mode' : 'exp',\n",
    "        },\n",
    "        bijector_fit_kwargs={\n",
    "            'device' : DEV,\n",
    "            'scale_lr' : 0.0001,\n",
    "            'shift_lr' : 0.01,\n",
    "            'outlier_lr' : 10.0,\n",
    "            'power_lr' : 0.01,\n",
    "            'batch_size' : 1024,\n",
    "            'milestones' : [3, 7],\n",
    "            'num_epochs' : 8 if FIT_EDAIN_KL else 1,\n",
    "            'num_fits' : 1,\n",
    "            'base_lr': 1e-2,\n",
    "        })\n",
    "    if FIT_EDAIN_KL:\n",
    "        X_train_edain_kl = edain_kl.fit_transform(X_train, y_train)\n",
    "        torch.save(edain_kl.bijector.state_dict(), os.path.join(main_cfg['checkpoint_directory'], \"edain-kl-bijector\"))\n",
    "    else:\n",
    "        edain_kl.fit(X_train[:2000], y_train[:2000])\n",
    "        edain_kl.bijector.load_state_dict(torch.load(os.path.join(main_cfg['checkpoint_directory'], \"edain-kl-bijector\")))\n",
    "        edain_kl.bijector.eval()\n",
    "        X_train_edain_kl = edain_kl.transform(X_train)"
   ]
  },
  {
   "cell_type": "code",
   "execution_count": 22,
   "id": "7fa6176b-6feb-4d5f-b95b-22851be60500",
   "metadata": {
    "tags": []
   },
   "outputs": [
    {
     "data": {
      "image/png": "[encoded data removed]",
      "text/plain": [
       "<Figure size 640x480 with 1 Axes>"
      ]
     },
     "metadata": {},
     "output_type": "display_data"
    }
   ],
   "source": [
    "plt.hist(X_train[:, :, 90].reshape((-1, 1)), bins=200, density=True)\n",
    "plt.show()"
   ]
  },
  {
   "cell_type": "code",
   "execution_count": 45,
   "id": "1ec27032-3126-4b59-a1c1-401fb62bb942",
   "metadata": {
    "tags": []
   },
   "outputs": [
    {
     "data": {
      "application/vnd.jupyter.widget-view+json": {
       "model_id": "3868af2fc1b54fc5b4cf1eafd68c7ae4",
       "version_major": 2,
       "version_minor": 0
      },
      "text/plain": [
       "Transforming data:   0%|          | 0/3259 [00:00<?, ?it/s]"
      ]
     },
     "metadata": {},
     "output_type": "display_data"
    },
    {
     "data": {
      "application/vnd.jupyter.widget-view+json": {
       "model_id": "daf9062af86a4ddb9e300d19c3030991",
       "version_major": 2,
       "version_minor": 0
      },
      "text/plain": [
       "Transforming data:   0%|          | 0/3259 [00:00<?, ?it/s]"
      ]
     },
     "metadata": {},
     "output_type": "display_data"
    },
    {
     "data": {
      "application/vnd.jupyter.widget-view+json": {
       "model_id": "dd3bbbf7532f4774b9efc1089bb2bd93",
       "version_major": 2,
       "version_minor": 0
      },
      "text/plain": [
       "Transforming data:   0%|          | 0/3259 [00:00<?, ?it/s]"
      ]
     },
     "metadata": {},
     "output_type": "display_data"
    },
    {
     "data": {
      "application/vnd.jupyter.widget-view+json": {
       "model_id": "081d7723b76844398af9a28ce24a3f5b",
       "version_major": 2,
       "version_minor": 0
      },
      "text/plain": [
       "Transforming data:   0%|          | 0/3259 [00:00<?, ?it/s]"
      ]
     },
     "metadata": {},
     "output_type": "display_data"
    }
   ],
   "source": [
    "def transform_data(mod, dim_first=False, z_score=False):\n",
    "    mod = mod.to(DEV)\n",
    "    X_train_transformed = []\n",
    "    for X, _ in tqdm(train_loader, desc=\"Transforming data\"):\n",
    "        if z_score:\n",
    "            X = torch.tensor(preprocess.transform(X))\n",
    "        X = X.to(DEV)\n",
    "        if dim_first:\n",
    "            X = X.transpose(1, 2)\n",
    "        X_out = mod.preprocess(X)\n",
    "        if dim_first:\n",
    "            X_out = X_out.transpose(1, 2)\n",
    "        X_train_transformed.append(X_out.detach().cpu().numpy())\n",
    "    mod = mod.cpu()\n",
    "    return np.concatenate(X_train_transformed, axis=0)\n",
    "\n",
    "\n",
    "X_train_edain = transform_data(edain_model, z_score=True)\n",
    "X_train_dain = transform_data(dain_model, dim_first=True)\n",
    "X_train_bin = transform_data(bin_model, dim_first=True)\n",
    "X_train_edain_global = transform_data(edain_global_model, z_score=True)"
   ]
  },
  {
   "cell_type": "code",
   "execution_count": 87,
   "id": "5519ce6e-44ad-4fa9-8367-442592a0273a",
   "metadata": {
    "tags": []
   },
   "outputs": [
    {
     "data": {
      "image/png": "[encoded data removed]",
      "text/plain": [
       "<Figure size 640x480 with 1 Axes>"
      ]
     },
     "metadata": {},
     "output_type": "display_data"
    }
   ],
   "source": [
    "# Dims to use: 13, 90, and 50\n",
    "\n",
    "plt.hist(X_train_edain[:, :, 50].reshape((-1, 1)), bins=200, density=True)\n",
    "plt.show()"
   ]
  },
  {
   "cell_type": "code",
   "execution_count": 92,
   "id": "32b74d32-fe96-4ede-a1c4-bd0e9294f9fd",
   "metadata": {
    "tags": []
   },
   "outputs": [
    {
     "data": {
      "image/png": "[encoded data removed]",
      "text/plain": [
       "<Figure size 640x480 with 1 Axes>"
      ]
     },
     "metadata": {},
     "output_type": "display_data"
    }
   ],
   "source": [
    "plt.hist(X_train_dain[:, :, 50].reshape((-1, 1)), bins=200, density=True)\n",
    "plt.show()"
   ]
  },
  {
   "cell_type": "code",
   "execution_count": 89,
   "id": "3aaea4a5-4a71-44fe-b29b-500b68b8d7f5",
   "metadata": {
    "tags": []
   },
   "outputs": [
    {
     "data": {
      "image/png": "[encoded data removed]",
      "text/plain": [
       "<Figure size 640x480 with 1 Axes>"
      ]
     },
     "metadata": {},
     "output_type": "display_data"
    }
   ],
   "source": [
    "plt.hist(X_train_edain_global[:, :, 50].reshape((-1, 1)), bins=200, density=True)\n",
    "plt.show()"
   ]
  },
  {
   "cell_type": "code",
   "execution_count": 108,
   "id": "457974ab-667e-4b1b-b7a2-999667f817a4",
   "metadata": {
    "tags": []
   },
   "outputs": [
    {
     "data": {
      "image/png": "[encoded data removed]",
      "text/plain": [
       "<Figure size 640x480 with 1 Axes>"
      ]
     },
     "metadata": {},
     "output_type": "display_data"
    }
   ],
   "source": [
    "plt.hist(X_train_edain_kl[:, :, 90].reshape((-1, 1)), bins=200, density=True)\n",
    "plt.show()"
   ]
  },
  {
   "cell_type": "code",
   "execution_count": 107,
   "id": "7bda7714-8264-4779-a4a9-22c13218ea22",
   "metadata": {
    "tags": []
   },
   "outputs": [
    {
     "data": {
      "image/png": "[encoded data removed]",
      "text/plain": [
       "<Figure size 640x480 with 1 Axes>"
      ]
     },
     "metadata": {},
     "output_type": "display_data"
    }
   ],
   "source": [
    "plt.hist(X_train[:, :, 13].reshape((-1, 1)), bins=200, density=True)\n",
    "plt.show()"
   ]
  },
  {
   "cell_type": "code",
   "execution_count": 121,
   "id": "2fc9d2bf-9415-4fa9-9ba1-c68d238abfce",
   "metadata": {
    "tags": []
   },
   "outputs": [
    {
     "data": {
      "image/png": "[encoded data removed]",
      "text/plain": [
       "<Figure size 578.74x818.462 with 18 Axes>"
      ]
     },
     "metadata": {},
     "output_type": "display_data"
    }
   ],
   "source": [
    "# below is full plotting code\n",
    "# TODO: trian EDAIN-KL for longer so that more illustrative plots for it!\n",
    "#       When doing this, can also add option for merging time and sample axis\n",
    "#       so that can train for plots better with only D unknown params...\n",
    "from src.lib.plotting import get_figsize, save_plot, update_plot_params\n",
    "\n",
    "update_plot_params(**{\"text.usetex\":False})\n",
    "get_figsize(height_width_ratio=np.sqrt(2))\n",
    "\n",
    "methods = [X_train, X_train_dain, X_train_bin, X_train_edain, X_train_edain_global, X_train_edain_kl]\n",
    "meth_names = [\"Raw data\", \"DAIN\", \"BIN\", \"EDAIN (local)\", \"EDAIN (global)\", \"EDAIN-KL\"]\n",
    "\n",
    "fig, axs = plt.subplots(nrows=6, ncols=3, figsize=get_figsize(height_width_ratio=np.sqrt(2)))\n",
    "# variable names\n",
    "axs[0, 0].set_title(\"j=14\")\n",
    "axs[0, 1].set_title(\"j=51\")\n",
    "axs[0, 2].set_title(\"j=91\")\n",
    "\n",
    "# plot all the histograms\n",
    "for i, (Xs, lab) in enumerate(zip(methods, meth_names)):\n",
    "    axs[i, 0].set_ylabel(lab)\n",
    "    for j in range(3):\n",
    "        axs[i, j].set_yticks([])\n",
    "    axs[i, 0].hist(Xs[:, :, 13].reshape((-1, 1)), bins=200, density=True)\n",
    "    axs[i, 1].hist(Xs[:, :, 50].reshape((-1, 1)), bins=200, density=True)\n",
    "    axs[i, 2].hist(Xs[:, :, 90].reshape((-1, 1)), bins=200, density=True)\n",
    "plt.subplots_adjust(wspace=0, hspace=0.3)\n",
    "save_plot(fig, \"lob_example_transformations\")"
   ]
  }
 ],
 "metadata": {
  "kernelspec": {
   "display_name": "cudf_torch",
   "language": "python",
   "name": "cudf_torch"
  },
  "language_info": {
   "codemirror_mode": {
    "name": "ipython",
    "version": 3
   },
   "file_extension": ".py",
   "mimetype": "text/x-python",
   "name": "python",
   "nbconvert_exporter": "python",
   "pygments_lexer": "ipython3",
   "version": "3.10.11"
  }
 },
 "nbformat": 4,
 "nbformat_minor": 5
}
