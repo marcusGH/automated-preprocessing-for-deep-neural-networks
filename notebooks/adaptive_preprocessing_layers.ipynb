{
 "cells": [
  {
   "cell_type": "markdown",
   "id": "722957f0-5fb2-4da3-99dd-59deda3d77c2",
   "metadata": {},
   "source": [
    "# Adaptive preprocessing layers"
   ]
  },
  {
   "cell_type": "code",
   "execution_count": 1,
   "id": "68d8a5cb-ac1b-4b1b-ae61-9654403e297f",
   "metadata": {
    "tags": []
   },
   "outputs": [
    {
     "name": "stdout",
     "output_type": "stream",
     "text": [
      "/data/mas322/amex-project\n"
     ]
    }
   ],
   "source": [
    "%cd .."
   ]
  },
  {
   "cell_type": "code",
   "execution_count": 2,
   "id": "a4e80d6d-e0dc-45ab-970b-bd8b0e68fb7b",
   "metadata": {
    "tags": []
   },
   "outputs": [],
   "source": [
    "import yaml\n",
    "import os\n",
    "import importlib\n",
    "import numpy as np\n",
    "import torch\n",
    "import torch.nn as nn\n",
    "import torch.nn.functional as F\n",
    "import sklearn\n",
    "import importlib.util\n",
    "import sys\n",
    "import matplotlib.pyplot as plt\n",
    "\n",
    "from tqdm.auto import tqdm\n",
    "from src.lib import experimentation\n",
    "from src.models.adaptive_grunet import AdaptiveGRUNet\n",
    "from src.models.basic_grunet import GRUNetBasic\n",
    "from src.experiments.static_preprocessing_methods.standard_scaling import StandardScalerTimeSeries\n",
    "\n",
    "def undo_min_max_corrupt_func(X, y):\n",
    "    \"\"\"\n",
    "    X of shape (num_examples, series_length, num_features)\n",
    "    In this undo, we assume scale same for each feature, over temporal scale\n",
    "    \"\"\"\n",
    "    # to ensure we get the same mins and scales every time\n",
    "    np.random.seed(42)\n",
    "    # randomize both the starting point and the feature scales\n",
    "    mins = np.random.uniform(-1E4, 1E4, size=X.shape[2])[np.newaxis, None]\n",
    "    # don't set the smallest scale too tiny, otherwise can lose information due to float 32 bit\n",
    "    scales = 10 ** np.random.uniform(-1, 5, size=X.shape[2])[np.newaxis, None]\n",
    "\n",
    "    X_corrupt = X * scales + mins\n",
    "    return X_corrupt, y\n",
    "\n",
    "with open(os.path.join(\"config.yaml\")) as f:\n",
    "    cfg = yaml.load(f, Loader=yaml.FullLoader)\n",
    "\n",
    "data_loader_kwargs = {\n",
    "    'batch_size' : 1024,\n",
    "    'shuffle' : False,\n",
    "    'drop_last' : False,\n",
    "}\n",
    "\n",
    "fill_dict = {\n",
    "    'nan' : -0.5,\n",
    "    'pad_categorical' : -2,\n",
    "    'pad_numeric' : -1.,\n",
    "}\n",
    "\n",
    "loss_fn = F.binary_cross_entropy\n",
    "\n",
    "def plot_histories(history_list, hist_names):\n",
    "    assert len(history_list) == len(hist_names)\n",
    "    \n",
    "    fig, axs = plt.subplots(ncols=2, figsize=(14, 7))\n",
    "    \n",
    "    cols = ['tab:blue', 'tab:orange', 'tab:red', 'tab:green', 'tab:cyan', 'tab:purple']\n",
    "    \n",
    "    for h, lab, c in zip(history_list, hist_names, cols):\n",
    "        try:\n",
    "            _ = float(h['val_loss'][0])\n",
    "        except TypeError:\n",
    "            # use the first cross-validation if passed CV history object\n",
    "            h = {\n",
    "                'val_loss' : h['val_loss'][0],\n",
    "                'train_loss' : h['train_loss'][0],\n",
    "                'val_amex_metric' : h['val_amex_metric'][0],\n",
    "                'train_amex_metric' : h['train_amex_metric'][0],\n",
    "            }\n",
    "        # loss\n",
    "        axs[0].plot(h['val_loss'], label=f\"{lab} (val)\", color=c)\n",
    "        axs[0].plot(len(h['val_loss']) - 1, h['val_loss'][-1], color=c, marker='o', markersize=5)\n",
    "        axs[0].plot(h['train_loss'], label=f\"{lab} (train)\", color=c, linestyle='--')\n",
    "        axs[0].plot(len(h['train_loss']) - 1, h['train_loss'][-1], color=c, marker='o', markersize=5)\n",
    "        # amex metric\n",
    "        axs[1].plot(h['val_amex_metric'], label=f\"{lab} (val)\", color=c)\n",
    "        axs[1].plot(len(h['val_amex_metric']) - 1, h['val_amex_metric'][-1], color=c, marker='o', markersize=5)\n",
    "        axs[1].plot(h['train_amex_metric'], label=f\"{lab} (train)\", color=c, linestyle='--')\n",
    "        axs[1].plot(len(h['train_amex_metric']) - 1, h['train_amex_metric'][-1], color=c, marker='o', markersize=5)\n",
    "    axs[0].set_title(\"Loss\")\n",
    "    axs[0].legend()\n",
    "    axs[1].set_title(\"Competition metric\")\n",
    "    axs[1].legend()\n",
    "    return fig, axs"
   ]
  },
  {
   "cell_type": "markdown",
   "id": "64c73f15-54e0-4a1f-8ac9-c8f2040341db",
   "metadata": {
    "jp-MarkdownHeadingCollapsed": true,
    "tags": []
   },
   "source": [
    "## Baseline model (standard scaling)"
   ]
  },
  {
   "cell_type": "code",
   "execution_count": 9,
   "id": "afbde7c8-fa05-4494-875a-d1f7f82c4e78",
   "metadata": {
    "tags": []
   },
   "outputs": [
    {
     "data": {
      "application/vnd.jupyter.widget-view+json": {
       "model_id": "6bbad93812a44491bf187d9d9f11f020",
       "version_major": 2,
       "version_minor": 0
      },
      "text/plain": [
       "  0%|          | 0/40 [00:00<?, ?it/s]"
      ]
     },
     "metadata": {},
     "output_type": "display_data"
    }
   ],
   "source": [
    "torch.manual_seed(42) ; np.random.seed(42)\n",
    "baseline_model = GRUNetBasic(188, 128, 2, 4)\n",
    "optimizer = torch.optim.Adam(baseline_model.parameters(), lr=1e-3)\n",
    "scheduler = torch.optim.lr_scheduler.MultiStepLR(optimizer, milestones=[4, 7], gamma=0.1)\n",
    "early_stoppper = experimentation.EarlyStopper(patience=5)\n",
    "\n",
    "# standard scale on the data\n",
    "train_loader, val_loader = experimentation.load_numpy_data(os.path.join(cfg['dataset_directory'], \"derived\", \"processed-splits\"), [0, 1],\n",
    "                                                           fill_dict, corrupt_func=undo_min_max_corrupt_func, preprocess_obj=StandardScalerTimeSeries(),\n",
    "                                                           **data_loader_kwargs)\n",
    "\n",
    "# fit_model(model, loss_fn, train_loader, val_loader, optimizer, scheduler=None, num_epochs=10, verbose=True, early_stopper=None, device_ids=None)\n",
    "baseline_history = experimentation.fit_model(baseline_model, loss_fn, train_loader, val_loader, optimizer, scheduler=scheduler, early_stopper=early_stoppper,\n",
    "                                    verbose=False, num_epochs=40)"
   ]
  },
  {
   "cell_type": "code",
   "execution_count": 3,
   "id": "db91df7c-1355-477d-8bbd-2e7342cfbff6",
   "metadata": {
    "tags": []
   },
   "outputs": [],
   "source": [
    "baseline_history = np.load(os.path.join(cfg['experiment_directory'], 'standard-scaling-history-50-epochs.npy'), allow_pickle=True).item()"
   ]
  },
  {
   "cell_type": "markdown",
   "id": "791b243c-98ae-4683-9d70-10590b19f4f2",
   "metadata": {
    "jp-MarkdownHeadingCollapsed": true,
    "tags": []
   },
   "source": [
    "## Tuning DAIN"
   ]
  },
  {
   "cell_type": "code",
   "execution_count": 4,
   "id": "16193964-4abf-4a3d-bd70-3e4e0e070a59",
   "metadata": {
    "tags": []
   },
   "outputs": [],
   "source": [
    "# Usage: dain.DAIN_Layer\n",
    "spec = importlib.util.spec_from_file_location(\"dain\", os.path.join(cfg['dain_repo'], 'dain.py'))\n",
    "dain = importlib.util.module_from_spec(spec)\n",
    "sys.modules[\"module.name\"] = dain\n",
    "spec.loader.exec_module(dain)"
   ]
  },
  {
   "cell_type": "code",
   "execution_count": 5,
   "id": "a5256a96-a9d9-46e2-b749-82f2eed83094",
   "metadata": {
    "tags": []
   },
   "outputs": [
    {
     "name": "stdout",
     "output_type": "stream",
     "text": [
      "Mode =  full\n"
     ]
    },
    {
     "data": {
      "application/vnd.jupyter.widget-view+json": {
       "model_id": "2489b848eac441ce925e97c0d384535a",
       "version_major": 2,
       "version_minor": 0
      },
      "text/plain": [
       "  0%|          | 0/40 [00:00<?, ?it/s]"
      ]
     },
     "metadata": {},
     "output_type": "display_data"
    },
    {
     "name": "stderr",
     "output_type": "stream",
     "text": [
      "/home/mas322/anaconda3/envs/cudf-torch/lib/python3.10/site-packages/torch/_tensor.py:775: UserWarning: non-inplace resize is deprecated\n",
      "  warnings.warn(\"non-inplace resize is deprecated\")\n"
     ]
    }
   ],
   "source": [
    "def dain_optimizer_init(model, lr=1e-3):\n",
    "    return torch.optim.Adam([\n",
    "        {'params': model.gru.parameters()},\n",
    "        {'params': model.emb_layers.parameters()},\n",
    "        {'params': model.feed_forward.parameters()},\n",
    "        {'params': model.preprocess.mean_layer.parameters(), 'lr': lr * model.preprocess.mean_lr},\n",
    "        {'params': model.preprocess.scaling_layer.parameters(), 'lr': lr * model.preprocess.scale_lr},\n",
    "        {'params': model.preprocess.gating_layer.parameters(), 'lr': lr * model.preprocess.gate_lr},\n",
    "    ], lr=lr)\n",
    "\n",
    "\n",
    "torch.manual_seed(42) ; np.random.seed(42)\n",
    "mean_lr, std_lr, scale_lr = 1e-3, 1e-3, 10\n",
    "dain_model = AdaptiveGRUNet(lambda D, T: dain.DAIN_Layer(input_dim=D, mode='full', mean_lr=mean_lr, scale_lr=std_lr, gate_lr=scale_lr), 188, 128, 2, 4)\n",
    "optimizer = dain_optimizer_init(dain_model, lr=1e-3)\n",
    "scheduler = torch.optim.lr_scheduler.MultiStepLR(optimizer, milestones=[4, 7], gamma=0.1)\n",
    "early_stoppper = experimentation.EarlyStopper(patience=5)\n",
    "\n",
    "# no preprocessing on the data\n",
    "train_loader, val_loader = experimentation.load_numpy_data(os.path.join(cfg['dataset_directory'], \"derived\", \"processed-splits\"), [0, 1],\n",
    "                                                           fill_dict, corrupt_func=undo_min_max_corrupt_func, preprocess_obj=None,\n",
    "                                                           batch_size=1024)\n",
    "\n",
    "# fit_model(model, loss_fn, train_loader, val_loader, optimizer, scheduler=None, num_epochs=10, verbose=True, early_stopper=None, device_ids=None)\n",
    "dain_history = experimentation.fit_model(dain_model, loss_fn, train_loader, val_loader, optimizer,\n",
    "                                    scheduler=scheduler, early_stopper=early_stoppper,\n",
    "                                    verbose=False, num_epochs=40)"
   ]
  },
  {
   "cell_type": "code",
   "execution_count": 6,
   "id": "3f9627b1-a4d4-4414-8fe4-9dbe2caee723",
   "metadata": {
    "tags": []
   },
   "outputs": [
    {
     "data": {
      "image/png": "[encoded data removed]",
      "text/plain": [
       "<Figure size 1400x700 with 2 Axes>"
      ]
     },
     "metadata": {},
     "output_type": "display_data"
    }
   ],
   "source": [
    "fig, axs = plot_histories([baseline_history, dain_history], ['Standard scaling', 'DAIN'])"
   ]
  },
  {
   "cell_type": "code",
   "execution_count": 53,
   "id": "c9b2a540-6428-4bad-9f2d-9c158b4480b6",
   "metadata": {
    "tags": []
   },
   "outputs": [
    {
     "name": "stdout",
     "output_type": "stream",
     "text": [
      "torch.Size([1024, 13, 188])\n"
     ]
    }
   ],
   "source": [
    "for x in train_loader:\n",
    "    print(x[0].shape)\n",
    "    break"
   ]
  },
  {
   "cell_type": "markdown",
   "id": "9d57a414-ac81-4256-bb5c-7cae509c2aaf",
   "metadata": {
    "jp-MarkdownHeadingCollapsed": true,
    "tags": []
   },
   "source": [
    "## BiN layer"
   ]
  },
  {
   "cell_type": "code",
   "execution_count": 9,
   "id": "e9ef2751-32dd-473d-9f9d-24f93e006dcf",
   "metadata": {
    "tags": []
   },
   "outputs": [],
   "source": [
    "# Usage: tabl.BiN\n",
    "spec = importlib.util.spec_from_file_location(\"tabl\", os.path.join(cfg['mlproject_repo'], 'mlproject', 'models', 'tabl.py'))\n",
    "tabl = importlib.util.module_from_spec(spec)\n",
    "sys.modules[\"module.name\"] = tabl\n",
    "spec.loader.exec_module(tabl)"
   ]
  },
  {
   "cell_type": "code",
   "execution_count": 24,
   "id": "0ce2fc8f-a915-4419-a035-d275c92a77e3",
   "metadata": {
    "tags": []
   },
   "outputs": [
    {
     "data": {
      "application/vnd.jupyter.widget-view+json": {
       "model_id": "7d26955ed1b640969ee4e2c226625fad",
       "version_major": 2,
       "version_minor": 0
      },
      "text/plain": [
       "  0%|          | 0/50 [00:00<?, ?it/s]"
      ]
     },
     "metadata": {},
     "output_type": "display_data"
    }
   ],
   "source": [
    "def bin_optimizer_init(model, lr=1e-3, lambd=0.01):\n",
    "    return torch.optim.Adam([\n",
    "        {'params': model.gru.parameters()},\n",
    "        {'params': model.emb_layers.parameters()},\n",
    "        {'params': model.feed_forward.parameters()},\n",
    "        {'params': model.preprocess.parameters(), 'lr': lr * lambd},\n",
    "    ], lr=lr)\n",
    "\n",
    "torch.manual_seed(42) ; np.random.seed(42)\n",
    "bin_model = AdaptiveGRUNet(lambda D, T: tabl.BiN(input_shape=(D, T)), 188, 128, 2, 4)\n",
    "optimizer = bin_optimizer_init(bin_model, lambd=1e-6)\n",
    "scheduler = torch.optim.lr_scheduler.MultiStepLR(optimizer, milestones=[4, 7], gamma=0.1)\n",
    "early_stoppper = experimentation.EarlyStopper(patience=5)\n",
    "\n",
    "# no preprocessing on the data\n",
    "train_loader, val_loader = experimentation.load_numpy_data(os.path.join(cfg['dataset_directory'], \"derived\", \"processed-splits\"), [0, 1],\n",
    "                                                           fill_dict, corrupt_func=undo_min_max_corrupt_func, preprocess_obj=StandardScalerTimeSeries(),\n",
    "                                                           batch_size=4000)\n",
    "\n",
    "# fit_model(model, loss_fn, train_loader, val_loader, optimizer, scheduler=None, num_epochs=10, verbose=True, early_stopper=None, device_ids=None)\n",
    "bin_history = experimentation.fit_model(bin_model, loss_fn, train_loader, val_loader, optimizer,\n",
    "                                    scheduler=scheduler, early_stopper=early_stoppper,\n",
    "                                    verbose=False, num_epochs=50)"
   ]
  },
  {
   "cell_type": "code",
   "execution_count": null,
   "id": "600cd9f8-d900-4cee-aa84-68da7938e14a",
   "metadata": {},
   "outputs": [],
   "source": [
    "fig, axs = plot_histories([baseline_history, dain_history, bin_history], ['Standard scaling', 'DAIN', 'BiN'])"
   ]
  },
  {
   "cell_type": "markdown",
   "id": "7b16c757-15cf-491a-b70a-a57180e80730",
   "metadata": {
    "tags": []
   },
   "source": [
    "## Full DAIN "
   ]
  },
  {
   "cell_type": "code",
   "execution_count": 39,
   "id": "a3bf8e78-0b91-43d4-a70f-433436a95169",
   "metadata": {
    "tags": []
   },
   "outputs": [
    {
     "data": {
      "text/plain": [
       "<module 'src.preprocessing.adaptive_transformations' from '/home/mas322/amex-project/src/preprocessing/adaptive_transformations.py'>"
      ]
     },
     "execution_count": 39,
     "metadata": {},
     "output_type": "execute_result"
    }
   ],
   "source": [
    "import src.preprocessing.adaptive_transformations as at\n",
    "importlib.reload(at)"
   ]
  },
  {
   "cell_type": "code",
   "execution_count": 40,
   "id": "aaaa2ef2-07bc-4fb2-9ffb-e5c94b0449ca",
   "metadata": {
    "tags": []
   },
   "outputs": [],
   "source": [
    "def dain_full_optimizer_init(model, lr=1e-3):\n",
    "    return torch.optim.Adam([\n",
    "        {'params': model.gru.parameters()},\n",
    "        {'params': model.emb_layers.parameters()},\n",
    "        {'params': model.feed_forward.parameters()},\n",
    "        {'params': model.preprocess.winsorization_params(), 'lr': lr * 1e-6},\n",
    "        {'params': model.preprocess.power_transform_params(), 'lr': lr * 1e-6},\n",
    "        {'params': model.preprocess.scaling_layer.parameters(), 'lr': lr * 1e-4},\n",
    "        {'params': model.preprocess.shift_layer.parameters(), 'lr': lr * 1e-4},\n",
    "    ], lr=lr)\n",
    "\n",
    "torch.manual_seed(42) ; np.random.seed(42)\n",
    "mean_lr, std_lr, scale_lr = 1e-3, 1e-3, 10\n",
    "dain_model = AdaptiveGRUNet(lambda D, T: at.FullDAIN_Layer(input_dim=D, time_series_length=T, adaptive_scale=True, adaptive_power_transform=True, adaptive_shift=True, adaptive_winsorization=True), 188, 128, 2, 4)\n",
    "optimizer = dain_full_optimizer_init(dain_model, lr=1e-3)\n",
    "scheduler = torch.optim.lr_scheduler.MultiStepLR(optimizer, milestones=[4, 7], gamma=0.1)\n",
    "early_stoppper = experimentation.EarlyStopper(patience=5)"
   ]
  },
  {
   "cell_type": "code",
   "execution_count": 8,
   "id": "2c36e0b9-70d0-445e-b2c4-abd8b228aef5",
   "metadata": {
    "tags": []
   },
   "outputs": [],
   "source": [
    "# no preprocessing on the data\n",
    "train_loader, val_loader = experimentation.load_numpy_data(os.path.join(cfg['dataset_directory'], \"derived\", \"processed-splits\"), [0, 1],\n",
    "                                                           fill_dict, corrupt_func=undo_min_max_corrupt_func, preprocess_obj=None,\n",
    "                                                           batch_size=4024)"
   ]
  },
  {
   "cell_type": "code",
   "execution_count": 41,
   "id": "1fde0fd0-aed0-441d-9db6-e307b91b3f2d",
   "metadata": {
    "tags": []
   },
   "outputs": [
    {
     "data": {
      "application/vnd.jupyter.widget-view+json": {
       "model_id": "36eee9dffc8f4f818c7580dc7ef6f57b",
       "version_major": 2,
       "version_minor": 0
      },
      "text/plain": [
       "  0%|          | 0/1 [00:00<?, ?it/s]"
      ]
     },
     "metadata": {},
     "output_type": "display_data"
    },
    {
     "name": "stdout",
     "output_type": "stream",
     "text": [
      "tensor([[[    nan,     nan,     nan,  ..., -0.0047,  0.0932,  0.4211],\n",
      "         [    nan,     nan,     nan,  ..., -0.3484,  0.3901,  0.4521],\n",
      "         [ 0.4485, -0.4678, -0.0624,  ...,  0.4485,     nan,  0.2253],\n",
      "         ...,\n",
      "         [    nan,     nan,     nan,  ..., -1.9434,  0.2757,  0.6024],\n",
      "         [    nan,     nan,     nan,  ..., -0.0294,  0.1986,  0.3146],\n",
      "         [    nan,     nan,     nan,  ...,     nan, -0.1516,  0.8898]],\n",
      "\n",
      "        [[    nan,     nan,     nan,  ..., -0.0950, -0.9111,  0.2756],\n",
      "         [-1.8048,     nan,     nan,  ...,     nan,     nan,     nan],\n",
      "         [    nan,     nan,     nan,  ..., -0.7948, -0.3893, -0.1442],\n",
      "         ...,\n",
      "         [    nan,     nan,     nan,  ..., -1.9434,  0.2757,  0.6024],\n",
      "         [    nan,     nan,     nan,  ..., -0.0791,  0.2248,  0.3088],\n",
      "         [    nan,     nan,     nan,  ...,     nan, -0.1516,  0.8898]],\n",
      "\n",
      "        [[    nan,     nan,     nan,  ...,  0.0336, -0.0322,  0.7357],\n",
      "         [    nan,     nan,     nan,  ..., -0.3484,  0.3901,  0.4521],\n",
      "         [   -inf,    -inf,     nan,  ..., -1.2313, -0.1326,  0.3782],\n",
      "         ...,\n",
      "         [    nan, -2.7899, -3.3760,  ...,     nan, -0.6486, -0.4874],\n",
      "         [    nan,     nan,     nan,  ..., -0.0555,  0.1739,  0.3257],\n",
      "         [-1.4733, -1.4363, -1.4415,  ...,     nan, -1.1231, -0.9338]],\n",
      "\n",
      "        ...,\n",
      "\n",
      "        [[    nan, -1.4892,     nan,  ...,     nan,     nan,  0.7571],\n",
      "         [    nan, -3.0579, -0.4990,  ...,  0.4544,     nan, -1.7980],\n",
      "         [    nan, -2.0823,    -inf,  ...,  1.0281,     nan,     nan],\n",
      "         ...,\n",
      "         [    nan,     nan,     nan,  ..., -1.9434,  0.2757,  0.6024],\n",
      "         [    nan,     nan,     nan,  ..., -0.0862,  0.1827,  0.2579],\n",
      "         [    nan,     nan,     nan,  ...,     nan, -0.1516,  0.8898]],\n",
      "\n",
      "        [[    nan,     nan,     nan,  ..., -0.7876,  0.1430,  0.0665],\n",
      "         [-1.6769,  0.0662,  0.7504,  ...,     nan,     nan,     nan],\n",
      "         [   -inf,    -inf, -1.2464,  ...,     nan, -0.5532, -0.0226],\n",
      "         ...,\n",
      "         [    nan,     nan,     nan,  ...,  0.4910, -0.4440, -1.8300],\n",
      "         [    nan,     nan,     nan,  ..., -0.0576,  0.1523,  0.3666],\n",
      "         [    nan, -0.8960,     nan,  ...,  0.5078,  0.1186,     nan]],\n",
      "\n",
      "        [[    nan,     nan,     nan,  ..., -1.0199, -0.0204,  0.1986],\n",
      "         [    nan,  0.0798, -0.2482,  ...,  0.1182, -0.5369,     nan],\n",
      "         [    nan, -1.2967, -4.1299,  ...,  0.1042,  0.4134,  0.5614],\n",
      "         ...,\n",
      "         [    nan,     nan,     nan,  ...,  0.4910, -0.4440, -1.8300],\n",
      "         [    nan,     nan,     nan,  ..., -0.1045,  0.1478,  0.3830],\n",
      "         [    nan,     nan,     nan,  ..., -0.1286,  0.1768,  0.2768]]]) tensor([[[    nan,     nan,     nan,  ..., -0.9470,  0.3636,  0.6666],\n",
      "         [-0.5210, -1.2967, -0.2847,  ...,     nan,  0.6451,  0.6295],\n",
      "         [    nan,  0.2276,  0.5925,  ..., -1.1827,  0.8592,  0.6839],\n",
      "         ...,\n",
      "         [    nan,     nan,     nan,  ..., -0.6651, -0.2185,  0.9151],\n",
      "         [    nan,     nan,     nan,  ..., -0.2075,  0.3512, -0.2250],\n",
      "         [    nan,     nan, -2.0911,  ...,     nan, -0.8119,  0.4617]],\n",
      "\n",
      "        [[-1.5342,     nan, -2.3671,  ...,  0.7109,  0.5542,  0.3806],\n",
      "         [-1.0946,     nan,     nan,  ..., -0.1764,  0.3735,     nan],\n",
      "         [    nan,     nan,  0.2258,  ...,     nan, -1.0515, -3.5933],\n",
      "         ...,\n",
      "         [    nan,     nan,     nan,  ...,     nan,  0.2176,  0.5503],\n",
      "         [    nan,     nan,     nan,  ..., -0.2410, -0.4158,  0.4002],\n",
      "         [    nan, -1.5545, -4.2454,  ...,     nan, -0.3875,  1.3398]],\n",
      "\n",
      "        [[    nan,     nan,     nan,  ...,  0.6107, -0.8903,  0.1757],\n",
      "         [    nan,     nan,     nan,  ..., -2.9793, -0.0604, -0.3092],\n",
      "         [ 0.7472,     nan,     nan,  ..., -0.4703,     nan,     nan],\n",
      "         ...,\n",
      "         [    nan,     nan,     nan,  ...,     nan,  0.1838,  0.6730],\n",
      "         [    nan,     nan,     nan,  ..., -0.3386, -0.0634, -0.0436],\n",
      "         [    nan,     nan,     nan,  ...,     nan, -0.1660,  0.7513]],\n",
      "\n",
      "        ...,\n",
      "\n",
      "        [[    nan,     nan,     nan,  ...,     nan,  0.2685,  0.1781],\n",
      "         [    nan,     nan,     nan,  ...,  0.5193, -0.6275, -0.6777],\n",
      "         [ 1.2820,  0.3911, -2.0489,  ..., -0.9898, -1.9141,     nan],\n",
      "         ...,\n",
      "         [    nan,     nan,     nan,  ...,     nan,  0.3056,  0.6891],\n",
      "         [    nan,     nan,     nan,  ...,  0.0281,  0.1527, -1.0169],\n",
      "         [    nan,     nan,     nan,  ..., -1.0676,     nan, -0.0879]],\n",
      "\n",
      "        [[    nan,     nan,     nan,  ...,  0.5105, -1.0751,  0.3519],\n",
      "         [-0.2912, -0.7736,     nan,  ...,     nan,     nan,  0.0179],\n",
      "         [    nan,     nan,     nan,  ...,  0.2734, -0.0734,  0.0340],\n",
      "         ...,\n",
      "         [    nan,     nan,     nan,  ...,  0.3552, -0.0724, -1.1408],\n",
      "         [    nan,     nan,     nan,  ..., -0.1415, -0.1300,  0.0227],\n",
      "         [    nan,     nan,     nan,  ...,     nan, -4.6814,  0.8424]],\n",
      "\n",
      "        [[    nan,     nan,     nan,  ..., -1.3949, -0.5937, -0.4247],\n",
      "         [ 0.2618,     nan,     nan,  ...,     nan,     nan,  0.9108],\n",
      "         [-2.5421,     nan, -0.0782,  ..., -1.1263,  0.7603, -1.4725],\n",
      "         ...,\n",
      "         [-0.6809,     nan,     nan,  ..., -1.6045,  0.2630, -0.6766],\n",
      "         [    nan,     nan,     nan,  ..., -0.4451,  0.6818, -0.6253],\n",
      "         [    nan,     nan,     nan,  ..., -0.3691, -0.7766, -2.7744]]])\n"
     ]
    },
    {
     "ename": "RuntimeError",
     "evalue": "element 0 of tensors does not require grad and does not have a grad_fn",
     "output_type": "error",
     "traceback": [
      "\u001b[0;31m---------------------------------------------------------------------------\u001b[0m",
      "\u001b[0;31mRuntimeError\u001b[0m                              Traceback (most recent call last)",
      "Cell \u001b[0;32mIn[41], line 2\u001b[0m\n\u001b[1;32m      1\u001b[0m \u001b[38;5;66;03m# fit_model(model, loss_fn, train_loader, val_loader, optimizer, scheduler=None, num_epochs=10, verbose=True, early_stopper=None, device_ids=None)\u001b[39;00m\n\u001b[0;32m----> 2\u001b[0m full_dain_history \u001b[38;5;241m=\u001b[39m \u001b[43mexperimentation\u001b[49m\u001b[38;5;241;43m.\u001b[39;49m\u001b[43mfit_model\u001b[49m\u001b[43m(\u001b[49m\u001b[43mdain_model\u001b[49m\u001b[43m,\u001b[49m\u001b[43m \u001b[49m\u001b[43mloss_fn\u001b[49m\u001b[43m,\u001b[49m\u001b[43m \u001b[49m\u001b[43mtrain_loader\u001b[49m\u001b[43m,\u001b[49m\u001b[43m \u001b[49m\u001b[43mval_loader\u001b[49m\u001b[43m,\u001b[49m\u001b[43m \u001b[49m\u001b[43moptimizer\u001b[49m\u001b[43m,\u001b[49m\n\u001b[1;32m      3\u001b[0m \u001b[43m                                    \u001b[49m\u001b[43mscheduler\u001b[49m\u001b[38;5;241;43m=\u001b[39;49m\u001b[43mscheduler\u001b[49m\u001b[43m,\u001b[49m\u001b[43m \u001b[49m\u001b[43mearly_stopper\u001b[49m\u001b[38;5;241;43m=\u001b[39;49m\u001b[43mearly_stoppper\u001b[49m\u001b[43m,\u001b[49m\n\u001b[1;32m      4\u001b[0m \u001b[43m                                    \u001b[49m\u001b[43mverbose\u001b[49m\u001b[38;5;241;43m=\u001b[39;49m\u001b[38;5;28;43;01mFalse\u001b[39;49;00m\u001b[43m,\u001b[49m\u001b[43m \u001b[49m\u001b[43mnum_epochs\u001b[49m\u001b[38;5;241;43m=\u001b[39;49m\u001b[38;5;241;43m1\u001b[39;49m\u001b[43m,\u001b[49m\u001b[43m \u001b[49m\u001b[43mdevice_ids\u001b[49m\u001b[38;5;241;43m=\u001b[39;49m\u001b[38;5;124;43m'\u001b[39;49m\u001b[38;5;124;43mcpu\u001b[39;49m\u001b[38;5;124;43m'\u001b[39;49m\u001b[43m)\u001b[49m\n",
      "File \u001b[0;32m~/amex-project/src/lib/experimentation.py:211\u001b[0m, in \u001b[0;36mfit_model\u001b[0;34m(model, loss_fn, train_loader, val_loader, optimizer, scheduler, num_epochs, verbose, early_stopper, device_ids)\u001b[0m\n\u001b[1;32m    206\u001b[0m \u001b[38;5;28;01mfor\u001b[39;00m epoch \u001b[38;5;129;01min\u001b[39;00m \u001b[38;5;28mrange\u001b[39m(num_epochs):\n\u001b[1;32m    207\u001b[0m     \u001b[38;5;66;03m# print('EPOCH {}:'.format(epoch + 1))\u001b[39;00m\n\u001b[1;32m    208\u001b[0m \n\u001b[1;32m    209\u001b[0m     \u001b[38;5;66;03m# Make sure gradient tracking is on, and do a pass over the data\u001b[39;00m\n\u001b[1;32m    210\u001b[0m     model\u001b[38;5;241m.\u001b[39mtrain(\u001b[38;5;28;01mTrue\u001b[39;00m)\n\u001b[0;32m--> 211\u001b[0m     avg_loss, avg_metric \u001b[38;5;241m=\u001b[39m \u001b[43mtrain_one_epoch\u001b[49m\u001b[43m(\u001b[49m\u001b[43mmodel\u001b[49m\u001b[43m,\u001b[49m\u001b[43m \u001b[49m\u001b[43mloss_fn\u001b[49m\u001b[43m,\u001b[49m\u001b[43m \u001b[49m\u001b[43mtrain_loader\u001b[49m\u001b[43m,\u001b[49m\u001b[43m \u001b[49m\u001b[43moptimizer\u001b[49m\u001b[43m,\u001b[49m\u001b[43m \u001b[49m\u001b[43mepoch\u001b[49m\u001b[43m \u001b[49m\u001b[38;5;241;43m+\u001b[39;49m\u001b[43m \u001b[49m\u001b[38;5;241;43m1\u001b[39;49m\u001b[43m,\u001b[49m\u001b[43m \u001b[49m\u001b[43mdev\u001b[49m\u001b[43m \u001b[49m\u001b[38;5;241;43m=\u001b[39;49m\u001b[43m \u001b[49m\u001b[43mdev\u001b[49m\u001b[43m)\u001b[49m\n\u001b[1;32m    213\u001b[0m     running_vloss \u001b[38;5;241m=\u001b[39m \u001b[38;5;241m0.0\u001b[39m\n\u001b[1;32m    214\u001b[0m     running_vmetric \u001b[38;5;241m=\u001b[39m \u001b[38;5;241m0.0\u001b[39m\n",
      "File \u001b[0;32m~/amex-project/src/lib/experimentation.py:155\u001b[0m, in \u001b[0;36mtrain_one_epoch\u001b[0;34m(model, loss_fn, training_loader, optimizer, epoch_number, dev)\u001b[0m\n\u001b[1;32m    153\u001b[0m \u001b[38;5;66;03m# Compute the loss and its gradients\u001b[39;00m\n\u001b[1;32m    154\u001b[0m loss \u001b[38;5;241m=\u001b[39m loss_fn(outputs, labels)\n\u001b[0;32m--> 155\u001b[0m \u001b[43mloss\u001b[49m\u001b[38;5;241;43m.\u001b[39;49m\u001b[43mbackward\u001b[49m\u001b[43m(\u001b[49m\u001b[43m)\u001b[49m\n\u001b[1;32m    157\u001b[0m \u001b[38;5;66;03m# Adjust learning weights\u001b[39;00m\n\u001b[1;32m    158\u001b[0m optimizer\u001b[38;5;241m.\u001b[39mstep()\n",
      "File \u001b[0;32m~/anaconda3/envs/cudf-torch/lib/python3.10/site-packages/torch/_tensor.py:487\u001b[0m, in \u001b[0;36mTensor.backward\u001b[0;34m(self, gradient, retain_graph, create_graph, inputs)\u001b[0m\n\u001b[1;32m    477\u001b[0m \u001b[38;5;28;01mif\u001b[39;00m has_torch_function_unary(\u001b[38;5;28mself\u001b[39m):\n\u001b[1;32m    478\u001b[0m     \u001b[38;5;28;01mreturn\u001b[39;00m handle_torch_function(\n\u001b[1;32m    479\u001b[0m         Tensor\u001b[38;5;241m.\u001b[39mbackward,\n\u001b[1;32m    480\u001b[0m         (\u001b[38;5;28mself\u001b[39m,),\n\u001b[0;32m   (...)\u001b[0m\n\u001b[1;32m    485\u001b[0m         inputs\u001b[38;5;241m=\u001b[39minputs,\n\u001b[1;32m    486\u001b[0m     )\n\u001b[0;32m--> 487\u001b[0m \u001b[43mtorch\u001b[49m\u001b[38;5;241;43m.\u001b[39;49m\u001b[43mautograd\u001b[49m\u001b[38;5;241;43m.\u001b[39;49m\u001b[43mbackward\u001b[49m\u001b[43m(\u001b[49m\n\u001b[1;32m    488\u001b[0m \u001b[43m    \u001b[49m\u001b[38;5;28;43mself\u001b[39;49m\u001b[43m,\u001b[49m\u001b[43m \u001b[49m\u001b[43mgradient\u001b[49m\u001b[43m,\u001b[49m\u001b[43m \u001b[49m\u001b[43mretain_graph\u001b[49m\u001b[43m,\u001b[49m\u001b[43m \u001b[49m\u001b[43mcreate_graph\u001b[49m\u001b[43m,\u001b[49m\u001b[43m \u001b[49m\u001b[43minputs\u001b[49m\u001b[38;5;241;43m=\u001b[39;49m\u001b[43minputs\u001b[49m\n\u001b[1;32m    489\u001b[0m \u001b[43m\u001b[49m\u001b[43m)\u001b[49m\n",
      "File \u001b[0;32m~/anaconda3/envs/cudf-torch/lib/python3.10/site-packages/torch/autograd/__init__.py:200\u001b[0m, in \u001b[0;36mbackward\u001b[0;34m(tensors, grad_tensors, retain_graph, create_graph, grad_variables, inputs)\u001b[0m\n\u001b[1;32m    195\u001b[0m     retain_graph \u001b[38;5;241m=\u001b[39m create_graph\n\u001b[1;32m    197\u001b[0m \u001b[38;5;66;03m# The reason we repeat same the comment below is that\u001b[39;00m\n\u001b[1;32m    198\u001b[0m \u001b[38;5;66;03m# some Python versions print out the first line of a multi-line function\u001b[39;00m\n\u001b[1;32m    199\u001b[0m \u001b[38;5;66;03m# calls in the traceback and some print out the last line\u001b[39;00m\n\u001b[0;32m--> 200\u001b[0m \u001b[43mVariable\u001b[49m\u001b[38;5;241;43m.\u001b[39;49m\u001b[43m_execution_engine\u001b[49m\u001b[38;5;241;43m.\u001b[39;49m\u001b[43mrun_backward\u001b[49m\u001b[43m(\u001b[49m\u001b[43m  \u001b[49m\u001b[38;5;66;43;03m# Calls into the C++ engine to run the backward pass\u001b[39;49;00m\n\u001b[1;32m    201\u001b[0m \u001b[43m    \u001b[49m\u001b[43mtensors\u001b[49m\u001b[43m,\u001b[49m\u001b[43m \u001b[49m\u001b[43mgrad_tensors_\u001b[49m\u001b[43m,\u001b[49m\u001b[43m \u001b[49m\u001b[43mretain_graph\u001b[49m\u001b[43m,\u001b[49m\u001b[43m \u001b[49m\u001b[43mcreate_graph\u001b[49m\u001b[43m,\u001b[49m\u001b[43m \u001b[49m\u001b[43minputs\u001b[49m\u001b[43m,\u001b[49m\n\u001b[1;32m    202\u001b[0m \u001b[43m    \u001b[49m\u001b[43mallow_unreachable\u001b[49m\u001b[38;5;241;43m=\u001b[39;49m\u001b[38;5;28;43;01mTrue\u001b[39;49;00m\u001b[43m,\u001b[49m\u001b[43m \u001b[49m\u001b[43maccumulate_grad\u001b[49m\u001b[38;5;241;43m=\u001b[39;49m\u001b[38;5;28;43;01mTrue\u001b[39;49;00m\u001b[43m)\u001b[49m\n",
      "File \u001b[0;32m~/amex-project/src/preprocessing/adaptive_transformations.py:78\u001b[0m, in \u001b[0;36mFullDAIN_Layer.__init__.<locals>.power_transform_backward_hook\u001b[0;34m(_)\u001b[0m\n\u001b[1;32m     76\u001b[0m \u001b[38;5;28mprint\u001b[39m(torch\u001b[38;5;241m.\u001b[39mlog(x), torch\u001b[38;5;241m.\u001b[39mlog(target_samples))\n\u001b[1;32m     77\u001b[0m loss \u001b[38;5;241m=\u001b[39m \u001b[38;5;28mself\u001b[39m\u001b[38;5;241m.\u001b[39mkl_loss(x, target_samples) \u001b[38;5;66;03m# (1,)\u001b[39;00m\n\u001b[0;32m---> 78\u001b[0m \u001b[43mloss\u001b[49m\u001b[38;5;241;43m.\u001b[39;49m\u001b[43mbackward\u001b[49m\u001b[43m(\u001b[49m\u001b[43minputs\u001b[49m\u001b[38;5;241;43m=\u001b[39;49m\u001b[43mx\u001b[49m\u001b[43m)\u001b[49m\n\u001b[1;32m     79\u001b[0m \u001b[38;5;28mprint\u001b[39m(x\u001b[38;5;241m.\u001b[39mgrad)\n\u001b[1;32m     80\u001b[0m \u001b[38;5;28mprint\u001b[39m(x\u001b[38;5;241m.\u001b[39mgrad\u001b[38;5;241m.\u001b[39mshape)\n",
      "File \u001b[0;32m~/anaconda3/envs/cudf-torch/lib/python3.10/site-packages/torch/_tensor.py:487\u001b[0m, in \u001b[0;36mTensor.backward\u001b[0;34m(self, gradient, retain_graph, create_graph, inputs)\u001b[0m\n\u001b[1;32m    477\u001b[0m \u001b[38;5;28;01mif\u001b[39;00m has_torch_function_unary(\u001b[38;5;28mself\u001b[39m):\n\u001b[1;32m    478\u001b[0m     \u001b[38;5;28;01mreturn\u001b[39;00m handle_torch_function(\n\u001b[1;32m    479\u001b[0m         Tensor\u001b[38;5;241m.\u001b[39mbackward,\n\u001b[1;32m    480\u001b[0m         (\u001b[38;5;28mself\u001b[39m,),\n\u001b[0;32m   (...)\u001b[0m\n\u001b[1;32m    485\u001b[0m         inputs\u001b[38;5;241m=\u001b[39minputs,\n\u001b[1;32m    486\u001b[0m     )\n\u001b[0;32m--> 487\u001b[0m \u001b[43mtorch\u001b[49m\u001b[38;5;241;43m.\u001b[39;49m\u001b[43mautograd\u001b[49m\u001b[38;5;241;43m.\u001b[39;49m\u001b[43mbackward\u001b[49m\u001b[43m(\u001b[49m\n\u001b[1;32m    488\u001b[0m \u001b[43m    \u001b[49m\u001b[38;5;28;43mself\u001b[39;49m\u001b[43m,\u001b[49m\u001b[43m \u001b[49m\u001b[43mgradient\u001b[49m\u001b[43m,\u001b[49m\u001b[43m \u001b[49m\u001b[43mretain_graph\u001b[49m\u001b[43m,\u001b[49m\u001b[43m \u001b[49m\u001b[43mcreate_graph\u001b[49m\u001b[43m,\u001b[49m\u001b[43m \u001b[49m\u001b[43minputs\u001b[49m\u001b[38;5;241;43m=\u001b[39;49m\u001b[43minputs\u001b[49m\n\u001b[1;32m    489\u001b[0m \u001b[43m\u001b[49m\u001b[43m)\u001b[49m\n",
      "File \u001b[0;32m~/anaconda3/envs/cudf-torch/lib/python3.10/site-packages/torch/autograd/__init__.py:200\u001b[0m, in \u001b[0;36mbackward\u001b[0;34m(tensors, grad_tensors, retain_graph, create_graph, grad_variables, inputs)\u001b[0m\n\u001b[1;32m    195\u001b[0m     retain_graph \u001b[38;5;241m=\u001b[39m create_graph\n\u001b[1;32m    197\u001b[0m \u001b[38;5;66;03m# The reason we repeat same the comment below is that\u001b[39;00m\n\u001b[1;32m    198\u001b[0m \u001b[38;5;66;03m# some Python versions print out the first line of a multi-line function\u001b[39;00m\n\u001b[1;32m    199\u001b[0m \u001b[38;5;66;03m# calls in the traceback and some print out the last line\u001b[39;00m\n\u001b[0;32m--> 200\u001b[0m \u001b[43mVariable\u001b[49m\u001b[38;5;241;43m.\u001b[39;49m\u001b[43m_execution_engine\u001b[49m\u001b[38;5;241;43m.\u001b[39;49m\u001b[43mrun_backward\u001b[49m\u001b[43m(\u001b[49m\u001b[43m  \u001b[49m\u001b[38;5;66;43;03m# Calls into the C++ engine to run the backward pass\u001b[39;49;00m\n\u001b[1;32m    201\u001b[0m \u001b[43m    \u001b[49m\u001b[43mtensors\u001b[49m\u001b[43m,\u001b[49m\u001b[43m \u001b[49m\u001b[43mgrad_tensors_\u001b[49m\u001b[43m,\u001b[49m\u001b[43m \u001b[49m\u001b[43mretain_graph\u001b[49m\u001b[43m,\u001b[49m\u001b[43m \u001b[49m\u001b[43mcreate_graph\u001b[49m\u001b[43m,\u001b[49m\u001b[43m \u001b[49m\u001b[43minputs\u001b[49m\u001b[43m,\u001b[49m\n\u001b[1;32m    202\u001b[0m \u001b[43m    \u001b[49m\u001b[43mallow_unreachable\u001b[49m\u001b[38;5;241;43m=\u001b[39;49m\u001b[38;5;28;43;01mTrue\u001b[39;49;00m\u001b[43m,\u001b[49m\u001b[43m \u001b[49m\u001b[43maccumulate_grad\u001b[49m\u001b[38;5;241;43m=\u001b[39;49m\u001b[38;5;28;43;01mTrue\u001b[39;49;00m\u001b[43m)\u001b[49m\n",
      "\u001b[0;31mRuntimeError\u001b[0m: element 0 of tensors does not require grad and does not have a grad_fn"
     ]
    }
   ],
   "source": [
    "# fit_model(model, loss_fn, train_loader, val_loader, optimizer, scheduler=None, num_epochs=10, verbose=True, early_stopper=None, device_ids=None)\n",
    "full_dain_history = experimentation.fit_model(dain_model, loss_fn, train_loader, val_loader, optimizer,\n",
    "                                    scheduler=scheduler, early_stopper=early_stoppper,\n",
    "                                    verbose=False, num_epochs=1, device_ids='cpu')"
   ]
  },
  {
   "cell_type": "code",
   "execution_count": 11,
   "id": "a5126135-2145-4c93-9b4b-17a9dffd6316",
   "metadata": {
    "tags": []
   },
   "outputs": [
    {
     "data": {
      "text/plain": [
       "[Parameter containing:\n",
       " tensor([[[-0.3730, -0.3169,  0.2425,  ..., -0.3011, -0.0015, -0.2602],\n",
       "          [-0.1273, -0.0959, -0.2516,  ..., -0.0095, -0.1653, -0.3732],\n",
       "          [-0.2290,  0.0426, -0.1894,  ..., -0.0072,  0.2003,  0.2564],\n",
       "          ...,\n",
       "          [ 0.1004,  0.0367,  0.0323,  ..., -0.3791, -0.0400,  0.1154],\n",
       "          [ 0.1925,  0.5091, -0.3226,  ..., -0.1518, -0.1834, -0.0768],\n",
       "          [-0.0453, -0.2385, -0.0663,  ..., -0.4591, -0.3215,  0.1198]]],\n",
       "        requires_grad=True),\n",
       " Parameter containing:\n",
       " tensor([[[ 1.1305e-09, -1.3390e-08, -1.5605e-08,  ...,  2.2408e-08,\n",
       "            4.6157e-08,  5.2755e-08],\n",
       "          [-9.5393e-09, -9.4506e-09, -8.1414e-09,  ...,  3.9065e-09,\n",
       "            5.0789e-09,  8.6367e-09],\n",
       "          [-8.5659e-09, -8.0284e-09, -6.1517e-09,  ...,  2.9169e-08,\n",
       "            3.3015e-08,  2.6432e-08],\n",
       "          ...,\n",
       "          [ 4.7845e-09,  1.6773e-09,  5.4030e-09,  ..., -2.9624e-09,\n",
       "            6.3571e-09,  1.1428e-08],\n",
       "          [-5.0985e-09, -1.1607e-08,  1.7471e-08,  ..., -3.0072e-09,\n",
       "            3.0205e-08,  1.2862e-08],\n",
       "          [ 1.7175e-09, -4.6604e-09, -4.6079e-09,  ..., -2.9523e-09,\n",
       "           -5.2501e-09,  4.4332e-09]]], requires_grad=True),\n",
       " Parameter containing:\n",
       " tensor([[[1., 1., 1.,  ..., 1., 1., 1.],\n",
       "          [1., 1., 1.,  ..., 1., 1., 1.],\n",
       "          [1., 1., 1.,  ..., 1., 1., 1.],\n",
       "          ...,\n",
       "          [1., 1., 1.,  ..., 1., 1., 1.],\n",
       "          [1., 1., 1.,  ..., 1., 1., 1.],\n",
       "          [1., 1., 1.,  ..., 1., 1., 1.]]], requires_grad=True),\n",
       " Parameter containing:\n",
       " tensor([[ 1.0000e+00, -9.9189e-07, -7.7269e-07,  ..., -4.1454e-07,\n",
       "           7.7286e-07, -7.7237e-07],\n",
       "         [-4.4072e-06,  1.0000e+00,  4.4135e-06,  ...,  4.1608e-06,\n",
       "          -4.4107e-06,  4.4129e-06],\n",
       "         [-5.9899e-07,  6.1012e-07,  1.0000e+00,  ...,  6.1497e-07,\n",
       "          -5.9853e-07,  5.9898e-07],\n",
       "         ...,\n",
       "         [-3.0143e-07,  6.2963e-07,  3.0904e-07,  ...,  1.0000e+00,\n",
       "          -2.9905e-07,  3.0916e-07],\n",
       "         [-2.3961e-06,  3.6912e-06,  2.3815e-06,  ...,  3.5044e-06,\n",
       "           1.0000e+00,  2.3820e-06],\n",
       "         [-8.6725e-07,  7.7532e-07,  8.6519e-07,  ...,  8.9724e-07,\n",
       "          -8.6818e-07,  1.0000e+00]], requires_grad=True),\n",
       " Parameter containing:\n",
       " tensor([[ 1.0000e+00, -9.9051e-07, -1.4428e-06,  ..., -1.4068e-06,\n",
       "          -1.7728e-06, -1.4855e-06],\n",
       "         [ 2.0909e-06,  1.0000e+00,  3.7136e-07,  ...,  2.1641e-06,\n",
       "           2.5024e-06,  4.1381e-07],\n",
       "         [-1.8753e-06,  9.9427e-07,  1.0000e+00,  ...,  1.7876e-08,\n",
       "          -6.0199e-07,  2.7915e-07],\n",
       "         ...,\n",
       "         [ 1.0813e-06,  1.2180e-06,  1.3710e-06,  ...,  1.0000e+00,\n",
       "           8.9904e-07,  1.2632e-06],\n",
       "         [ 9.7390e-07,  4.6418e-06,  1.8395e-06,  ...,  2.4459e-06,\n",
       "           1.0000e+00,  1.4790e-06],\n",
       "         [ 2.5301e-06, -5.4652e-07,  8.8393e-07,  ...,  7.1970e-07,\n",
       "           1.2344e-06,  1.0000e+00]], requires_grad=True)]"
      ]
     },
     "execution_count": 11,
     "metadata": {},
     "output_type": "execute_result"
    }
   ],
   "source": [
    "list(dain_model.preprocess.parameters())"
   ]
  },
  {
   "cell_type": "code",
   "execution_count": 11,
   "id": "f7d704c6-aa2c-4642-b43e-7f1eaf977342",
   "metadata": {
    "tags": []
   },
   "outputs": [],
   "source": [
    "for X, _ in train_loader:\n",
    "    out = dain_model(X)\n",
    "    break"
   ]
  },
  {
   "cell_type": "code",
   "execution_count": 17,
   "id": "2e77fbcb-1d2a-4a8d-ae84-008398dae812",
   "metadata": {
    "tags": []
   },
   "outputs": [
    {
     "data": {
      "text/plain": [
       "Parameter containing:\n",
       "tensor([[[1., 1., 1.,  ..., 1., 1., 1.],\n",
       "         [1., 1., 1.,  ..., 1., 1., 1.],\n",
       "         [1., 1., 1.,  ..., 1., 1., 1.],\n",
       "         ...,\n",
       "         [1., 1., 1.,  ..., 1., 1., 1.],\n",
       "         [1., 1., 1.,  ..., 1., 1., 1.],\n",
       "         [1., 1., 1.,  ..., 1., 1., 1.]]], requires_grad=True)"
      ]
     },
     "execution_count": 17,
     "metadata": {},
     "output_type": "execute_result"
    }
   ],
   "source": [
    "dain_model.preprocess.lambd"
   ]
  },
  {
   "cell_type": "code",
   "execution_count": 10,
   "id": "e160efbf-6335-4f92-8dbe-bafb74ad793c",
   "metadata": {
    "tags": []
   },
   "outputs": [
    {
     "data": {
      "text/plain": [
       "tensor(False)"
      ]
     },
     "execution_count": 10,
     "metadata": {},
     "output_type": "execute_result"
    }
   ],
   "source": [
    "torch.any(torch.isnan(torch.pow(1 + X,))"
   ]
  }
 ],
 "metadata": {
  "kernelspec": {
   "display_name": "cudf_torch",
   "language": "python",
   "name": "cudf_torch"
  },
  "language_info": {
   "codemirror_mode": {
    "name": "ipython",
    "version": 3
   },
   "file_extension": ".py",
   "mimetype": "text/x-python",
   "name": "python",
   "nbconvert_exporter": "python",
   "pygments_lexer": "ipython3",
   "version": "3.10.11"
  }
 },
 "nbformat": 4,
 "nbformat_minor": 5
}
