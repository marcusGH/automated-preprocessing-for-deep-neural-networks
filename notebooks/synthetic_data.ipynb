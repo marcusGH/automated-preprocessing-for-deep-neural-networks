{
 "cells": [
  {
   "cell_type": "markdown",
   "id": "5ea2cab7-e720-40cf-bfb6-c09431f083fc",
   "metadata": {},
   "source": [
    "# Synthetic data\n",
    "\n",
    "We can test our Python module doing this:"
   ]
  },
  {
   "cell_type": "code",
   "execution_count": 1,
   "id": "b637d872-0507-44df-b1e3-d723a162f0df",
   "metadata": {
    "tags": []
   },
   "outputs": [],
   "source": [
    "from src.lib import synthetic_data"
   ]
  },
  {
   "cell_type": "code",
   "execution_count": 27,
   "id": "297754f3-f0e9-476b-a66d-8ab134e52323",
   "metadata": {
    "tags": []
   },
   "outputs": [],
   "source": [
    "import matplotlib.pyplot as plt\n",
    "import numpy as np\n",
    "import scipy\n",
    "from scipy.integrate import quad\n",
    "from scipy import stats\n",
    "from src.lib.synthetic_data import SyntheticData\n",
    "from tqdm.auto import tqdm\n",
    "\n",
    "def plot_hist_with_pdf(xs, f):\n",
    "    fig, ax = plt.subplots(figsize=(5,5))\n",
    "\n",
    "    A, B = np.min(xs), np.max(xs)\n",
    "\n",
    "    C = quad(f, A, B)[0]\n",
    "    x = np.linspace(A, B, 10000)\n",
    "\n",
    "    ax.hist(xs, bins = 200, density = True)\n",
    "    ax.plot(x, f(x) / C, color='red')\n",
    "    return fig, ax\n",
    "\n",
    "D = 2\n",
    "T = 6\n",
    "# lower bound, upper bound, and unormalized PDF\n",
    "bounds = [(-3, 8), (-25, 20)]\n",
    "f1 = lambda x: 10 * stats.norm.cdf(10 * x) * stats.norm.pdf(x) + 3 * np.where(x > 6, np.exp(x - 6), 0) * np.where(x < 6.2, np.exp(6.2 - x), 0)\n",
    "f2 = lambda x: np.where(x > 3, np.exp(7-x), np.exp(x / 10) * (10 * np.sin(x) + 10))\n",
    "# both of the two time-series will be q=3 and q=2, respecitvely\n",
    "thetas = np.array([\n",
    "    [-1., 0.5, -0.2, 0.8],\n",
    "    [-1., 0.3, 0.9, 0.0]\n",
    "    ])\n",
    "\n",
    "np.random.seed(1)\n",
    "synth_data = SyntheticData(\n",
    "    dim_size = D,\n",
    "    time_series_length = T,\n",
    "    pdfs = [f1, f2],\n",
    "    pdf_bounds = bounds,\n",
    "    ar_q = 3,\n",
    "    ar_thetas = thetas,\n",
    "    cross_variables_cor_init_sigma=1.4,\n",
    "    response_noise_sigma=0.5,\n",
    "    response_beta_sigma=2.0,\n",
    ")\n",
    "\n",
    "np.random.seed(1)\n",
    "synth_data_norm = SyntheticData(\n",
    "    dim_size = D,\n",
    "    time_series_length=T,\n",
    "    pdfs = [scipy.stats.norm.pdf, scipy.stats.norm.pdf],\n",
    "    ar_q = 3,\n",
    "    ar_thetas=thetas,\n",
    "    pdf_bounds= [(-5, 5), (-5, 5)],\n",
    "    cross_variables_cor_init_sigma=1.4,\n",
    "    response_noise_sigma=0.5,\n",
    "    response_beta_sigma=2.0,\n",
    ")\n",
    "\n",
    "np.random.seed(1)\n",
    "norm_datasets = []\n",
    "non_norm_datasets = []\n",
    "for i in range(50):\n",
    "    # U, y = synth_data.generate_data(n = 10000, return_uniform=True)\n",
    "    # X_non_normal = synth_data.uniform_to_pdf_samples(U)\n",
    "    # X_normal = synth_data_norm.uniform_to_pdf_samples(U)\n",
    "    # datasets.append((X_non_normal, X_normal, y))\n",
    "    non_norm_datasets.append(synth_data.generate_data(n=10000, return_uniform=False, random_state=i))\n",
    "    norm_datasets.append(synth_data_norm.generate_data(n=10000, return_uniform=False, random_state=i))\n",
    "    \n",
    "# fig, _ = plot_hist_with_pdf(X_non_normal[:, 0, 0], f1)\n",
    "# plt.show()\n",
    "# fig, _ = plot_hist_with_pdf(X_non_normal[:, 1, 0], f2)\n",
    "# plt.show()\n",
    "\n",
    "# fig, _ = plot_hist_with_pdf(X_normal[:, 0, 0], scipy.stats.norm.pdf)\n",
    "# plt.show()\n",
    "# fig, _ = plot_hist_with_pdf(X_normal[:, 1, 0], scipy.stats.norm.pdf)\n",
    "# plt.show()"
   ]
  },
  {
   "cell_type": "code",
   "execution_count": 28,
   "id": "05f82c7d-a3ff-4ac7-b691-a368791f25c9",
   "metadata": {
    "tags": []
   },
   "outputs": [
    {
     "data": {
      "application/vnd.jupyter.widget-view+json": {
       "model_id": "f3563b2715cd425cb8e7059db4803bdf",
       "version_major": 2,
       "version_minor": 0
      },
      "text/plain": [
       "  0%|          | 0/50 [00:00<?, ?it/s]"
      ]
     },
     "metadata": {},
     "output_type": "display_data"
    },
    {
     "data": {
      "application/vnd.jupyter.widget-view+json": {
       "model_id": "3257f83b9e894a58a7f8b274df4ca553",
       "version_major": 2,
       "version_minor": 0
      },
      "text/plain": [
       "  0%|          | 0/30 [00:00<?, ?it/s]"
      ]
     },
     "metadata": {},
     "output_type": "display_data"
    },
    {
     "data": {
      "application/vnd.jupyter.widget-view+json": {
       "model_id": "a7287e0879a34f108d0cb7e814c142e0",
       "version_major": 2,
       "version_minor": 0
      },
      "text/plain": [
       "  0%|          | 0/30 [00:00<?, ?it/s]"
      ]
     },
     "metadata": {},
     "output_type": "display_data"
    },
    {
     "data": {
      "application/vnd.jupyter.widget-view+json": {
       "model_id": "8315e8fa44b24e15af0cb0a9825749d0",
       "version_major": 2,
       "version_minor": 0
      },
      "text/plain": [
       "  0%|          | 0/30 [00:00<?, ?it/s]"
      ]
     },
     "metadata": {},
     "output_type": "display_data"
    },
    {
     "data": {
      "application/vnd.jupyter.widget-view+json": {
       "model_id": "5697b110a0f34cbbb523c780b03f604b",
       "version_major": 2,
       "version_minor": 0
      },
      "text/plain": [
       "  0%|          | 0/30 [00:00<?, ?it/s]"
      ]
     },
     "metadata": {},
     "output_type": "display_data"
    },
    {
     "data": {
      "application/vnd.jupyter.widget-view+json": {
       "model_id": "8614e4cc03ed44df9aaeaeddfa4c08b5",
       "version_major": 2,
       "version_minor": 0
      },
      "text/plain": [
       "  0%|          | 0/30 [00:00<?, ?it/s]"
      ]
     },
     "metadata": {},
     "output_type": "display_data"
    },
    {
     "data": {
      "application/vnd.jupyter.widget-view+json": {
       "model_id": "c409df7d30f34de2b61c3eceab3379f9",
       "version_major": 2,
       "version_minor": 0
      },
      "text/plain": [
       "  0%|          | 0/30 [00:00<?, ?it/s]"
      ]
     },
     "metadata": {},
     "output_type": "display_data"
    },
    {
     "data": {
      "application/vnd.jupyter.widget-view+json": {
       "model_id": "9713b68bc02a452ba651cfe9499b0647",
       "version_major": 2,
       "version_minor": 0
      },
      "text/plain": [
       "  0%|          | 0/30 [00:00<?, ?it/s]"
      ]
     },
     "metadata": {},
     "output_type": "display_data"
    },
    {
     "data": {
      "application/vnd.jupyter.widget-view+json": {
       "model_id": "60f9879c89224bb48510f545204b90d5",
       "version_major": 2,
       "version_minor": 0
      },
      "text/plain": [
       "  0%|          | 0/30 [00:00<?, ?it/s]"
      ]
     },
     "metadata": {},
     "output_type": "display_data"
    },
    {
     "data": {
      "application/vnd.jupyter.widget-view+json": {
       "model_id": "b73d10f703f0421db3eda59d6b893c42",
       "version_major": 2,
       "version_minor": 0
      },
      "text/plain": [
       "  0%|          | 0/30 [00:00<?, ?it/s]"
      ]
     },
     "metadata": {},
     "output_type": "display_data"
    },
    {
     "data": {
      "application/vnd.jupyter.widget-view+json": {
       "model_id": "543d5cfcefe54088bd9700d87b54b493",
       "version_major": 2,
       "version_minor": 0
      },
      "text/plain": [
       "  0%|          | 0/30 [00:00<?, ?it/s]"
      ]
     },
     "metadata": {},
     "output_type": "display_data"
    },
    {
     "data": {
      "application/vnd.jupyter.widget-view+json": {
       "model_id": "9b63bbf2d0b74dcaa077dd5978d3e6a5",
       "version_major": 2,
       "version_minor": 0
      },
      "text/plain": [
       "  0%|          | 0/30 [00:00<?, ?it/s]"
      ]
     },
     "metadata": {},
     "output_type": "display_data"
    },
    {
     "data": {
      "application/vnd.jupyter.widget-view+json": {
       "model_id": "10a79d2b24114671a77e996aa4b9f557",
       "version_major": 2,
       "version_minor": 0
      },
      "text/plain": [
       "  0%|          | 0/30 [00:00<?, ?it/s]"
      ]
     },
     "metadata": {},
     "output_type": "display_data"
    },
    {
     "data": {
      "application/vnd.jupyter.widget-view+json": {
       "model_id": "2a53b53ea20e4a569b246d618ab4d114",
       "version_major": 2,
       "version_minor": 0
      },
      "text/plain": [
       "  0%|          | 0/30 [00:00<?, ?it/s]"
      ]
     },
     "metadata": {},
     "output_type": "display_data"
    },
    {
     "data": {
      "application/vnd.jupyter.widget-view+json": {
       "model_id": "ef37840595324cf59fd625d02b142ea9",
       "version_major": 2,
       "version_minor": 0
      },
      "text/plain": [
       "  0%|          | 0/30 [00:00<?, ?it/s]"
      ]
     },
     "metadata": {},
     "output_type": "display_data"
    },
    {
     "data": {
      "application/vnd.jupyter.widget-view+json": {
       "model_id": "97b8bcc7653d45fa815bcd01c96093cd",
       "version_major": 2,
       "version_minor": 0
      },
      "text/plain": [
       "  0%|          | 0/30 [00:00<?, ?it/s]"
      ]
     },
     "metadata": {},
     "output_type": "display_data"
    },
    {
     "data": {
      "application/vnd.jupyter.widget-view+json": {
       "model_id": "c483a7d8037e44ac8fc09e06727ae8b0",
       "version_major": 2,
       "version_minor": 0
      },
      "text/plain": [
       "  0%|          | 0/30 [00:00<?, ?it/s]"
      ]
     },
     "metadata": {},
     "output_type": "display_data"
    },
    {
     "data": {
      "application/vnd.jupyter.widget-view+json": {
       "model_id": "e2a37b11fdf84a969f8d5038c4db3deb",
       "version_major": 2,
       "version_minor": 0
      },
      "text/plain": [
       "  0%|          | 0/30 [00:00<?, ?it/s]"
      ]
     },
     "metadata": {},
     "output_type": "display_data"
    },
    {
     "data": {
      "application/vnd.jupyter.widget-view+json": {
       "model_id": "da4c308e8dd340ac9f6aa1f60466d9cd",
       "version_major": 2,
       "version_minor": 0
      },
      "text/plain": [
       "  0%|          | 0/30 [00:00<?, ?it/s]"
      ]
     },
     "metadata": {},
     "output_type": "display_data"
    },
    {
     "data": {
      "application/vnd.jupyter.widget-view+json": {
       "model_id": "965fa5803118439aa356601b0b18e7dd",
       "version_major": 2,
       "version_minor": 0
      },
      "text/plain": [
       "  0%|          | 0/30 [00:00<?, ?it/s]"
      ]
     },
     "metadata": {},
     "output_type": "display_data"
    },
    {
     "data": {
      "application/vnd.jupyter.widget-view+json": {
       "model_id": "3fad044088184f6db6c058523ad92379",
       "version_major": 2,
       "version_minor": 0
      },
      "text/plain": [
       "  0%|          | 0/30 [00:00<?, ?it/s]"
      ]
     },
     "metadata": {},
     "output_type": "display_data"
    },
    {
     "data": {
      "application/vnd.jupyter.widget-view+json": {
       "model_id": "31764dd3ae134f3e9fa80b202eb477d2",
       "version_major": 2,
       "version_minor": 0
      },
      "text/plain": [
       "  0%|          | 0/30 [00:00<?, ?it/s]"
      ]
     },
     "metadata": {},
     "output_type": "display_data"
    },
    {
     "data": {
      "application/vnd.jupyter.widget-view+json": {
       "model_id": "651ee7a25e0d45e385d3701a05301dff",
       "version_major": 2,
       "version_minor": 0
      },
      "text/plain": [
       "  0%|          | 0/30 [00:00<?, ?it/s]"
      ]
     },
     "metadata": {},
     "output_type": "display_data"
    },
    {
     "data": {
      "application/vnd.jupyter.widget-view+json": {
       "model_id": "629e5fc5aa9e4c0189399beec73531eb",
       "version_major": 2,
       "version_minor": 0
      },
      "text/plain": [
       "  0%|          | 0/30 [00:00<?, ?it/s]"
      ]
     },
     "metadata": {},
     "output_type": "display_data"
    },
    {
     "data": {
      "application/vnd.jupyter.widget-view+json": {
       "model_id": "2df4415cc2af4555aa4764ddfc704db0",
       "version_major": 2,
       "version_minor": 0
      },
      "text/plain": [
       "  0%|          | 0/30 [00:00<?, ?it/s]"
      ]
     },
     "metadata": {},
     "output_type": "display_data"
    },
    {
     "data": {
      "application/vnd.jupyter.widget-view+json": {
       "model_id": "a6b78ea0e6b941e085a610249c7b4be6",
       "version_major": 2,
       "version_minor": 0
      },
      "text/plain": [
       "  0%|          | 0/30 [00:00<?, ?it/s]"
      ]
     },
     "metadata": {},
     "output_type": "display_data"
    },
    {
     "data": {
      "application/vnd.jupyter.widget-view+json": {
       "model_id": "8406d1355c94460aa0c06c3210574d04",
       "version_major": 2,
       "version_minor": 0
      },
      "text/plain": [
       "  0%|          | 0/30 [00:00<?, ?it/s]"
      ]
     },
     "metadata": {},
     "output_type": "display_data"
    },
    {
     "data": {
      "application/vnd.jupyter.widget-view+json": {
       "model_id": "980dee2456b14751b9d8a20a1bb50646",
       "version_major": 2,
       "version_minor": 0
      },
      "text/plain": [
       "  0%|          | 0/30 [00:00<?, ?it/s]"
      ]
     },
     "metadata": {},
     "output_type": "display_data"
    },
    {
     "data": {
      "application/vnd.jupyter.widget-view+json": {
       "model_id": "02cfaf69c82c4445bac21537d4d159c0",
       "version_major": 2,
       "version_minor": 0
      },
      "text/plain": [
       "  0%|          | 0/30 [00:00<?, ?it/s]"
      ]
     },
     "metadata": {},
     "output_type": "display_data"
    },
    {
     "data": {
      "application/vnd.jupyter.widget-view+json": {
       "model_id": "f522b42828ac4362a6b75593db97a893",
       "version_major": 2,
       "version_minor": 0
      },
      "text/plain": [
       "  0%|          | 0/30 [00:00<?, ?it/s]"
      ]
     },
     "metadata": {},
     "output_type": "display_data"
    },
    {
     "data": {
      "application/vnd.jupyter.widget-view+json": {
       "model_id": "093b3a08dfb24541ad767f7c5e351afa",
       "version_major": 2,
       "version_minor": 0
      },
      "text/plain": [
       "  0%|          | 0/30 [00:00<?, ?it/s]"
      ]
     },
     "metadata": {},
     "output_type": "display_data"
    },
    {
     "data": {
      "application/vnd.jupyter.widget-view+json": {
       "model_id": "26f98b20ccd0483a9c5c6326d081f9ba",
       "version_major": 2,
       "version_minor": 0
      },
      "text/plain": [
       "  0%|          | 0/30 [00:00<?, ?it/s]"
      ]
     },
     "metadata": {},
     "output_type": "display_data"
    },
    {
     "data": {
      "application/vnd.jupyter.widget-view+json": {
       "model_id": "a21b1935bdd54e9380314595c1bea9f0",
       "version_major": 2,
       "version_minor": 0
      },
      "text/plain": [
       "  0%|          | 0/30 [00:00<?, ?it/s]"
      ]
     },
     "metadata": {},
     "output_type": "display_data"
    },
    {
     "data": {
      "application/vnd.jupyter.widget-view+json": {
       "model_id": "456196e113b541fc97f6c8c24ba1373d",
       "version_major": 2,
       "version_minor": 0
      },
      "text/plain": [
       "  0%|          | 0/30 [00:00<?, ?it/s]"
      ]
     },
     "metadata": {},
     "output_type": "display_data"
    },
    {
     "data": {
      "application/vnd.jupyter.widget-view+json": {
       "model_id": "47c3dd4686234293b6f5110452c2c3a2",
       "version_major": 2,
       "version_minor": 0
      },
      "text/plain": [
       "  0%|          | 0/30 [00:00<?, ?it/s]"
      ]
     },
     "metadata": {},
     "output_type": "display_data"
    },
    {
     "data": {
      "application/vnd.jupyter.widget-view+json": {
       "model_id": "ec5b50b44f5e411dbfe2bc30a57541b1",
       "version_major": 2,
       "version_minor": 0
      },
      "text/plain": [
       "  0%|          | 0/30 [00:00<?, ?it/s]"
      ]
     },
     "metadata": {},
     "output_type": "display_data"
    },
    {
     "data": {
      "application/vnd.jupyter.widget-view+json": {
       "model_id": "9ec2024bcb3c40e8b633e1b0399bcaa7",
       "version_major": 2,
       "version_minor": 0
      },
      "text/plain": [
       "  0%|          | 0/30 [00:00<?, ?it/s]"
      ]
     },
     "metadata": {},
     "output_type": "display_data"
    },
    {
     "data": {
      "application/vnd.jupyter.widget-view+json": {
       "model_id": "df7276ce393445c38348e1bb18655259",
       "version_major": 2,
       "version_minor": 0
      },
      "text/plain": [
       "  0%|          | 0/30 [00:00<?, ?it/s]"
      ]
     },
     "metadata": {},
     "output_type": "display_data"
    },
    {
     "data": {
      "application/vnd.jupyter.widget-view+json": {
       "model_id": "1875600cd37b46f892e904a313a39109",
       "version_major": 2,
       "version_minor": 0
      },
      "text/plain": [
       "  0%|          | 0/30 [00:00<?, ?it/s]"
      ]
     },
     "metadata": {},
     "output_type": "display_data"
    },
    {
     "data": {
      "application/vnd.jupyter.widget-view+json": {
       "model_id": "dbe1c9b33fcb457d854a9859bbe0ece4",
       "version_major": 2,
       "version_minor": 0
      },
      "text/plain": [
       "  0%|          | 0/30 [00:00<?, ?it/s]"
      ]
     },
     "metadata": {},
     "output_type": "display_data"
    },
    {
     "data": {
      "application/vnd.jupyter.widget-view+json": {
       "model_id": "b0d0d2f4815346b89b8c9ce84bdece4a",
       "version_major": 2,
       "version_minor": 0
      },
      "text/plain": [
       "  0%|          | 0/30 [00:00<?, ?it/s]"
      ]
     },
     "metadata": {},
     "output_type": "display_data"
    },
    {
     "data": {
      "application/vnd.jupyter.widget-view+json": {
       "model_id": "3f9a2143ebb3494cb54cb4bd23703f8a",
       "version_major": 2,
       "version_minor": 0
      },
      "text/plain": [
       "  0%|          | 0/30 [00:00<?, ?it/s]"
      ]
     },
     "metadata": {},
     "output_type": "display_data"
    },
    {
     "data": {
      "application/vnd.jupyter.widget-view+json": {
       "model_id": "35afd6463bf44252946ff7684637445a",
       "version_major": 2,
       "version_minor": 0
      },
      "text/plain": [
       "  0%|          | 0/30 [00:00<?, ?it/s]"
      ]
     },
     "metadata": {},
     "output_type": "display_data"
    },
    {
     "data": {
      "application/vnd.jupyter.widget-view+json": {
       "model_id": "b066496e0cd54b08829d0ad9ebe342f5",
       "version_major": 2,
       "version_minor": 0
      },
      "text/plain": [
       "  0%|          | 0/30 [00:00<?, ?it/s]"
      ]
     },
     "metadata": {},
     "output_type": "display_data"
    },
    {
     "data": {
      "application/vnd.jupyter.widget-view+json": {
       "model_id": "6129644721ba44dcb381afd08e446c46",
       "version_major": 2,
       "version_minor": 0
      },
      "text/plain": [
       "  0%|          | 0/30 [00:00<?, ?it/s]"
      ]
     },
     "metadata": {},
     "output_type": "display_data"
    },
    {
     "data": {
      "application/vnd.jupyter.widget-view+json": {
       "model_id": "9d017c8dea264a5e8661c495b6eb785d",
       "version_major": 2,
       "version_minor": 0
      },
      "text/plain": [
       "  0%|          | 0/30 [00:00<?, ?it/s]"
      ]
     },
     "metadata": {},
     "output_type": "display_data"
    },
    {
     "data": {
      "application/vnd.jupyter.widget-view+json": {
       "model_id": "f56e57c13346417f8557255ca871e5dd",
       "version_major": 2,
       "version_minor": 0
      },
      "text/plain": [
       "  0%|          | 0/30 [00:00<?, ?it/s]"
      ]
     },
     "metadata": {},
     "output_type": "display_data"
    },
    {
     "data": {
      "application/vnd.jupyter.widget-view+json": {
       "model_id": "55e1ee5a418246818db2b016753af235",
       "version_major": 2,
       "version_minor": 0
      },
      "text/plain": [
       "  0%|          | 0/30 [00:00<?, ?it/s]"
      ]
     },
     "metadata": {},
     "output_type": "display_data"
    },
    {
     "data": {
      "application/vnd.jupyter.widget-view+json": {
       "model_id": "dd5a91080667427481911e679a4b1d07",
       "version_major": 2,
       "version_minor": 0
      },
      "text/plain": [
       "  0%|          | 0/30 [00:00<?, ?it/s]"
      ]
     },
     "metadata": {},
     "output_type": "display_data"
    },
    {
     "data": {
      "application/vnd.jupyter.widget-view+json": {
       "model_id": "c9b11a46cc7c4501b8131f85404d47eb",
       "version_major": 2,
       "version_minor": 0
      },
      "text/plain": [
       "  0%|          | 0/30 [00:00<?, ?it/s]"
      ]
     },
     "metadata": {},
     "output_type": "display_data"
    },
    {
     "data": {
      "application/vnd.jupyter.widget-view+json": {
       "model_id": "ce492ae75ed74cf29877fcf77993542c",
       "version_major": 2,
       "version_minor": 0
      },
      "text/plain": [
       "  0%|          | 0/30 [00:00<?, ?it/s]"
      ]
     },
     "metadata": {},
     "output_type": "display_data"
    }
   ],
   "source": [
    "from src.lib import experimentation\n",
    "from src.models import basic_grunet\n",
    "import torch\n",
    "import torch.nn.functional as F\n",
    "import matplotlib.pyplot as plt\n",
    "import yaml\n",
    "from tqdm.auto import tqdm\n",
    "\n",
    "vlosses = []\n",
    "metrics = []\n",
    "accs = []\n",
    "num_epochs = []\n",
    "\n",
    "for X, y in tqdm(non_norm_datasets):\n",
    "    N = X.shape[0]\n",
    "    \n",
    "    model = basic_grunet.GRUNetBasic(X.shape[2], 32, 2, 2, 0)\n",
    "    loss_fn = F.binary_cross_entropy\n",
    "    optimizer = torch.optim.Adam(model.parameters(), lr = 0.001)\n",
    "    scheduler = torch.optim.lr_scheduler.MultiStepLR(optimizer, milestones=[4, 7], gamma=0.1)\n",
    "    early_stopper = experimentation.EarlyStopper(patience=5)\n",
    "\n",
    "    train_loader = torch.utils.data.DataLoader(\n",
    "        dataset = torch.utils.data.TensorDataset(\n",
    "            torch.from_numpy(X[:int(N*0.8)]).type(torch.float32),\n",
    "            torch.from_numpy(y[:int(N*0.8)]).type(torch.float32)),\n",
    "        batch_size=128, shuffle = True)\n",
    "    val_loader = torch.utils.data.DataLoader(\n",
    "        dataset = torch.utils.data.TensorDataset(\n",
    "            torch.from_numpy(X[int(N*0.8):]).type(torch.float32),\n",
    "            torch.from_numpy(y[int(N*0.8):]).type(torch.float32)),\n",
    "        batch_size=128, shuffle = True)\n",
    "\n",
    "    history = experimentation.fit_model(model, loss_fn, train_loader, val_loader, optimizer, num_epochs=30, early_stopper=early_stopper, scheduler=scheduler, verbose=False)\n",
    "    \n",
    "    # compute the classification binary accuracy\n",
    "    val_preds = []\n",
    "    val_labs = []\n",
    "    for x_, y_ in val_loader:\n",
    "        val_preds.append(model(x_.cuda()).detach().cpu().numpy())\n",
    "        val_labs.append(y_.cpu().numpy())\n",
    "    val_preds = np.concatenate(val_preds)\n",
    "    val_labs = np.concatenate(val_labs)\n",
    "\n",
    "    vlosses.append(history['val_loss'][-1])\n",
    "    metrics.append(history['val_amex_metric'][-1])\n",
    "    accs.append(np.mean(np.where(val_preds > 0.5, 1.0, 0.0) == val_labs))\n",
    "    num_epochs.append(len(history['train_loss']))\n",
    "    \n",
    "vlosses = np.array(vlosses)\n",
    "metrics = np.array(metrics)\n",
    "accs = np.array(accs)\n",
    "num_epochs = np.array(num_epochs)"
   ]
  },
  {
   "cell_type": "code",
   "execution_count": 29,
   "id": "07e6752f-de83-4d2a-a029-6abdebf38474",
   "metadata": {
    "tags": []
   },
   "outputs": [
    {
     "name": "stdout",
     "output_type": "stream",
     "text": [
      "Average validation loss: 0.2209 +- 0.0183\n",
      "Average metrics: 0.7907 +- 0.0373\n",
      "Average accuracy: 0.9053 +- 0.0113\n",
      "Number of epochs: 16.9800 +- 7.3701\n"
     ]
    }
   ],
   "source": [
    "print(f\"Average validation loss: {np.mean(vlosses):.4f} +- {1.96 * np.std(vlosses):.4f}\")\n",
    "print(f\"Average metrics: {np.mean(metrics):.4f} +- {1.96 * np.std(metrics):.4f}\")\n",
    "print(f\"Average accuracy: {np.mean(accs):.4f} +- {1.96 * np.std(accs):.4f}\")\n",
    "print(f\"Number of epochs: {np.mean(num_epochs):.4f} +- {1.96 * np.std(num_epochs):.4f}\")"
   ]
  },
  {
   "cell_type": "code",
   "execution_count": 30,
   "id": "97bb1200-5d7c-4cb8-9e82-04e1bc274777",
   "metadata": {
    "tags": []
   },
   "outputs": [
    {
     "data": {
      "application/vnd.jupyter.widget-view+json": {
       "model_id": "3316f07e2ea04933b9a014b9841a60fe",
       "version_major": 2,
       "version_minor": 0
      },
      "text/plain": [
       "  0%|          | 0/50 [00:00<?, ?it/s]"
      ]
     },
     "metadata": {},
     "output_type": "display_data"
    },
    {
     "data": {
      "application/vnd.jupyter.widget-view+json": {
       "model_id": "752ccaa890ac4b9896d1232daf7d2af5",
       "version_major": 2,
       "version_minor": 0
      },
      "text/plain": [
       "  0%|          | 0/30 [00:00<?, ?it/s]"
      ]
     },
     "metadata": {},
     "output_type": "display_data"
    },
    {
     "data": {
      "application/vnd.jupyter.widget-view+json": {
       "model_id": "98f33fc28255449582820fe9ecf34aef",
       "version_major": 2,
       "version_minor": 0
      },
      "text/plain": [
       "  0%|          | 0/30 [00:00<?, ?it/s]"
      ]
     },
     "metadata": {},
     "output_type": "display_data"
    },
    {
     "data": {
      "application/vnd.jupyter.widget-view+json": {
       "model_id": "f78e456895674388ad4e2c84fce0cbdd",
       "version_major": 2,
       "version_minor": 0
      },
      "text/plain": [
       "  0%|          | 0/30 [00:00<?, ?it/s]"
      ]
     },
     "metadata": {},
     "output_type": "display_data"
    },
    {
     "data": {
      "application/vnd.jupyter.widget-view+json": {
       "model_id": "0b6d521a9f9242c1b34eeb98102026c9",
       "version_major": 2,
       "version_minor": 0
      },
      "text/plain": [
       "  0%|          | 0/30 [00:00<?, ?it/s]"
      ]
     },
     "metadata": {},
     "output_type": "display_data"
    },
    {
     "data": {
      "application/vnd.jupyter.widget-view+json": {
       "model_id": "58fc10c46980435e8020d73378f42239",
       "version_major": 2,
       "version_minor": 0
      },
      "text/plain": [
       "  0%|          | 0/30 [00:00<?, ?it/s]"
      ]
     },
     "metadata": {},
     "output_type": "display_data"
    },
    {
     "data": {
      "application/vnd.jupyter.widget-view+json": {
       "model_id": "1a822fbdf3854cdc95f79dc001123d26",
       "version_major": 2,
       "version_minor": 0
      },
      "text/plain": [
       "  0%|          | 0/30 [00:00<?, ?it/s]"
      ]
     },
     "metadata": {},
     "output_type": "display_data"
    },
    {
     "data": {
      "application/vnd.jupyter.widget-view+json": {
       "model_id": "7bb646d337e5420abc630729ec0f4495",
       "version_major": 2,
       "version_minor": 0
      },
      "text/plain": [
       "  0%|          | 0/30 [00:00<?, ?it/s]"
      ]
     },
     "metadata": {},
     "output_type": "display_data"
    },
    {
     "data": {
      "application/vnd.jupyter.widget-view+json": {
       "model_id": "6246686f21ea4de0a790c72e33a22c10",
       "version_major": 2,
       "version_minor": 0
      },
      "text/plain": [
       "  0%|          | 0/30 [00:00<?, ?it/s]"
      ]
     },
     "metadata": {},
     "output_type": "display_data"
    },
    {
     "data": {
      "application/vnd.jupyter.widget-view+json": {
       "model_id": "a33b1be3110347739c9e1d5df0ea4d34",
       "version_major": 2,
       "version_minor": 0
      },
      "text/plain": [
       "  0%|          | 0/30 [00:00<?, ?it/s]"
      ]
     },
     "metadata": {},
     "output_type": "display_data"
    },
    {
     "data": {
      "application/vnd.jupyter.widget-view+json": {
       "model_id": "2959908888a441429dba497ca944813a",
       "version_major": 2,
       "version_minor": 0
      },
      "text/plain": [
       "  0%|          | 0/30 [00:00<?, ?it/s]"
      ]
     },
     "metadata": {},
     "output_type": "display_data"
    },
    {
     "data": {
      "application/vnd.jupyter.widget-view+json": {
       "model_id": "a89beb6dd7214a34a0a6978b5d6a64e4",
       "version_major": 2,
       "version_minor": 0
      },
      "text/plain": [
       "  0%|          | 0/30 [00:00<?, ?it/s]"
      ]
     },
     "metadata": {},
     "output_type": "display_data"
    },
    {
     "data": {
      "application/vnd.jupyter.widget-view+json": {
       "model_id": "9f32dde2b9ec4a689552bd87353884b0",
       "version_major": 2,
       "version_minor": 0
      },
      "text/plain": [
       "  0%|          | 0/30 [00:00<?, ?it/s]"
      ]
     },
     "metadata": {},
     "output_type": "display_data"
    },
    {
     "data": {
      "application/vnd.jupyter.widget-view+json": {
       "model_id": "e604aadfa6b749fb9b2db9f223ae8582",
       "version_major": 2,
       "version_minor": 0
      },
      "text/plain": [
       "  0%|          | 0/30 [00:00<?, ?it/s]"
      ]
     },
     "metadata": {},
     "output_type": "display_data"
    },
    {
     "data": {
      "application/vnd.jupyter.widget-view+json": {
       "model_id": "982a052f0ee147bf8c704e386a33904c",
       "version_major": 2,
       "version_minor": 0
      },
      "text/plain": [
       "  0%|          | 0/30 [00:00<?, ?it/s]"
      ]
     },
     "metadata": {},
     "output_type": "display_data"
    },
    {
     "data": {
      "application/vnd.jupyter.widget-view+json": {
       "model_id": "3be118eda18447459c943a27a71505b8",
       "version_major": 2,
       "version_minor": 0
      },
      "text/plain": [
       "  0%|          | 0/30 [00:00<?, ?it/s]"
      ]
     },
     "metadata": {},
     "output_type": "display_data"
    },
    {
     "data": {
      "application/vnd.jupyter.widget-view+json": {
       "model_id": "a48e9c5d473b40ddababfabee56efc74",
       "version_major": 2,
       "version_minor": 0
      },
      "text/plain": [
       "  0%|          | 0/30 [00:00<?, ?it/s]"
      ]
     },
     "metadata": {},
     "output_type": "display_data"
    },
    {
     "data": {
      "application/vnd.jupyter.widget-view+json": {
       "model_id": "0379b4df2c264280b3e6cc262e4bc3ca",
       "version_major": 2,
       "version_minor": 0
      },
      "text/plain": [
       "  0%|          | 0/30 [00:00<?, ?it/s]"
      ]
     },
     "metadata": {},
     "output_type": "display_data"
    },
    {
     "data": {
      "application/vnd.jupyter.widget-view+json": {
       "model_id": "0734ed65a4c74c1690609a07a1854478",
       "version_major": 2,
       "version_minor": 0
      },
      "text/plain": [
       "  0%|          | 0/30 [00:00<?, ?it/s]"
      ]
     },
     "metadata": {},
     "output_type": "display_data"
    },
    {
     "data": {
      "application/vnd.jupyter.widget-view+json": {
       "model_id": "283ad11611f74bb4b21dd7aad5636a09",
       "version_major": 2,
       "version_minor": 0
      },
      "text/plain": [
       "  0%|          | 0/30 [00:00<?, ?it/s]"
      ]
     },
     "metadata": {},
     "output_type": "display_data"
    },
    {
     "data": {
      "application/vnd.jupyter.widget-view+json": {
       "model_id": "ed2f3799bb3a496ebe6d901456bc30bc",
       "version_major": 2,
       "version_minor": 0
      },
      "text/plain": [
       "  0%|          | 0/30 [00:00<?, ?it/s]"
      ]
     },
     "metadata": {},
     "output_type": "display_data"
    },
    {
     "data": {
      "application/vnd.jupyter.widget-view+json": {
       "model_id": "50465428fc8b4ceb8613b1409f0f7505",
       "version_major": 2,
       "version_minor": 0
      },
      "text/plain": [
       "  0%|          | 0/30 [00:00<?, ?it/s]"
      ]
     },
     "metadata": {},
     "output_type": "display_data"
    },
    {
     "data": {
      "application/vnd.jupyter.widget-view+json": {
       "model_id": "52fda52747784321995e7aafcd1a8518",
       "version_major": 2,
       "version_minor": 0
      },
      "text/plain": [
       "  0%|          | 0/30 [00:00<?, ?it/s]"
      ]
     },
     "metadata": {},
     "output_type": "display_data"
    },
    {
     "data": {
      "application/vnd.jupyter.widget-view+json": {
       "model_id": "75d65a081c6145cba8b5a4f9e9c71d9c",
       "version_major": 2,
       "version_minor": 0
      },
      "text/plain": [
       "  0%|          | 0/30 [00:00<?, ?it/s]"
      ]
     },
     "metadata": {},
     "output_type": "display_data"
    },
    {
     "data": {
      "application/vnd.jupyter.widget-view+json": {
       "model_id": "9afa1aeba1ac40fbb9b67abda206d7e8",
       "version_major": 2,
       "version_minor": 0
      },
      "text/plain": [
       "  0%|          | 0/30 [00:00<?, ?it/s]"
      ]
     },
     "metadata": {},
     "output_type": "display_data"
    },
    {
     "data": {
      "application/vnd.jupyter.widget-view+json": {
       "model_id": "f0a29dc3d47c4481ade0d1a9bdaf8df1",
       "version_major": 2,
       "version_minor": 0
      },
      "text/plain": [
       "  0%|          | 0/30 [00:00<?, ?it/s]"
      ]
     },
     "metadata": {},
     "output_type": "display_data"
    },
    {
     "data": {
      "application/vnd.jupyter.widget-view+json": {
       "model_id": "c3d44e8e8e554d208018256ef1c78a69",
       "version_major": 2,
       "version_minor": 0
      },
      "text/plain": [
       "  0%|          | 0/30 [00:00<?, ?it/s]"
      ]
     },
     "metadata": {},
     "output_type": "display_data"
    },
    {
     "data": {
      "application/vnd.jupyter.widget-view+json": {
       "model_id": "2cdda54c328e429d9f6e15d80c1e35ea",
       "version_major": 2,
       "version_minor": 0
      },
      "text/plain": [
       "  0%|          | 0/30 [00:00<?, ?it/s]"
      ]
     },
     "metadata": {},
     "output_type": "display_data"
    },
    {
     "data": {
      "application/vnd.jupyter.widget-view+json": {
       "model_id": "ce6808e2c68f47dea2733682b26e1153",
       "version_major": 2,
       "version_minor": 0
      },
      "text/plain": [
       "  0%|          | 0/30 [00:00<?, ?it/s]"
      ]
     },
     "metadata": {},
     "output_type": "display_data"
    },
    {
     "data": {
      "application/vnd.jupyter.widget-view+json": {
       "model_id": "b386db1f30614be5a7761d2f6b93ffe5",
       "version_major": 2,
       "version_minor": 0
      },
      "text/plain": [
       "  0%|          | 0/30 [00:00<?, ?it/s]"
      ]
     },
     "metadata": {},
     "output_type": "display_data"
    },
    {
     "data": {
      "application/vnd.jupyter.widget-view+json": {
       "model_id": "8a159f097cb84b249ddeb371eccc1292",
       "version_major": 2,
       "version_minor": 0
      },
      "text/plain": [
       "  0%|          | 0/30 [00:00<?, ?it/s]"
      ]
     },
     "metadata": {},
     "output_type": "display_data"
    },
    {
     "data": {
      "application/vnd.jupyter.widget-view+json": {
       "model_id": "e9c0535ff3544f36ae5ff015db8fd159",
       "version_major": 2,
       "version_minor": 0
      },
      "text/plain": [
       "  0%|          | 0/30 [00:00<?, ?it/s]"
      ]
     },
     "metadata": {},
     "output_type": "display_data"
    },
    {
     "data": {
      "application/vnd.jupyter.widget-view+json": {
       "model_id": "f25fc468bb4e4ac9a4a4f48726a27d1f",
       "version_major": 2,
       "version_minor": 0
      },
      "text/plain": [
       "  0%|          | 0/30 [00:00<?, ?it/s]"
      ]
     },
     "metadata": {},
     "output_type": "display_data"
    },
    {
     "data": {
      "application/vnd.jupyter.widget-view+json": {
       "model_id": "6f042a70d7d54625b3480f45545436ef",
       "version_major": 2,
       "version_minor": 0
      },
      "text/plain": [
       "  0%|          | 0/30 [00:00<?, ?it/s]"
      ]
     },
     "metadata": {},
     "output_type": "display_data"
    },
    {
     "data": {
      "application/vnd.jupyter.widget-view+json": {
       "model_id": "667e91816bfd4d0ab808e7955a46897e",
       "version_major": 2,
       "version_minor": 0
      },
      "text/plain": [
       "  0%|          | 0/30 [00:00<?, ?it/s]"
      ]
     },
     "metadata": {},
     "output_type": "display_data"
    },
    {
     "data": {
      "application/vnd.jupyter.widget-view+json": {
       "model_id": "c9ed519e71864e5bac7fc58b4af422e7",
       "version_major": 2,
       "version_minor": 0
      },
      "text/plain": [
       "  0%|          | 0/30 [00:00<?, ?it/s]"
      ]
     },
     "metadata": {},
     "output_type": "display_data"
    },
    {
     "data": {
      "application/vnd.jupyter.widget-view+json": {
       "model_id": "f1a69adc4a844711a08c3d47312442fe",
       "version_major": 2,
       "version_minor": 0
      },
      "text/plain": [
       "  0%|          | 0/30 [00:00<?, ?it/s]"
      ]
     },
     "metadata": {},
     "output_type": "display_data"
    },
    {
     "data": {
      "application/vnd.jupyter.widget-view+json": {
       "model_id": "8a618e763ad64a48b27351ba02da79d7",
       "version_major": 2,
       "version_minor": 0
      },
      "text/plain": [
       "  0%|          | 0/30 [00:00<?, ?it/s]"
      ]
     },
     "metadata": {},
     "output_type": "display_data"
    },
    {
     "data": {
      "application/vnd.jupyter.widget-view+json": {
       "model_id": "a56c4d9a443144d0a73688286d7609a9",
       "version_major": 2,
       "version_minor": 0
      },
      "text/plain": [
       "  0%|          | 0/30 [00:00<?, ?it/s]"
      ]
     },
     "metadata": {},
     "output_type": "display_data"
    },
    {
     "data": {
      "application/vnd.jupyter.widget-view+json": {
       "model_id": "22ce4d102eee43358d811bd3cfac4278",
       "version_major": 2,
       "version_minor": 0
      },
      "text/plain": [
       "  0%|          | 0/30 [00:00<?, ?it/s]"
      ]
     },
     "metadata": {},
     "output_type": "display_data"
    },
    {
     "data": {
      "application/vnd.jupyter.widget-view+json": {
       "model_id": "43d1bb9df97348969dec184506f126ed",
       "version_major": 2,
       "version_minor": 0
      },
      "text/plain": [
       "  0%|          | 0/30 [00:00<?, ?it/s]"
      ]
     },
     "metadata": {},
     "output_type": "display_data"
    },
    {
     "data": {
      "application/vnd.jupyter.widget-view+json": {
       "model_id": "3303f0dcf0934115b1563510a6ec37db",
       "version_major": 2,
       "version_minor": 0
      },
      "text/plain": [
       "  0%|          | 0/30 [00:00<?, ?it/s]"
      ]
     },
     "metadata": {},
     "output_type": "display_data"
    },
    {
     "data": {
      "application/vnd.jupyter.widget-view+json": {
       "model_id": "d3a5e77c89664a61a59fdb019146a161",
       "version_major": 2,
       "version_minor": 0
      },
      "text/plain": [
       "  0%|          | 0/30 [00:00<?, ?it/s]"
      ]
     },
     "metadata": {},
     "output_type": "display_data"
    },
    {
     "data": {
      "application/vnd.jupyter.widget-view+json": {
       "model_id": "b4572db95bf64b9591c5b564f07aa79c",
       "version_major": 2,
       "version_minor": 0
      },
      "text/plain": [
       "  0%|          | 0/30 [00:00<?, ?it/s]"
      ]
     },
     "metadata": {},
     "output_type": "display_data"
    },
    {
     "data": {
      "application/vnd.jupyter.widget-view+json": {
       "model_id": "0a27baf3fd3b4b47abbf3b8aeed92daa",
       "version_major": 2,
       "version_minor": 0
      },
      "text/plain": [
       "  0%|          | 0/30 [00:00<?, ?it/s]"
      ]
     },
     "metadata": {},
     "output_type": "display_data"
    },
    {
     "data": {
      "application/vnd.jupyter.widget-view+json": {
       "model_id": "e7e6e9ded9f8439f8605119e95bb0bb6",
       "version_major": 2,
       "version_minor": 0
      },
      "text/plain": [
       "  0%|          | 0/30 [00:00<?, ?it/s]"
      ]
     },
     "metadata": {},
     "output_type": "display_data"
    },
    {
     "data": {
      "application/vnd.jupyter.widget-view+json": {
       "model_id": "34e20f48a3ac4d9883183daa1bca6672",
       "version_major": 2,
       "version_minor": 0
      },
      "text/plain": [
       "  0%|          | 0/30 [00:00<?, ?it/s]"
      ]
     },
     "metadata": {},
     "output_type": "display_data"
    },
    {
     "data": {
      "application/vnd.jupyter.widget-view+json": {
       "model_id": "00ef447fcbc540f58c39587aecdaccd5",
       "version_major": 2,
       "version_minor": 0
      },
      "text/plain": [
       "  0%|          | 0/30 [00:00<?, ?it/s]"
      ]
     },
     "metadata": {},
     "output_type": "display_data"
    },
    {
     "data": {
      "application/vnd.jupyter.widget-view+json": {
       "model_id": "8be0d58c675841ab87cdc689bffe7935",
       "version_major": 2,
       "version_minor": 0
      },
      "text/plain": [
       "  0%|          | 0/30 [00:00<?, ?it/s]"
      ]
     },
     "metadata": {},
     "output_type": "display_data"
    },
    {
     "data": {
      "application/vnd.jupyter.widget-view+json": {
       "model_id": "d4bd03ad2c0841d2a710d1237f6c6b9a",
       "version_major": 2,
       "version_minor": 0
      },
      "text/plain": [
       "  0%|          | 0/30 [00:00<?, ?it/s]"
      ]
     },
     "metadata": {},
     "output_type": "display_data"
    },
    {
     "data": {
      "application/vnd.jupyter.widget-view+json": {
       "model_id": "70d889aa4ccf4693951c201d7ef26ef7",
       "version_major": 2,
       "version_minor": 0
      },
      "text/plain": [
       "  0%|          | 0/30 [00:00<?, ?it/s]"
      ]
     },
     "metadata": {},
     "output_type": "display_data"
    }
   ],
   "source": [
    "vlosses = []\n",
    "metrics = []\n",
    "accs = []\n",
    "num_epochs = []\n",
    "\n",
    "for X, y in tqdm(norm_datasets):\n",
    "    N = X.shape[0]\n",
    "    \n",
    "    model = basic_grunet.GRUNetBasic(X.shape[2], 32, 2, 2, 0)\n",
    "    loss_fn = F.binary_cross_entropy\n",
    "    optimizer = torch.optim.Adam(model.parameters(), lr = 0.001)\n",
    "    early_stopper = experimentation.EarlyStopper(patience=5)\n",
    "    scheduler = torch.optim.lr_scheduler.MultiStepLR(optimizer, milestones=[4, 7], gamma=0.1)\n",
    "\n",
    "    train_loader = torch.utils.data.DataLoader(\n",
    "        dataset = torch.utils.data.TensorDataset(\n",
    "            torch.from_numpy(X[:int(N*0.8)]).type(torch.float32),\n",
    "            torch.from_numpy(y[:int(N*0.8)]).type(torch.float32)),\n",
    "        batch_size=128, shuffle = True)\n",
    "    val_loader = torch.utils.data.DataLoader(\n",
    "        dataset = torch.utils.data.TensorDataset(\n",
    "            torch.from_numpy(X[int(N*0.8):]).type(torch.float32),\n",
    "            torch.from_numpy(y[int(N*0.8):]).type(torch.float32)),\n",
    "        batch_size=128, shuffle = True)\n",
    "\n",
    "    history = experimentation.fit_model(model, loss_fn, train_loader, val_loader, optimizer, num_epochs=30, early_stopper=early_stopper, scheduler=scheduler, verbose=False)\n",
    "    \n",
    "    # compute the classification binary accuracy\n",
    "    val_preds = []\n",
    "    val_labs = []\n",
    "    for x_, y_ in val_loader:\n",
    "        val_preds.append(model(x_.cuda()).detach().cpu().numpy())\n",
    "        val_labs.append(y_.cpu().numpy())\n",
    "    val_preds = np.concatenate(val_preds)\n",
    "    val_labs = np.concatenate(val_labs)\n",
    "\n",
    "    vlosses.append(history['val_loss'][-1])\n",
    "    metrics.append(history['val_amex_metric'][-1])\n",
    "    accs.append(np.mean(np.where(val_preds > 0.5, 1.0, 0.0) == val_labs))\n",
    "    num_epochs.append(len(history['train_loss']))\n",
    "    \n",
    "vlosses = np.array(vlosses)\n",
    "metrics = np.array(metrics)\n",
    "accs = np.array(accs)\n",
    "num_epochs = np.array(num_epochs)"
   ]
  },
  {
   "cell_type": "code",
   "execution_count": 31,
   "id": "d315c249-9acf-41ce-b490-1a6277e09623",
   "metadata": {
    "tags": []
   },
   "outputs": [
    {
     "name": "stdout",
     "output_type": "stream",
     "text": [
      "Average validation loss: 0.1356 +- 0.0176\n",
      "Average metrics: 0.8683 +- 0.0242\n",
      "Average accuracy: 0.9419 +- 0.0112\n",
      "Number of epochs: 13.2000 +- 6.4531\n"
     ]
    }
   ],
   "source": [
    "print(f\"Average validation loss: {np.mean(vlosses):.4f} +- {1.96 * np.std(vlosses):.4f}\")\n",
    "print(f\"Average metrics: {np.mean(metrics):.4f} +- {1.96 * np.std(metrics):.4f}\")\n",
    "print(f\"Average accuracy: {np.mean(accs):.4f} +- {1.96 * np.std(accs):.4f}\")\n",
    "\n",
    "print(f\"Number of epochs: {np.mean(num_epochs):.4f} +- {1.96 * np.std(num_epochs):.4f}\")"
   ]
  },
  {
   "cell_type": "code",
   "execution_count": 22,
   "id": "215ff12e-5c17-4a43-a625-cf78443e9cde",
   "metadata": {},
   "outputs": [],
   "source": [
    "X, y = non_norm_datasets[0]"
   ]
  },
  {
   "cell_type": "code",
   "execution_count": 26,
   "id": "353f02eb-bd5c-42a0-8b8b-b108145911e2",
   "metadata": {
    "tags": []
   },
   "outputs": [
    {
     "data": {
      "text/plain": [
       "(array([  4.,   6.,  14.,  23.,  32.,  51.,  79., 122., 109., 106., 123.,\n",
       "        141., 136., 138., 164., 163., 161., 151., 147., 158., 131., 140.,\n",
       "        115., 127., 141., 121., 114., 100., 106.,  89.,  85.,  77., 105.,\n",
       "         91.,  76.,  93.,  71.,  71.,  70.,  77., 290., 291., 326., 292.,\n",
       "        291., 279., 320., 283., 294., 283., 255., 279., 271., 267., 285.,\n",
       "        267., 275., 259., 280., 261., 181.,  19.,  11.,   5.,  11.,  10.,\n",
       "          8.,   8.,   8.,   8.,   5.,   5.,   5.,   4.,   3.,   6.,   6.,\n",
       "          2.,   1.,   2.,   3.,   1.,   2.,   1.,   1.,   1.,   0.,   0.,\n",
       "          0.,   0.,   1.,   0.,   2.,   0.,   0.,   1.,   1.,   0.,   0.,\n",
       "          2.]),\n",
       " array([-0.24906245, -0.21029651, -0.17153057, -0.13276464, -0.0939987 ,\n",
       "        -0.05523276, -0.01646682,  0.02229911,  0.06106505,  0.09983099,\n",
       "         0.13859692,  0.17736286,  0.2161288 ,  0.25489473,  0.29366067,\n",
       "         0.33242661,  0.37119254,  0.40995848,  0.44872442,  0.48749036,\n",
       "         0.52625632,  0.56502223,  0.6037882 ,  0.6425541 ,  0.68132007,\n",
       "         0.72008598,  0.75885195,  0.79761785,  0.83638382,  0.87514973,\n",
       "         0.91391569,  0.9526816 ,  0.99144757,  1.03021348,  1.06897938,\n",
       "         1.10774541,  1.14651132,  1.18527722,  1.22404313,  1.26280916,\n",
       "         1.30157506,  1.34034097,  1.37910688,  1.41787291,  1.45663881,\n",
       "         1.49540472,  1.53417063,  1.57293665,  1.61170256,  1.65046847,\n",
       "         1.68923438,  1.7280004 ,  1.76676631,  1.80553222,  1.84429812,\n",
       "         1.88306415,  1.92183006,  1.96059597,  1.99936187,  2.0381279 ,\n",
       "         2.07689381,  2.11565971,  2.15442562,  2.19319153,  2.23195744,\n",
       "         2.27072358,  2.30948949,  2.3482554 ,  2.3870213 ,  2.42578721,\n",
       "         2.46455312,  2.50331903,  2.54208493,  2.58085108,  2.61961699,\n",
       "         2.65838289,  2.6971488 ,  2.73591471,  2.77468061,  2.81344652,\n",
       "         2.85221243,  2.89097857,  2.92974448,  2.96851039,  3.0072763 ,\n",
       "         3.0460422 ,  3.08480811,  3.12357402,  3.16233993,  3.20110607,\n",
       "         3.23987198,  3.27863789,  3.31740379,  3.3561697 ,  3.39493561,\n",
       "         3.43370152,  3.47246742,  3.51123357,  3.54999948,  3.58876538,\n",
       "         3.62753129]),\n",
       " <BarContainer object of 100 artists>)"
      ]
     },
     "execution_count": 26,
     "metadata": {},
     "output_type": "execute_result"
    },
    {
     "data": {
      "image/png": "[encoded data removed]",
      "text/plain": [
       "<Figure size 640x480 with 1 Axes>"
      ]
     },
     "metadata": {},
     "output_type": "display_data"
    }
   ],
   "source": [
    "plt.hist(X[:, 0, 0], bins=100)"
   ]
  },
  {
   "cell_type": "code",
   "execution_count": null,
   "id": "eb87ddd2-3d73-4cf3-b68f-fcbb9676af7b",
   "metadata": {},
   "outputs": [],
   "source": []
  },
  {
   "cell_type": "code",
   "execution_count": null,
   "id": "f883ade9-1cec-470b-b993-6ba55529abc1",
   "metadata": {},
   "outputs": [],
   "source": []
  },
  {
   "cell_type": "code",
   "execution_count": null,
   "id": "5903e872-c709-472d-8352-0a960b07ae44",
   "metadata": {},
   "outputs": [],
   "source": []
  },
  {
   "cell_type": "code",
   "execution_count": null,
   "id": "726cad23-7c98-4e90-b2eb-7b6cc6cb0478",
   "metadata": {},
   "outputs": [],
   "source": []
  },
  {
   "cell_type": "code",
   "execution_count": null,
   "id": "7f7db6c2-2b8f-4af5-ada3-6b287cf305fa",
   "metadata": {},
   "outputs": [],
   "source": []
  },
  {
   "cell_type": "code",
   "execution_count": null,
   "id": "936d1aef-6dee-46e8-a0a3-216ae02197ff",
   "metadata": {},
   "outputs": [],
   "source": []
  },
  {
   "cell_type": "code",
   "execution_count": 34,
   "id": "df40c712-dac7-4413-b4ad-757f664057a9",
   "metadata": {
    "tags": []
   },
   "outputs": [
    {
     "name": "stdout",
     "output_type": "stream",
     "text": [
      "Validation accuracy: 0.8695\n",
      "Final validation loss: 0.2907\n",
      "Final AMEX metric: 0.7498\n"
     ]
    }
   ],
   "source": [
    "# compute the classification binary accuracy\n",
    "val_preds = []\n",
    "val_labs = []\n",
    "for x_, y_ in val_loader:\n",
    "    val_preds.append(model(x_.cuda()).detach().cpu().numpy())\n",
    "    val_labs.append(y_.cpu().numpy())\n",
    "val_preds = np.concatenate(val_preds)\n",
    "val_labs = np.concatenate(val_labs)\n",
    "\n",
    "print(f\"Validation accuracy: {np.mean(np.where(val_preds > 0.5, 1.0, 0.0) == val_labs):.4f}\")\n",
    "print(f\"Final validation loss: {history['val_loss'][-1]:.4f}\")\n",
    "print(f\"Final AMEX metric: {history['val_amex_metric'][-1]:.4f}\")"
   ]
  },
  {
   "cell_type": "code",
   "execution_count": 35,
   "id": "d23b908c-2ce8-41fe-9c3a-87abbd7524ad",
   "metadata": {
    "tags": []
   },
   "outputs": [
    {
     "data": {
      "image/png": "[encoded data removed]",
      "text/plain": [
       "<Figure size 640x480 with 1 Axes>"
      ]
     },
     "metadata": {},
     "output_type": "display_data"
    }
   ],
   "source": [
    "plt.plot(history['train_loss'], label=\"Training loss\")\n",
    "plt.plot(history['val_loss'], label=\"Validation loss\")\n",
    "plt.legend()\n",
    "plt.show()"
   ]
  },
  {
   "cell_type": "markdown",
   "id": "47091689-675c-4d89-858c-7814b430c7d6",
   "metadata": {},
   "source": [
    "Using the uniform data instead..."
   ]
  },
  {
   "cell_type": "code",
   "execution_count": 36,
   "id": "441a31d7-d6bb-4d77-8670-d8972f87adff",
   "metadata": {
    "tags": []
   },
   "outputs": [
    {
     "data": {
      "application/vnd.jupyter.widget-view+json": {
       "model_id": "1e0ea6a14b1b492aad71ee5aa9774b02",
       "version_major": 2,
       "version_minor": 0
      },
      "text/plain": [
       "  0%|          | 0/40 [00:00<?, ?it/s]"
      ]
     },
     "metadata": {},
     "output_type": "display_data"
    },
    {
     "name": "stdout",
     "output_type": "stream",
     "text": [
      "Validation accuracy: 0.8680\n",
      "Final validation loss: 0.2918\n",
      "Final AMEX metric: 0.7591\n"
     ]
    },
    {
     "data": {
      "image/png": "[encoded data removed]",
      "text/plain": [
       "<Figure size 640x480 with 1 Axes>"
      ]
     },
     "metadata": {},
     "output_type": "display_data"
    }
   ],
   "source": [
    "model = basic_grunet.GRUNetBasic(X_normal.shape[2], 32, 2, 2, 0)\n",
    "loss_fn = F.binary_cross_entropy\n",
    "optimizer = torch.optim.Adam(model.parameters(), lr = 0.001)\n",
    "early_stopper = experimentation.EarlyStopper(patience=3)\n",
    "\n",
    "train_loader = torch.utils.data.DataLoader(\n",
    "    dataset = torch.utils.data.TensorDataset(\n",
    "        torch.from_numpy(X_normal[:int(N*0.8)]).type(torch.float32),\n",
    "        torch.from_numpy(y[:int(N*0.8)]).type(torch.float32)),\n",
    "    batch_size=64, shuffle = True)\n",
    "val_loader = torch.utils.data.DataLoader(\n",
    "    dataset = torch.utils.data.TensorDataset(\n",
    "        torch.from_numpy(X_normal[int(N*0.8):]).type(torch.float32),\n",
    "        torch.from_numpy(y[int(N*0.8):]).type(torch.float32)),\n",
    "    batch_size=64, shuffle = True)\n",
    "\n",
    "history = experimentation.fit_model(model, loss_fn, train_loader, val_loader, optimizer, num_epochs=40, early_stopper=early_stopper, verbose=False)\n",
    "\n",
    "# compute the classification binary accuracy\n",
    "val_preds = []\n",
    "val_labs = []\n",
    "for x_, y_ in val_loader:\n",
    "    val_preds.append(model(x_.cuda()).detach().cpu().numpy())\n",
    "    val_labs.append(y_.cpu().numpy())\n",
    "val_preds = np.concatenate(val_preds)\n",
    "val_labs = np.concatenate(val_labs)\n",
    "\n",
    "print(f\"Validation accuracy: {np.mean(np.where(val_preds > 0.5, 1.0, 0.0) == val_labs):.4f}\")\n",
    "print(f\"Final validation loss: {history['val_loss'][-1]:.4f}\")\n",
    "print(f\"Final AMEX metric: {history['val_amex_metric'][-1]:.4f}\")\n",
    "\n",
    "plt.plot(history['train_loss'], label=\"Training loss\")\n",
    "plt.plot(history['val_loss'], label=\"Validation loss\")\n",
    "plt.legend()\n",
    "plt.show()"
   ]
  },
  {
   "cell_type": "markdown",
   "id": "43041ec5-33ad-4021-b407-bbae696f1c94",
   "metadata": {},
   "source": [
    "## Sampling from $F$"
   ]
  },
  {
   "cell_type": "code",
   "execution_count": 18,
   "id": "1ae4de7b-947f-43a1-8388-3802d88b0b02",
   "metadata": {
    "tags": []
   },
   "outputs": [
    {
     "name": "stdout",
     "output_type": "stream",
     "text": [
      "import yaml\n",
      "import os\n",
      "import importlib\n",
      "import numpy as np\n",
      "import torch\n",
      "import torch.nn.functional as F\n",
      "import sklearn\n",
      "\n",
      "from src.lib import experimentation\n",
      "from src.models import basic_grunet\n",
      "\n",
      "# undo the min-max preprocessing\n",
      "def undo_min_max_corrupt_func(X, y):\n",
      "    \"\"\"\n",
      "    X of shape (num_examples, series_length, num_features)\n",
      "    In this undo, we assume scale same for each feature, over temporal scale\n",
      "    \"\"\"\n",
      "    # to ensure we get the same mins and scales every time\n",
      "    np.random.seed(42)\n",
      "    # randomize both the starting point and the feature scales\n",
      "    mins = np.random.uniform(-1E4, 1E4, size=X.shape[2])[np.newaxis, None]\n",
      "    # don't set the smallest scale too tiny, otherwise can lose information due to float 32 bit\n",
      "    scales = 10 ** np.random.uniform(-1, 5, size=X.shape[2])[np.newaxis, None]\n",
      "\n",
      "    X_corrupt = X * scales + mins\n",
      "    return X_corrupt, y\n",
      "\n",
      "with open(os.path.join(\"config.yaml\")) as f:\n",
      "    cfg = yaml.load(f, Loader=yaml.FullLoader)\n",
      "\n",
      "data_loader_kwargs = {\n",
      "    'batch_size' : 1024,\n",
      "    'shuffle' : False,\n",
      "    'drop_last' : False,\n",
      "}\n",
      "\n",
      "fit_kwargs = {\n",
      "    'train_split_data_dir' : os.path.join(cfg['dataset_directory'], \"derived\", \"processed-splits\"),\n",
      "    'num_epochs' : 50,\n",
      "    'early_stopper_patience' : 5,\n",
      "    'early_stopper_min_delta' : 0.0,\n",
      "    'optimizer_init' : lambda x: torch.optim.Adam(x, lr = 0.001),\n",
      "    'scheduler_init' : lambda x: torch.optim.lr_scheduler.MultiStepLR(x, milestones=[4, 7], gamma=0.1),\n",
      "    'verbose' : False,\n",
      "}\n",
      "\n",
      "fill_dict = {\n",
      "    'nan' : -0.5,\n",
      "    'pad_categorical' : -2,\n",
      "    'pad_numeric' : -1.,\n",
      "}\n",
      "\n",
      "torch.manual_seed(42)\n",
      "np.random.seed(42)\n",
      "\n",
      "model = basic_grunet.GRUNetBasic(188, 128, 2, 4)\n",
      "loss_fn = F.binary_cross_entropy\n"
     ]
    }
   ],
   "source": [
    "!cat /home/mas322/amex-project/src/experiments/static_preprocessing_methods/experiment_setup.py"
   ]
  },
  {
   "cell_type": "code",
   "execution_count": null,
   "id": "ac3c1ea4-eab8-409b-a404-115a860439bf",
   "metadata": {},
   "outputs": [],
   "source": []
  },
  {
   "cell_type": "code",
   "execution_count": null,
   "id": "49d85f3f-9435-413a-ab50-f77e2c37581d",
   "metadata": {},
   "outputs": [],
   "source": []
  },
  {
   "cell_type": "code",
   "execution_count": 8,
   "id": "8b6d249c-5b8e-4d92-a4b5-acad788e524d",
   "metadata": {
    "tags": []
   },
   "outputs": [],
   "source": [
    "U = pyro.distributions.Uniform(0, 1).rv"
   ]
  },
  {
   "cell_type": "markdown",
   "id": "da7c1abe-31e7-433a-8457-c6c647f76bed",
   "metadata": {},
   "source": [
    "Available operations:\n",
    "* Addition\n",
    "* Subtraction\n",
    "* Multiplication\n",
    "* Division\n",
    "* Absolute values `X.abs()`\n",
    "* Exponentiation `X.pow(<int>)`\n",
    "* Negation `X.neg()`\n",
    "* Exp $e^X$ with `X.exp()`\n",
    "* Log with `X.log()`\n",
    "* Sigmoid transform `X.sigmoid()`\n",
    "* tanh with `X.tanh()`\n",
    "* Softmax with `X.softmax()`"
   ]
  },
  {
   "cell_type": "code",
   "execution_count": 10,
   "id": "82e4f8ec-3e30-4f74-96b4-31ea6787cfcf",
   "metadata": {
    "tags": []
   },
   "outputs": [],
   "source": [
    "X = (4 - U).exp()"
   ]
  },
  {
   "cell_type": "code",
   "execution_count": 13,
   "id": "217baad9-9ca0-47c8-8e15-00261cc6bf20",
   "metadata": {
    "tags": []
   },
   "outputs": [
    {
     "data": {
      "text/plain": [
       "tensor([23.7435, 32.2350, 47.8166, 26.0117, 22.8435, 52.3709, 38.0960, 33.1339,\n",
       "        23.0440, 22.2954])"
      ]
     },
     "execution_count": 13,
     "metadata": {},
     "output_type": "execute_result"
    }
   ],
   "source": [
    "X.dist.sample((10,))"
   ]
  },
  {
   "cell_type": "code",
   "execution_count": 120,
   "id": "5587f4a3-2be7-47cf-8863-2ee40930c967",
   "metadata": {
    "tags": []
   },
   "outputs": [],
   "source": [
    "def plot_dist(transform_fn, title = None, n_samples_to_find_boundary=10000):\n",
    "    U = pyro.distributions.Uniform(0, 1).rv\n",
    "    X = transform_fn(U)\n",
    "    \n",
    "    samples = X.dist.sample((n_samples_to_find_boundary,))\n",
    "    lower = samples.min()\n",
    "    upper = samples.max()\n",
    "    \n",
    "    xs = torch.linspace(lower, upper, 1000)\n",
    "    ys = torch.exp(X.dist.log_prob(xs))\n",
    "    plt.plot(xs, ys)\n",
    "    plt.xlabel(\"value in support\")\n",
    "    plt.ylabel(\"Density\")\n",
    "    if title is not None:\n",
    "        plt.title(title)\n",
    "    "
   ]
  },
  {
   "cell_type": "code",
   "execution_count": 121,
   "id": "11a20e5f-6e9a-4b2c-9dd0-82fa950725c3",
   "metadata": {
    "tags": []
   },
   "outputs": [
    {
     "data": {
      "image/png": "[encoded data removed]",
      "text/plain": [
       "<Figure size 640x480 with 1 Axes>"
      ]
     },
     "metadata": {},
     "output_type": "display_data"
    }
   ],
   "source": [
    "def example_transform(u):\n",
    "    return (u * 3 - .5).tanh() #+ (u / 10 + 1).exp() * 10\n",
    "plot_dist(example_transform, \"Example PDF\")"
   ]
  },
  {
   "cell_type": "code",
   "execution_count": 145,
   "id": "7c19a4ed-1fdb-4cee-a486-6eeb6bea40d3",
   "metadata": {
    "tags": []
   },
   "outputs": [
    {
     "data": {
      "image/png": "[encoded data removed]",
      "text/plain": [
       "<Figure size 640x480 with 1 Axes>"
      ]
     },
     "metadata": {},
     "output_type": "display_data"
    }
   ],
   "source": [
    "def f(u):\n",
    "    return (u.exp() + 3).pow(2.)\n",
    "plot_dist(f)"
   ]
  },
  {
   "cell_type": "markdown",
   "id": "e9ee59ab-231d-4bdc-a9ea-6fd790f2d7c3",
   "metadata": {},
   "source": [
    "**Step 1:** Generate correlated uniform random samples:\n",
    "  - Design a covariance structure with lower-triangular matrix $A \\in \\mathbb{R}^{(DT) \\times (DT)}$, and use this to form the covariance matrix $\\Sigma$ (more details on this later), or just use a random matrix $A$ and set $\\Sigma=A^\\top A$\n",
    "  - Sample $X \\sim \\mathcal{N}(0, \\Sigma)$, such that $X \\in \\mathbb{R}^{D\\cdot T}$, then reshape to $X \\in \\mathbb{R}^{D \\times T}$\n",
    "  - Let $U \\in \\mathbb{R}^{D \\times T}$ be formed with $U_{i,j}=\\Phi_\\mathcal{N}(X_{i,j} \\cdot \\Sigma_{i\\cdot T+j,i\\cdot T+j}^{-1/2})$ (it can be shown that $U_{i,j} \\sim \\textrm{Uniform}[0,1]$)\n",
    "\n",
    "**Step 2:** Form the response using the uniform random variables:\n",
    "  - Create the response with $y=\\mathbb{I}(\\beta_{1,1} U_{1,1}+\\dots+\\beta_{D,T} U_{D,T}+\\zeta > \\frac{1}{2})$ where $\\zeta \\sim \\mathcal{N}(0,\\sigma_\\zeta^2)$ is a noise term\n",
    "\n",
    "**Step 3:** Form samples from arbitrary distributions with unnormalized PDFs $f_1,\\dots,f_D$:\n",
    "  - ****************Sub-procedure**************** `sample_pdf(f, u)` that takes an unormalized pdf $f$ and a sample $u \\sim U[0,1]$ and returns a sample $x$ from $f$ such that $F(x)\\approx u$\n",
    "    - Evaluate `f` on a fine-grid of values with suitable lower- and upper boundaries $A$ and $B$\n",
    "    - Use `scipy.integrate.cumulative_trapezoid` to efficiently estimate $F(x)=\\int_{-\\infty}^xf(x')dx'$ for all $x \\in \\{A,A+\\delta x,A+2 \\delta x,\\dots,B\\}=:\\mathcal{X}$.\n",
    "    - Normalize the PDF using the estimate of $F(B)$.\n",
    "    - Let $\\mathcal{F}$ contain the corresponding estimates of $F(x)$\n",
    "    - Cache an inverse-lookup table $f \\in \\mathcal{F} \\mapsto x \\in \\mathcal{X}$ (this serves as approximately evaluating $F^{-1}(u)$)\n",
    "    - Return an approximation for $F^{-1}(u)$\n",
    "  - For each dimension $d=1,\\dots,D$, pass $U_{d,1},\\dots,U_{d,T}$ through `sample_pdf` with `f` set to $f_d$ to give $X_{d,1},\\dots,X_{d,T}$"
   ]
  },
  {
   "cell_type": "code",
   "execution_count": 1,
   "id": "932523a7-8f44-4e87-b825-800b17ce0b10",
   "metadata": {},
   "outputs": [],
   "source": [
    "import scipy\n",
    "import numpy as np\n",
    "import torch\n",
    "import matplotlib.pyplot as plt\n",
    "import pandas as pd\n",
    "\n",
    "class SynthethicData:\n",
    "    \n",
    "    def __init__(self, dim_size, time_series_length, pdfs, pdf_bounds,\n",
    "                 ar_q, ar_thetas, ar_sigma_noises=None,\n",
    "                 cross_variables_cor_init_sigma=None,\n",
    "                 pdf_approximation_number_of_samples=20_000,\n",
    "                 response_noise_sigma=1e-3, response_thresh=0.5,\n",
    "                 response_beta_sigma=1.0):\n",
    "        \"\"\"\n",
    "        TODO\n",
    "        \n",
    "        :param response_thresh: The treshold for labelling response as 1.\n",
    "                                The expected number of negative examples is\n",
    "                                equal to this parameter.\n",
    "        \"\"\"\n",
    "        \n",
    "        # validate parameters\n",
    "        if len(pdfs) != dim_size:\n",
    "            raise ValueError(\"The number of provided PDFs does not match the number of dimensions\")\n",
    "        if len(pdf_bounds) != dim_size:\n",
    "            raise ValueError(\"The number of provided PDF bounds does not match the number of dimensions\")\n",
    "        if q >= time_series_length:\n",
    "            raise ValueError(\"q must be less than T\")\n",
    "        if thetas.shape != (dim_size, ar_q + 1):\n",
    "            raise ValueError(\"The MA thetas must be of shape (D, q+1)\")\n",
    "        \n",
    "        # general parameters\n",
    "        self.D = dim_size\n",
    "        self.T = time_series_length\n",
    "        \n",
    "        # parameters for converting the uniform samples to arbitrary distributions\n",
    "        self.pdfs = pdfs\n",
    "        self.pdf_bounds = pdf_bounds\n",
    "        self.pdf_num_samples = pdf_approximation_number_of_samples\n",
    "        self.pdf_cache = [None] * dim_size\n",
    "        \n",
    "        # parameters for synthesizing the covariance matrix Sigma\n",
    "        self.q = ar_q\n",
    "        self.thetas = ar_thetas\n",
    "        self.ar_sigma_noises = ar_sigma_noises if ar_sigma_noises is not None else np.ones((self.D,))\n",
    "        self.cor_init_sigma = cross_variables_cor_init_sigma\n",
    "        self.sigma = None\n",
    "        \n",
    "        # parameters used for synthesizing the response\n",
    "        self.respose_thresh = response_thresh\n",
    "        self.response_noise_sigma = response_noise_sigma\n",
    "        self.betas = np.random.normal(loc=0.0, scale=response_beta_sigma, size=(self.D * self.T,))\n",
    "        # Ignoring the correlation between the Us, we have\n",
    "        # E( sum(betas @ us) + epsilon ) = sum( E[beta_i] * E[U_i] ) = 1/2 * sum(E[beta_i])\n",
    "        #                                = DT/2 E[beta_0] =: 0.5\n",
    "        # We want the above expectation to be equal to 0.5 such that half the responses are positive\n",
    "        # with the default threshold. Therefore, we recenter the beta expectation to 1/DT\n",
    "        self.betas = self.betas - np.mean(self.betas) + 1 / (self.D * self.T)\n",
    "        \n",
    "    def _sample_pdf(self, f_idx, us):\n",
    "        \"\"\"\n",
    "        Generates samples xs from the f_idx'th pdf such that F(xs) = us\n",
    "        \n",
    "        :param f_idx: integer indexing into self.pdfs\n",
    "        :param us: np.ndarray of shape (num_samples,). The number of\n",
    "                   samples returned will match this\n",
    "        :param num_integration_samples: number of samples used to approximate F(x)\n",
    "        :returns: np.ndarray of same shape as us\n",
    "        \"\"\"\n",
    "        cache = self.pdf_cache[f_idx]\n",
    "        # we also need to redo the cache if the number of samples changed\n",
    "        if cache is None:\n",
    "            A, B = self.pdf_bounds[f_idx]\n",
    "            xs = np.linspace(A, B, self.pdf_num_samples)\n",
    "\n",
    "            Fs = scipy.integrate.cumulative_trapezoid(self.pdfs[f_idx](xs), xs, initial = 0)\n",
    "            # normalize the CDF so endpoint is at 1 (as pdf f might be unnormalized)\n",
    "            Fs /= np.max(Fs)\n",
    "\n",
    "            # shape (num_samples, 2):\n",
    "            #   first column contains F(x)s\n",
    "            #   second column contains xs\n",
    "            cache = np.stack([Fs, xs]).T\n",
    "            self.pdf_cache[f_idx] = cache\n",
    "\n",
    "        # Find the idx such that F(x[idx]) = us\n",
    "        cache_idx = np.searchsorted(cache[:, 0], us, side = 'right')\n",
    "        samples = cache[cache_idx, 1]\n",
    "        return samples\n",
    "    \n",
    "    def _create_responses(self, us):\n",
    "        \"\"\"\n",
    "        :param us: np.ndarray of shape (n, D, T)\n",
    "        \"\"\"\n",
    "        # number of responses to create\n",
    "        n = us.shape[0]\n",
    "        epsilons = np.random.normal(scale=self.response_noise_sigma, size=(n,))\n",
    "        ys = (us.reshape((n, -1)) @ self.betas) + epsilons\n",
    "        # print(f\"epsilon {np.mean(epsilons)}\")\n",
    "        # print(f\"betas {np.mean(self.betas)}\")\n",
    "        # print(f\"us {np.mean(us)}\")\n",
    "        # print(f\"us @ betas + epsilon {np.mean(ys)}\")\n",
    "        # These are normally distributed with mean 0\n",
    "        # plt.hist(ys, bins = 200)\n",
    "        # plt.show()\n",
    "        return np.float32(ys  > self.respose_thresh)\n",
    "        \n",
    "    \n",
    "    def _sample_correlated_uniforms(self, n):\n",
    "        \"\"\"\n",
    "        Returns an array of uniform random variables correlated \"like\" sigma, where sigma\n",
    "        is set up initializing self.mvn_sampler\n",
    "        \n",
    "        :param n: integer specifying the number of sets of (D, T) samples to generates\n",
    "        :param sigma: np.ndarray of shape(D * T, D * T) specifying the covariance relation\n",
    "        :return: np.ndarray of shape (n, D, T)\n",
    "        \"\"\"\n",
    "        mvn_sampler = scipy.stats.multivariate_normal(mean = np.zeros(self.D * self.T), cov = self.sigma, allow_singular=True)\n",
    "        # shape (n, D * T)\n",
    "        norm_samples = mvn_sampler.rvs(n)\n",
    "        u_samples = np.zeros((n, self.D * self.T))\n",
    "        for i in range(self.D * self.T):\n",
    "            # the marginal distribution of the MVN will have this std\n",
    "            norm_obj = scipy.stats.norm(loc = 0., scale = np.sqrt(self.sigma[i, i]))\n",
    "            # The CDF then gives uniform random samples\n",
    "            u_samples[:, i] = norm_obj.cdf(norm_samples[:, i])\n",
    "        \n",
    "        # shape (n, D, T)\n",
    "        u_samples = u_samples.reshape((n, self.D, self.T))\n",
    "        return u_samples\n",
    "    \n",
    "    def _isPositiveDefinite(self, A):\n",
    "        try:\n",
    "            _ = np.linalg.cholesky(A)\n",
    "            return True\n",
    "        except np.linalg.LinAlgError:\n",
    "            return False\n",
    "    \n",
    "    def _find_closest_psd_matrix(self, A):\n",
    "        \"\"\"Find the nearest positive-definite matrix to input\n",
    "\n",
    "        A Python/Numpy port of John D'Errico's `nearestSPD` MATLAB code [1], which\n",
    "        credits [2].\n",
    "\n",
    "        Author: Ahmed Fasih [3]\n",
    "\n",
    "        [1] https://www.mathworks.com/matlabcentral/fileexchange/42885-nearestspd\n",
    "\n",
    "        [2] N.J. Higham, \"Computing a nearest symmetric positive semidefinite\n",
    "        matrix\" (1988): https://doi.org/10.1016/0024-3795(88)90223-6\n",
    "        \n",
    "        [3] https://stackoverflow.com/questions/43238173/python-convert-matrix-to-positive-semi-definite/43244194#43244194\n",
    "        \"\"\"\n",
    "\n",
    "        B = (A + A.T) / 2\n",
    "        _, s, V = np.linalg.svd(B)\n",
    "\n",
    "        H = np.dot(V.T, np.dot(np.diag(s), V))\n",
    "\n",
    "        A2 = (B + H) / 2\n",
    "\n",
    "        A3 = (A2 + A2.T) / 2\n",
    "\n",
    "        if self._isPositiveDefinite(A3):\n",
    "            return A3\n",
    "\n",
    "        spacing = np.spacing(np.linalg.norm(A))\n",
    "        # The above is different from [1]. It appears that MATLAB's `chol` Cholesky\n",
    "        # decomposition will accept matrixes with exactly 0-eigenvalue, whereas\n",
    "        # Numpy's will not. So where [1] uses `eps(mineig)` (where `eps` is Matlab\n",
    "        # for `np.spacing`), we use the above definition. CAVEAT: our `spacing`\n",
    "        # will be much larger than [1]'s `eps(mineig)`, since `mineig` is usually on\n",
    "        # the order of 1e-16, and `eps(1e-16)` is on the order of 1e-34, whereas\n",
    "        # `spacing` will, for Gaussian random matrixes of small dimension, be on\n",
    "        # othe order of 1e-16. In practice, both ways converge, as the unit test\n",
    "        # below suggests.\n",
    "        I = np.eye(A.shape[0])\n",
    "        k = 1\n",
    "        while not self._isPositiveDefinite(A3):\n",
    "            mineig = np.min(np.real(np.linalg.eigvals(A3)))\n",
    "            A3 += I * (-mineig * k**2 + spacing)\n",
    "            k += 1\n",
    "\n",
    "        return A3\n",
    "\n",
    "    def _ar_acvs(self, tau, thetas, sigma_noise):\n",
    "        # assumed the first element is -1\n",
    "        if thetas[0] != -1:\n",
    "            raise ValueError(\"The first theta of the AR(q) params is not -1\")\n",
    "\n",
    "        q = thetas.shape[0] - 1\n",
    "        s_tau = 0\n",
    "        for j in range(q - tau + 1):\n",
    "            s_tau += thetas[j] * thetas[j + tau]\n",
    "        return s_tau * sigma_noise ** 2\n",
    "\n",
    "    def _create_covariance_matrix(self, thetas):\n",
    "        if self.cor_init_sigma is not None:\n",
    "            A = np.random.normal(loc = 0, scale = self.cor_init_sigma, size = (D * T, D * T))\n",
    "            A = np.tril(A)\n",
    "        else:\n",
    "            A = np.zeros((D * T, D * T))\n",
    "        \n",
    "        # When we later sample MVN of shape (DT), we will unroll\n",
    "        # one row at a time:\n",
    "        # > np.arange(1, 11).reshape((D, T))\n",
    "        # array([[ 1,  2,  3,  4,  5],\n",
    "        #        [ 6,  7,  8,  9, 10]])\n",
    "        # Therefore, to get (D, T) indexing, we use (d * T + i) when\n",
    "        # indexing into A. We also want to make a lower-triangular\n",
    "        # matrix, so the highest index should come first\n",
    "        for d in range(D):\n",
    "            # all possible lags\n",
    "            for tau in range(T):\n",
    "                # all valid starting entries\n",
    "                for i in range(T - tau):\n",
    "                    # we are setting the correlation between U[d,i] and U[d,i+tau]\n",
    "                    A[(d * T + i) + tau , d * T + i] =\\\n",
    "                        self._ar_acvs(tau, self.thetas[d, :], self.ar_sigma_noises[d])\n",
    "        # to preserve the diagonals, reset them after adding the transpose\n",
    "        sigma = A + A.T\n",
    "        np.fill_diagonal(sigma, np.diag(A))\n",
    "        return self._find_closest_psd_matrix(sigma)\n",
    "    \n",
    "    def generate_data(self, n, return_uniform = False):\n",
    "        \"\"\"\n",
    "        Generates correlated Xs and corresponding responses y\n",
    "        \n",
    "        :return: tuple (X, y) where X is an np.ndarray of shape (n, D, T) and y is of shape (n,)\n",
    "        \"\"\"\n",
    "        \n",
    "        if self.sigma is None:\n",
    "            self.sigma = self._create_covariance_matrix(self.thetas)\n",
    "            print(self.sigma)\n",
    "        \n",
    "        # shape (n, D, T)\n",
    "        us = self._sample_correlated_uniforms(n)\n",
    "        # shape (n,)\n",
    "        ys = self._create_responses(us)\n",
    "        \n",
    "        # corrupt the data using our PDFs and u samples\n",
    "        Xs = np.zeros((n, self.D, self.T))\n",
    "        for f_idx in range(self.D):\n",
    "            Xs[:, f_idx, :] = self._sample_pdf(f_idx, us[:, f_idx, :].reshape(-1)).reshape((n, self.T))\n",
    "            \n",
    "        if return_uniform:\n",
    "            return np.float32(us), ys\n",
    "        else:\n",
    "            return np.float32(Xs), ys"
   ]
  },
  {
   "cell_type": "code",
   "execution_count": 321,
   "id": "9f212a38-ca8a-42b9-b571-5fdf4e41f7c4",
   "metadata": {
    "tags": []
   },
   "outputs": [
    {
     "name": "stdout",
     "output_type": "stream",
     "text": [
      "[[ 2.54307553e+00 -8.46331019e-01  6.49808192e-01 -7.03315847e-01\n",
      "  -1.35644524e-02 -2.20027850e-01  1.65419692e+00  1.33309493e+00\n",
      "  -1.26031489e-01 -1.66797340e+00 -2.87253282e-01  1.70913039e-01]\n",
      " [-8.46331019e-01  2.18271584e+00 -9.78497592e-01  6.54318336e-01\n",
      "  -5.63780908e-01  1.63452043e-01 -8.38427544e-01 -1.28073214e+00\n",
      "  -2.39168669e-02  1.91174455e-01  6.39151197e-01 -6.10552885e-01]\n",
      " [ 6.49808192e-01 -9.78497592e-01  2.44062801e+00 -6.89462590e-01\n",
      "   4.20781611e-01 -8.29307754e-01 -9.78485855e-02  1.34882717e+00\n",
      "   1.40983973e+00 -2.60798564e-01 -1.71495380e+00  4.92860450e-01]\n",
      " [-7.03315847e-01  6.54318336e-01 -6.89462590e-01  2.04540952e+00\n",
      "  -6.81978920e-01  5.29689220e-01 -9.80592923e-01 -5.75444372e-01\n",
      "   4.85670929e-01  1.65417665e-02 -1.08515334e-01 -6.01129215e-01]\n",
      " [-1.35644524e-02 -5.63780908e-01  4.20781611e-01 -6.81978920e-01\n",
      "   2.16127237e+00 -6.28046116e-01  3.18953154e-02 -7.71912766e-01\n",
      "   3.25871811e-01 -3.03583089e-01 -6.38013257e-01  2.41687198e-01]\n",
      " [-2.20027850e-01  1.63452043e-01 -8.29307754e-01  5.29689220e-01\n",
      "  -6.28046116e-01  2.48983840e+00  3.33099029e-02  6.46554653e-02\n",
      "  -1.43865554e+00  8.72518458e-01  4.26469753e-02 -1.83349174e+00]\n",
      " [ 1.65419692e+00 -8.38427544e-01 -9.78485855e-02 -9.80592923e-01\n",
      "   3.18953154e-02  3.33099029e-02  2.27406601e+00  2.24481450e-01\n",
      "  -6.74085942e-01 -2.33408315e-01 -1.83084330e-02  1.29041419e-01]\n",
      " [ 1.33309493e+00 -1.28073214e+00  1.34882717e+00 -5.75444372e-01\n",
      "  -7.71912766e-01  6.46554653e-02  2.24481450e-01  2.47730338e+00\n",
      "   1.66349589e-01 -8.01361085e-01 -2.32504882e-01  2.14926195e-01]\n",
      " [-1.26031489e-01 -2.39168669e-02  1.40983973e+00  4.85670929e-01\n",
      "   3.25871811e-01 -1.43865554e+00 -6.74085942e-01  1.66349589e-01\n",
      "   2.27115549e+00 -1.52427392e-01 -9.22698605e-01  2.81306706e-01]\n",
      " [-1.66797340e+00  1.91174455e-01 -2.60798564e-01  1.65417665e-02\n",
      "  -3.03583089e-01  8.72518458e-01 -2.33408315e-01 -8.01361085e-01\n",
      "  -1.52427392e-01  2.28530761e+00 -7.14096234e-02 -8.23902132e-01]\n",
      " [-2.87253282e-01  6.39151197e-01 -1.71495380e+00 -1.08515334e-01\n",
      "  -6.38013257e-01  4.26469753e-02 -1.83084330e-02 -2.32504882e-01\n",
      "  -9.22698605e-01 -7.14096234e-02  2.12344403e+00  3.71859491e-04]\n",
      " [ 1.70913039e-01 -6.10552885e-01  4.92860450e-01 -6.01129215e-01\n",
      "   2.41687198e-01 -1.83349174e+00  1.29041419e-01  2.14926195e-01\n",
      "   2.81306706e-01 -8.23902132e-01  3.71859491e-04  2.23211068e+00]]\n"
     ]
    }
   ],
   "source": [
    "D = 2\n",
    "T = 6\n",
    "# lower bound, upper bound, and unormalized PDF\n",
    "bounds = [(-3, 5), (-4, 16)]\n",
    "f1 = lambda x: 10 * scipy.stats.norm.cdf(10 * x) * scipy.stats.norm.pdf(x)\n",
    "f2 = lambda x: scipy.stats.norm.pdf(x - 6)\n",
    "# both of the two time-series will be q=3 and q=2, respecitvely\n",
    "thetas = np.array([\n",
    "    [-1., 0.5, -0.2, 0.8],\n",
    "    [-1., 0.3, 0.9, 0.0]\n",
    "])\n",
    "\n",
    "synth_data = SynthethicData(\n",
    "    dim_size = D,\n",
    "    time_series_length = T,\n",
    "    pdfs = [f1, f2],\n",
    "    pdf_bounds = bounds,\n",
    "    ar_q = 3,\n",
    "    ar_thetas = thetas,\n",
    "    cross_variables_cor_init_sigma=1.0,\n",
    ")\n",
    "\n",
    "np.random.seed(43)\n",
    "X, y = synth_data.generate_data(n = 1000, return_uniform=True)"
   ]
  },
  {
   "cell_type": "code",
   "execution_count": 323,
   "id": "e9e34c26-f918-4b45-9255-a70e00d936e0",
   "metadata": {
    "tags": []
   },
   "outputs": [
    {
     "data": {
      "image/png": "[encoded data removed]",
      "text/plain": [
       "<Figure size 640x480 with 1 Axes>"
      ]
     },
     "metadata": {},
     "output_type": "display_data"
    }
   ],
   "source": [
    "# see the distribution for one of the timestamps for the second time-series\n",
    "plt.hist(X[:, 1, 3], bins = 100)\n",
    "plt.show()"
   ]
  },
  {
   "cell_type": "code",
   "execution_count": 324,
   "id": "0df0f0e5-b3f6-4919-a15b-ae0923220362",
   "metadata": {
    "tags": []
   },
   "outputs": [
    {
     "data": {
      "image/png": "[encoded data removed]",
      "text/plain": [
       "<Figure size 640x480 with 1 Axes>"
      ]
     },
     "metadata": {},
     "output_type": "display_data"
    }
   ],
   "source": [
    "# see the distribution for one of the timestamps for the first time-series\n",
    "plt.hist(X[:, 0, 3], bins = 100)\n",
    "plt.show()"
   ]
  },
  {
   "cell_type": "code",
   "execution_count": 325,
   "id": "275d9341-5e86-45e6-9252-c81ead978122",
   "metadata": {
    "tags": []
   },
   "outputs": [
    {
     "data": {
      "image/png": "[encoded data removed]",
      "text/plain": [
       "<Figure size 1000x500 with 2 Axes>"
      ]
     },
     "metadata": {},
     "output_type": "display_data"
    }
   ],
   "source": [
    "time_series_idx = 0\n",
    "\n",
    "def sample_acvs(xs, tau):\n",
    "    x_bar = np.mean(xs)\n",
    "    N = len(xs)\n",
    "    autoCov = 0\n",
    "    for i in np.arange(0, N-tau):\n",
    "        autoCov += ((xs[i+tau])-x_bar)*(xs[i]-x_bar)\n",
    "    return (1/(N-1))*autoCov\n",
    "\n",
    "fig, axs = plt.subplots(ncols=2, figsize = (10, 5))\n",
    "\n",
    "# theoretical acvs for the first time-series\n",
    "acvs = []\n",
    "for tau in range(10):\n",
    "    # normalize so we get the auto correlation sequence\n",
    "    acvs.append(synth_data._ar_acvs(tau, thetas[time_series_idx, :], 1.0) / synth_data._ar_acvs(0, thetas[0, :], 1.0))\n",
    "axs[0].bar(np.arange(10), acvs, width = 0.2)\n",
    "axs[0].axhline(0, color='black')\n",
    "axs[0].set_title(\"Theoretical autocorrelation sequence\")\n",
    "\n",
    "# sample acvs for the first time-series\n",
    "acvs = []\n",
    "for tau in range(10):\n",
    "    acvs.append(np.mean([sample_acvs(X[i, time_series_idx, :], tau) for i in range(X.shape[0])]))\n",
    "# normalize so we get the auto correlation sequence\n",
    "acvs = np.array(acvs) / acvs[0]\n",
    "axs[1].bar(np.arange(10), acvs, width = 0.2)\n",
    "axs[1].axhline(0, color='black')\n",
    "axs[1].set_title(\"Average autocorrelation sequence\")\n",
    "plt.show()"
   ]
  },
  {
   "cell_type": "code",
   "execution_count": null,
   "id": "3b6d8909-8093-411a-a14f-9651ceb4d9d6",
   "metadata": {},
   "outputs": [],
   "source": []
  },
  {
   "cell_type": "code",
   "execution_count": 322,
   "id": "b4663e8a-266d-45bb-9ae9-142727c75742",
   "metadata": {
    "tags": []
   },
   "outputs": [
    {
     "data": {
      "text/plain": [
       "0.968"
      ]
     },
     "execution_count": 322,
     "metadata": {},
     "output_type": "execute_result"
    }
   ],
   "source": [
    "# test if any mutual information between X and y\n",
    "import sklearn\n",
    "from sklearn.linear_model import LogisticRegression\n",
    "\n",
    "X2 = X.reshape((X.shape[0], -1))\n",
    "\n",
    "mod = LogisticRegression(max_iter=500)\n",
    "mod.fit(X2, y)\n",
    "\n",
    "mod.score(X2, y)"
   ]
  },
  {
   "cell_type": "code",
   "execution_count": null,
   "id": "c6d589a6-e1ea-420e-a985-2c69da8256b7",
   "metadata": {},
   "outputs": [],
   "source": []
  },
  {
   "cell_type": "code",
   "execution_count": 33,
   "id": "dd1166cf-b3a5-4403-b401-ad7cd8ebf4cc",
   "metadata": {
    "tags": []
   },
   "outputs": [
    {
     "data": {
      "text/plain": [
       "[<matplotlib.lines.Line2D at 0x7ffa68752e60>]"
      ]
     },
     "execution_count": 33,
     "metadata": {},
     "output_type": "execute_result"
    },
    {
     "data": {
      "image/png": "[encoded data removed]",
      "text/plain": [
       "<Figure size 640x480 with 1 Axes>"
      ]
     },
     "metadata": {},
     "output_type": "display_data"
    }
   ],
   "source": [
    "xs = np.linspace(-30, 10, 10000)\n",
    "def f(x):\n",
    "    return np.where(x > 3, np.exp(7-x), np.exp(x / 10) * (10 * np.sin(x) + 10))\n",
    "\n",
    "plt.plot(xs, f(xs))"
   ]
  },
  {
   "cell_type": "code",
   "execution_count": null,
   "id": "b17ecffd-32e9-41f2-b045-cf6b3f1b8439",
   "metadata": {},
   "outputs": [],
   "source": []
  },
  {
   "cell_type": "code",
   "execution_count": null,
   "id": "4018b402-571e-452e-a183-9fc568ff58c2",
   "metadata": {},
   "outputs": [],
   "source": []
  },
  {
   "cell_type": "code",
   "execution_count": 87,
   "id": "3b88ed14-1414-4c7a-8599-e3c0f8f6744f",
   "metadata": {
    "tags": []
   },
   "outputs": [
    {
     "data": {
      "text/html": [
       "<div>\n",
       "<style scoped>\n",
       "    .dataframe tbody tr th:only-of-type {\n",
       "        vertical-align: middle;\n",
       "    }\n",
       "\n",
       "    .dataframe tbody tr th {\n",
       "        vertical-align: top;\n",
       "    }\n",
       "\n",
       "    .dataframe thead th {\n",
       "        text-align: right;\n",
       "    }\n",
       "</style>\n",
       "<table border=\"1\" class=\"dataframe\">\n",
       "  <thead>\n",
       "    <tr style=\"text-align: right;\">\n",
       "      <th></th>\n",
       "      <th>0</th>\n",
       "      <th>1</th>\n",
       "      <th>2</th>\n",
       "    </tr>\n",
       "  </thead>\n",
       "  <tbody>\n",
       "    <tr>\n",
       "      <th>0</th>\n",
       "      <td>1.0</td>\n",
       "      <td>0.50</td>\n",
       "      <td>0.00</td>\n",
       "    </tr>\n",
       "    <tr>\n",
       "      <th>1</th>\n",
       "      <td>0.5</td>\n",
       "      <td>1.00</td>\n",
       "      <td>0.25</td>\n",
       "    </tr>\n",
       "    <tr>\n",
       "      <th>2</th>\n",
       "      <td>0.0</td>\n",
       "      <td>0.25</td>\n",
       "      <td>1.00</td>\n",
       "    </tr>\n",
       "  </tbody>\n",
       "</table>\n",
       "</div>"
      ],
      "text/plain": [
       "     0     1     2\n",
       "0  1.0  0.50  0.00\n",
       "1  0.5  1.00  0.25\n",
       "2  0.0  0.25  1.00"
      ]
     },
     "execution_count": 87,
     "metadata": {},
     "output_type": "execute_result"
    }
   ],
   "source": [
    "D = 1 / np.sqrt(np.diag(sigma))\n",
    "pd.DataFrame(D * sigma * D)"
   ]
  },
  {
   "cell_type": "markdown",
   "id": "cb0fb193-cd49-4905-9386-bb3e57d08690",
   "metadata": {},
   "source": [
    "$$s_\\tau=\\sigma_\\epsilon^2 \\sum_{j=0}^{q-\\tau} \\theta_{j,q} \\theta_{j+\\tau,q}$$"
   ]
  },
  {
   "cell_type": "code",
   "execution_count": null,
   "id": "d8cfc77d-4ceb-4a00-84d5-c6e7de17162c",
   "metadata": {},
   "outputs": [],
   "source": []
  },
  {
   "cell_type": "code",
   "execution_count": 136,
   "id": "b32d9e70-8c67-4e57-a660-6ac2a3e14c49",
   "metadata": {},
   "outputs": [
    {
     "data": {
      "text/plain": [
       "(10000,)"
      ]
     },
     "execution_count": 136,
     "metadata": {},
     "output_type": "execute_result"
    }
   ],
   "source": [
    "A = np.random.normal(size = (10000, 13))\n",
    "B = np.random.normal(size = (13,))\n",
    "(A @ B).shape"
   ]
  },
  {
   "cell_type": "code",
   "execution_count": 134,
   "id": "f7f2fda6-d46a-4b72-88fb-527c2aacdc68",
   "metadata": {},
   "outputs": [
    {
     "data": {
      "text/plain": [
       "14.206872651099928"
      ]
     },
     "execution_count": 134,
     "metadata": {},
     "output_type": "execute_result"
    }
   ],
   "source": [
    "B"
   ]
  },
  {
   "cell_type": "code",
   "execution_count": 139,
   "id": "56c02b63-b201-4df9-a989-e5727b4b9972",
   "metadata": {},
   "outputs": [
    {
     "data": {
      "text/plain": [
       "array([1., 0., 1., 0., 0., 0., 0., 0.], dtype=float32)"
      ]
     },
     "execution_count": 139,
     "metadata": {},
     "output_type": "execute_result"
    }
   ],
   "source": [
    "np.float32(np.random.normal(size = (8,)) > 0.5)"
   ]
  },
  {
   "cell_type": "code",
   "execution_count": 263,
   "id": "dd556c4a-a984-44ce-b974-04e178f1a7c3",
   "metadata": {},
   "outputs": [
    {
     "data": {
      "text/plain": [
       "(1000, 2, 10)"
      ]
     },
     "execution_count": 263,
     "metadata": {},
     "output_type": "execute_result"
    }
   ],
   "source": [
    "X.shape"
   ]
  }
 ],
 "metadata": {
  "kernelspec": {
   "display_name": "cudf_torch",
   "language": "python",
   "name": "cudf_torch"
  },
  "language_info": {
   "codemirror_mode": {
    "name": "ipython",
    "version": 3
   },
   "file_extension": ".py",
   "mimetype": "text/x-python",
   "name": "python",
   "nbconvert_exporter": "python",
   "pygments_lexer": "ipython3",
   "version": "3.10.11"
  }
 },
 "nbformat": 4,
 "nbformat_minor": 5
}
