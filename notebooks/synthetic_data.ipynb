{
 "cells": [
  {
   "cell_type": "markdown",
   "id": "5ea2cab7-e720-40cf-bfb6-c09431f083fc",
   "metadata": {},
   "source": [
    "# Synthetic data\n",
    "\n",
    "We can test our Python module doing this:"
   ]
  },
  {
   "cell_type": "code",
   "execution_count": 1,
   "id": "b637d872-0507-44df-b1e3-d723a162f0df",
   "metadata": {
    "tags": []
   },
   "outputs": [],
   "source": [
    "from src.lib import synthetic_data"
   ]
  },
  {
   "cell_type": "code",
   "execution_count": 3,
   "id": "297754f3-f0e9-476b-a66d-8ab134e52323",
   "metadata": {
    "tags": []
   },
   "outputs": [
    {
     "data": {
      "text/plain": [
       "array([11.54262024,  2.44854241])"
      ]
     },
     "execution_count": 3,
     "metadata": {},
     "output_type": "execute_result"
    }
   ],
   "source": [
    "synthetic_data.synthesize_normal_data(10, 2)"
   ]
  },
  {
   "cell_type": "markdown",
   "id": "43041ec5-33ad-4021-b407-bbae696f1c94",
   "metadata": {},
   "source": [
    "## Sampling from $F$"
   ]
  },
  {
   "cell_type": "code",
   "execution_count": null,
   "id": "1ae4de7b-947f-43a1-8388-3802d88b0b02",
   "metadata": {},
   "outputs": [],
   "source": []
  }
 ],
 "metadata": {
  "kernelspec": {
   "display_name": "cudf_torch",
   "language": "python",
   "name": "cudf_torch"
  },
  "language_info": {
   "codemirror_mode": {
    "name": "ipython",
    "version": 3
   },
   "file_extension": ".py",
   "mimetype": "text/x-python",
   "name": "python",
   "nbconvert_exporter": "python",
   "pygments_lexer": "ipython3",
   "version": "3.10.11"
  }
 },
 "nbformat": 4,
 "nbformat_minor": 5
}
