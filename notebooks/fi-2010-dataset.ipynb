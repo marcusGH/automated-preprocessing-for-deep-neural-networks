{
 "cells": [
  {
   "cell_type": "markdown",
   "id": "377eb66f-38ab-41a4-8a4c-d6403fccbe0f",
   "metadata": {},
   "source": [
    "# Limit order book FI-2010 dataset"
   ]
  },
  {
   "cell_type": "code",
   "execution_count": 1,
   "id": "2df6a724-25e1-4ccc-86fc-51eca4d0a3fd",
   "metadata": {
    "tags": []
   },
   "outputs": [],
   "source": [
    "import torch\n",
    "import torch.nn as nn\n",
    "import yaml\n",
    "import os\n",
    "import h5py\n",
    "import importlib\n",
    "import numpy as np\n",
    "\n",
    "import src.lib.lob_loader as lob_loader \n",
    "import src.lib.lob_train_utils as lob_utils\n",
    "import src.lib.experimentation as exp\n",
    "importlib.reload(lob_loader)\n",
    "importlib.reload(lob_utils)\n",
    "importlib.reload(exp)\n",
    "\n",
    "from src.lib.plotting import get_config\n",
    "from src.models.basic_grunet import GRUNetLOB\n",
    "from src.preprocessing.static_transformations import StandardScalerTimeSeries, IgnoreTimeDecorator"
   ]
  },
  {
   "cell_type": "code",
   "execution_count": 13,
   "id": "e8fecc7b-d4c6-45f8-a63b-cbec2dbfe0d9",
   "metadata": {
    "tags": []
   },
   "outputs": [],
   "source": [
    "cfg = get_config()\n",
    "\n",
    "data_path = os.path.join(cfg['lob_dataset_directory'], 'lob.h5')\n",
    "\n",
    "# train_loader, val_loader = get_wf_lob_loaders(\n",
    "#     h5_path=data_path,\n",
    "#     window=50,\n",
    "#     split=2,\n",
    "#     horizon=2,\n",
    "#     batch_size=128,\n",
    "#     class_resample=False,\n",
    "#     normalization=None\n",
    "# )\n",
    "\n",
    "model_init_fn = lambda : GRUNetLOB(num_gru_layers=2)\n",
    "optimizer_init_fn = lambda mod : torch.optim.RMSprop(mod.parameters(), lr=1e-4)\n",
    "scheduler_init_fn = lambda opt : torch.optim.lr_scheduler.MultiStepLR(opt, milestones=[10, 8], gamma=0.1)\n",
    "early_stopper_init_fn = lambda : exp.EarlyStopper(patience=5)\n",
    "preprocess_init_fn = lambda : IgnoreTimeDecorator(StandardScalerTimeSeries(1), 15)"
   ]
  },
  {
   "cell_type": "code",
   "execution_count": 14,
   "id": "1289ec22-5183-49db-9aba-ea5ea4297945",
   "metadata": {
    "tags": []
   },
   "outputs": [
    {
     "name": "stdout",
     "output_type": "stream",
     "text": [
      "#### Evaluating model for split 6 ####\n",
      "Fitting preprocesser to data for split 6\n"
     ]
    },
    {
     "data": {
      "application/vnd.jupyter.widget-view+json": {
       "model_id": "380e9a6293234b0da8f35deb6a9b6342",
       "version_major": 2,
       "version_minor": 0
      },
      "text/plain": [
       "  0%|          | 0/20 [00:00<?, ?it/s]"
      ]
     },
     "metadata": {},
     "output_type": "display_data"
    },
    {
     "data": {
      "application/vnd.jupyter.widget-view+json": {
       "model_id": "2070f205f4f24fb9a6742c6a60c71c3d",
       "version_major": 2,
       "version_minor": 0
      },
      "text/plain": [
       "  0%|          | 0/465 [00:00<?, ?it/s]"
      ]
     },
     "metadata": {},
     "output_type": "display_data"
    },
    {
     "data": {
      "application/vnd.jupyter.widget-view+json": {
       "model_id": "57b931807b504a82869f647d61a3e283",
       "version_major": 2,
       "version_minor": 0
      },
      "text/plain": [
       "  0%|          | 0/465 [00:00<?, ?it/s]"
      ]
     },
     "metadata": {},
     "output_type": "display_data"
    },
    {
     "data": {
      "application/vnd.jupyter.widget-view+json": {
       "model_id": "4080ab53d05b4f788d05a33d8d6a3007",
       "version_major": 2,
       "version_minor": 0
      },
      "text/plain": [
       "  0%|          | 0/465 [00:00<?, ?it/s]"
      ]
     },
     "metadata": {},
     "output_type": "display_data"
    },
    {
     "data": {
      "application/vnd.jupyter.widget-view+json": {
       "model_id": "e3594369e90a432eb20fb1f2b0cfa4fe",
       "version_major": 2,
       "version_minor": 0
      },
      "text/plain": [
       "  0%|          | 0/465 [00:00<?, ?it/s]"
      ]
     },
     "metadata": {},
     "output_type": "display_data"
    },
    {
     "data": {
      "application/vnd.jupyter.widget-view+json": {
       "model_id": "5e475d36f5924d998326d157d16e0faf",
       "version_major": 2,
       "version_minor": 0
      },
      "text/plain": [
       "  0%|          | 0/465 [00:00<?, ?it/s]"
      ]
     },
     "metadata": {},
     "output_type": "display_data"
    },
    {
     "data": {
      "application/vnd.jupyter.widget-view+json": {
       "model_id": "15e5459f4b7947e1be5ae443b1dcfcdd",
       "version_major": 2,
       "version_minor": 0
      },
      "text/plain": [
       "  0%|          | 0/465 [00:00<?, ?it/s]"
      ]
     },
     "metadata": {},
     "output_type": "display_data"
    },
    {
     "data": {
      "application/vnd.jupyter.widget-view+json": {
       "model_id": "dcd1db59d6e84d1d9c6ca955d9db4ba6",
       "version_major": 2,
       "version_minor": 0
      },
      "text/plain": [
       "  0%|          | 0/465 [00:00<?, ?it/s]"
      ]
     },
     "metadata": {},
     "output_type": "display_data"
    },
    {
     "data": {
      "application/vnd.jupyter.widget-view+json": {
       "model_id": "4053b0fd81a142489359c5cf6b52e91a",
       "version_major": 2,
       "version_minor": 0
      },
      "text/plain": [
       "  0%|          | 0/465 [00:00<?, ?it/s]"
      ]
     },
     "metadata": {},
     "output_type": "display_data"
    },
    {
     "data": {
      "application/vnd.jupyter.widget-view+json": {
       "model_id": "6e9e1fa5ba064512802c72c795bc1fb4",
       "version_major": 2,
       "version_minor": 0
      },
      "text/plain": [
       "  0%|          | 0/465 [00:00<?, ?it/s]"
      ]
     },
     "metadata": {},
     "output_type": "display_data"
    },
    {
     "data": {
      "application/vnd.jupyter.widget-view+json": {
       "model_id": "2a436156dd54483391c5df6b0eb9e0cf",
       "version_major": 2,
       "version_minor": 0
      },
      "text/plain": [
       "  0%|          | 0/465 [00:00<?, ?it/s]"
      ]
     },
     "metadata": {},
     "output_type": "display_data"
    },
    {
     "data": {
      "application/vnd.jupyter.widget-view+json": {
       "model_id": "c8366ed0757c4f8cba147c06da8d67eb",
       "version_major": 2,
       "version_minor": 0
      },
      "text/plain": [
       "  0%|          | 0/465 [00:00<?, ?it/s]"
      ]
     },
     "metadata": {},
     "output_type": "display_data"
    },
    {
     "data": {
      "application/vnd.jupyter.widget-view+json": {
       "model_id": "05fe42001c294dff8d426752081cd1f5",
       "version_major": 2,
       "version_minor": 0
      },
      "text/plain": [
       "  0%|          | 0/465 [00:00<?, ?it/s]"
      ]
     },
     "metadata": {},
     "output_type": "display_data"
    },
    {
     "data": {
      "application/vnd.jupyter.widget-view+json": {
       "model_id": "52bc4cff03084cc5b0f6e1ede44e39e2",
       "version_major": 2,
       "version_minor": 0
      },
      "text/plain": [
       "  0%|          | 0/465 [00:00<?, ?it/s]"
      ]
     },
     "metadata": {},
     "output_type": "display_data"
    }
   ],
   "source": [
    "# to avoid errors with the data loaders creating too many file descriptors\n",
    "torch.multiprocessing.set_sharing_strategy('file_system')\n",
    "\n",
    "hist = exp.train_evaluate_lob_anchored(\n",
    "    h5_file_path=data_path,\n",
    "    model_init_fn=model_init_fn,\n",
    "    preprocess_init_fn=preprocess_init_fn,\n",
    "    optimizer_init_fn=optimizer_init_fn,\n",
    "    scheduler_init_fn=scheduler_init_fn,\n",
    "    early_stopper_init_fn=early_stopper_init_fn,\n",
    "    num_epochs=20,\n",
    "    device=torch.device('cuda', 3),\n",
    "    random_state=42,\n",
    "    horizon=2,\n",
    "    windows=15,\n",
    "    batch_size=128,\n",
    "    use_resampling=True,\n",
    "    splits=[6],\n",
    ")"
   ]
  },
  {
   "cell_type": "code",
   "execution_count": 4,
   "id": "e238692f-5aa2-44cb-b540-c22e128522fe",
   "metadata": {
    "tags": []
   },
   "outputs": [
    {
     "data": {
      "text/plain": [
       "[{'accuracy': 0.4592388632117219,\n",
       "  'precision': array([0.28013253, 0.84462685, 0.32297308]),\n",
       "  'recall': array([0.68474939, 0.36699785, 0.61833208]),\n",
       "  'f1': array([0.39760426, 0.51167039, 0.42431429]),\n",
       "  'precision_avg': 0.4825774884465827,\n",
       "  'recall_avg': 0.556693107548209,\n",
       "  'f1_avg': 0.4445296461204309,\n",
       "  'kappa': 0.2131102536364241,\n",
       "  'val_loss': 0.9947122031226951,\n",
       "  'train_loss': 0.00045617291470989585},\n",
       " {'accuracy': 0.5299685318123709,\n",
       "  'precision': array([0.38933361, 0.83833644, 0.30774194]),\n",
       "  'recall': array([0.57227995, 0.47465153, 0.71675432]),\n",
       "  'f1': array([0.46340407, 0.60612539, 0.43060257]),\n",
       "  'precision_avg': 0.511803995411332,\n",
       "  'recall_avg': 0.5878952659639326,\n",
       "  'f1_avg': 0.5000440110120695,\n",
       "  'kappa': 0.26701175083969764,\n",
       "  'val_loss': 0.9325814736207123,\n",
       "  'train_loss': 0.00041951355524361134},\n",
       " {'accuracy': 0.5082849837742157,\n",
       "  'precision': array([0.41023872, 0.81452618, 0.26666283]),\n",
       "  'recall': array([0.45430929, 0.47548859, 0.69676935]),\n",
       "  'f1': array([0.43115075, 0.60045499, 0.38570953]),\n",
       "  'precision_avg': 0.4971425789447094,\n",
       "  'recall_avg': 0.5421890759223807,\n",
       "  'f1_avg': 0.4724384258709893,\n",
       "  'kappa': 0.22566536137606286,\n",
       "  'val_loss': 1.0165781194990933,\n",
       "  'train_loss': 0.0006381581188179553},\n",
       " {'accuracy': 0.42971285278788474,\n",
       "  'precision': array([0.24551724, 0.82506048, 0.29714123]),\n",
       "  'recall': array([0.68001222, 0.3599374 , 0.47167543]),\n",
       "  'f1': array([0.36077668, 0.5012163 , 0.36459725]),\n",
       "  'precision_avg': 0.4559063193164216,\n",
       "  'recall_avg': 0.5038750197119364,\n",
       "  'f1_avg': 0.4088634096373857,\n",
       "  'kappa': 0.16958806520875103,\n",
       "  'val_loss': 1.2581422807474218,\n",
       "  'train_loss': 0.0004934362368658185},\n",
       " {'accuracy': 0.552807552365031,\n",
       "  'precision': array([0.35109322, 0.83230835, 0.37715815]),\n",
       "  'recall': array([0.6797066 , 0.49747061, 0.65649887]),\n",
       "  'f1': array([0.46301983, 0.62273349, 0.47908328]),\n",
       "  'precision_avg': 0.5201865722966,\n",
       "  'recall_avg': 0.6112253620930642,\n",
       "  'f1_avg': 0.5216121995305235,\n",
       "  'kappa': 0.29080105818742297,\n",
       "  'val_loss': 0.9043182682904279,\n",
       "  'train_loss': 0.0004985695704817772},\n",
       " {'accuracy': 0.5505211918576064,\n",
       "  'precision': array([0.35841485, 0.83131498, 0.36506268]),\n",
       "  'recall': array([0.65510391, 0.49466827, 0.678287  ]),\n",
       "  'f1': array([0.46333423, 0.62025692, 0.47465825]),\n",
       "  'precision_avg': 0.5182641699589833,\n",
       "  'recall_avg': 0.6093530607467844,\n",
       "  'f1_avg': 0.5194164692368278,\n",
       "  'kappa': 0.28815862807808845,\n",
       "  'val_loss': 0.9174636713651233,\n",
       "  'train_loss': 0.0004484070814214647},\n",
       " {'accuracy': 0.5547005605270922,\n",
       "  'precision': array([0.35965428, 0.8300132 , 0.36748532]),\n",
       "  'recall': array([0.6549511 , 0.50343924, 0.6677686 ]),\n",
       "  'f1': array([0.46433021, 0.62673584, 0.47407723]),\n",
       "  'precision_avg': 0.5190509326733542,\n",
       "  'recall_avg': 0.6087196451258448,\n",
       "  'f1_avg': 0.5217144267808425,\n",
       "  'kappa': 0.2903044854680802,\n",
       "  'val_loss': 0.9145395224724375,\n",
       "  'train_loss': 0.00037262143450789154}]"
      ]
     },
     "execution_count": 4,
     "metadata": {},
     "output_type": "execute_result"
    }
   ],
   "source": [
    "hist['split_results'][0]"
   ]
  },
  {
   "cell_type": "code",
   "execution_count": 27,
   "id": "3be54380-2ee4-4ac2-b0cc-06a5979e6110",
   "metadata": {
    "tags": []
   },
   "outputs": [
    {
     "data": {
      "text/plain": [
       "((124676, 50, 144), (124676, 1))"
      ]
     },
     "execution_count": 27,
     "metadata": {},
     "output_type": "execute_result"
    }
   ],
   "source": [
    "num_batches = 0\n",
    "X_train =  [] ;  y_train = []\n",
    "for X, y in train_loader:\n",
    "    X_train.append(X.numpy())\n",
    "    y_train.append(y.numpy())\n",
    "X_train = np.concatenate(X_train, axis=0)\n",
    "y_train = np.concatenate(y_train, axis=0)\n",
    "X_train.shape, y_train.shape"
   ]
  }
 ],
 "metadata": {
  "kernelspec": {
   "display_name": "cudf_torch",
   "language": "python",
   "name": "cudf_torch"
  },
  "language_info": {
   "codemirror_mode": {
    "name": "ipython",
    "version": 3
   },
   "file_extension": ".py",
   "mimetype": "text/x-python",
   "name": "python",
   "nbconvert_exporter": "python",
   "pygments_lexer": "ipython3",
   "version": "3.10.11"
  }
 },
 "nbformat": 4,
 "nbformat_minor": 5
}
