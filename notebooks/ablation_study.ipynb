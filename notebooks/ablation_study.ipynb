{
 "cells": [
  {
   "cell_type": "markdown",
   "id": "d64dbbb0-a17e-43be-a36f-43f30047de4c",
   "metadata": {},
   "source": [
    "# Ablation study on Amex data"
   ]
  },
  {
   "cell_type": "code",
   "execution_count": 1,
   "id": "017cb208-9fd7-46a9-ae95-fd7fb85b9354",
   "metadata": {
    "tags": []
   },
   "outputs": [],
   "source": [
    "# imports\n",
    "import torch\n",
    "import torch.nn as nn\n",
    "import torch.nn.functional as F\n",
    "import numpy as np\n",
    "import sklearn\n",
    "import matplotlib.pyplot as plt\n",
    "import pandas as pd\n",
    "import os\n",
    "import gc\n",
    "import cupy\n",
    "import yaml\n",
    "from datetime import datetime\n",
    "import sklearn\n",
    "from tqdm.auto import tqdm\n",
    "\n",
    "from src.lib.experimentation import load_amex_numpy_data, undo_min_max_corrupt_func\n",
    "import pandas as pd\n",
    "import numpy as np \n",
    "import seaborn as sns\n",
    "from src.lib.plotting import get_figsize, save_plot, update_plot_params\n",
    "\n",
    "\n",
    "with open(os.path.join(\"..\", \"config.yaml\")) as f:\n",
    "    main_cfg = yaml.load(f, Loader=yaml.FullLoader)\n",
    "    \n",
    "with open(os.path.join(\"..\", \"src\", \"experiments\", \"configs\", \"experiment-config-alpha.yaml\")) as f:\n",
    "    amex_cfg = yaml.load(f, Loader=yaml.FullLoader)"
   ]
  },
  {
   "cell_type": "code",
   "execution_count": 2,
   "id": "e726f6d2-a157-4998-822f-ffe9a361e4ac",
   "metadata": {
    "tags": []
   },
   "outputs": [
    {
     "name": "stdout",
     "output_type": "stream",
     "text": [
      "(458913, 13, 188)\n"
     ]
    }
   ],
   "source": [
    "X_train, y_train = load_amex_numpy_data(\n",
    "    os.path.join(main_cfg['dataset_directory'], \"derived\", \"processed-splits\"),\n",
    "    amex_cfg['amex_dataset']['fill'],\n",
    "    lambda X, y: undo_min_max_corrupt_func(X, y, 42),\n",
    "    11,\n",
    ")\n",
    "print(X_train.shape)"
   ]
  },
  {
   "cell_type": "code",
   "execution_count": 3,
   "id": "67cd1d39-996f-4992-9e95-068b5abf58b1",
   "metadata": {
    "tags": []
   },
   "outputs": [],
   "source": [
    "NUM_VAL_ITEMS = int(X_train.shape[0] * 2 / 10)\n",
    "\n",
    "train_loader = torch.utils.data.DataLoader(\n",
    "    dataset=torch.utils.data.TensorDataset(\n",
    "        torch.from_numpy(X_train[NUM_VAL_ITEMS:]).float(),\n",
    "        torch.from_numpy(y_train[NUM_VAL_ITEMS:]).float(),\n",
    "    ), \n",
    "    **amex_cfg['amex_dataset']['data_loader']\n",
    ")\n",
    "val_loader = torch.utils.data.DataLoader(\n",
    "    dataset=torch.utils.data.TensorDataset(\n",
    "        torch.from_numpy(X_train[:NUM_VAL_ITEMS]).float(),\n",
    "        torch.from_numpy(y_train[:NUM_VAL_ITEMS]).float(),\n",
    "    ), \n",
    "    **amex_cfg['amex_dataset']['data_loader']\n",
    ")"
   ]
  },
  {
   "cell_type": "code",
   "execution_count": 9,
   "id": "20ddc31e-4cb0-46a4-ae6e-ce6020ac3e4c",
   "metadata": {
    "tags": []
   },
   "outputs": [],
   "source": [
    "from src.models.adaptive_grunet import AdaptiveGRUNet\n",
    "from src.preprocessing.normalizing_flows import EDAIN_Layer\n",
    "\n",
    "TRAIN_EDAIN_MODEL = False\n",
    "\n",
    "edain_model = AdaptiveGRUNet(\n",
    "    adaptive_layer=EDAIN_Layer(\n",
    "        input_dim=177,\n",
    "        invert_bijector=False,\n",
    "        outlier_removal_residual_connection=True,\n",
    "        batch_aware=False,\n",
    "        init_sigma=0.000001,\n",
    "        outlier_removal_mode='exp',\n",
    "    ),\n",
    "    num_features=188,\n",
    "    num_cat_columns=11,\n",
    "    hidden_dim=128,\n",
    "    layer_dim=2,\n",
    "    embedding_dim=4,\n",
    "    time_series_length=13,\n",
    "    dim_first=False,\n",
    ")\n",
    "\n",
    "optim = torch.optim.Adam(\n",
    "    edain_model.preprocess.get_optimizer_param_list(\n",
    "        base_lr=1e-3,\n",
    "        # For local-aware\n",
    "        # scale_lr=0.0001,\n",
    "        # shift_lr=0.01,\n",
    "        # outlier_lr=10.0,\n",
    "        # power_lr=0.1,\n",
    "        # below for global-aware\n",
    "        scale_lr=0.01,\n",
    "        shift_lr=0.01,\n",
    "        outlier_lr=100.0,\n",
    "        power_lr=10.0,\n",
    "        # # below for EDAIN-KL\n",
    "        # scale_lr: 0.0001\n",
    "        # shift_lr: 0.01\n",
    "        # outlier_lr: 10.0\n",
    "        # power_lr: 0.001\n",
    "    ) + [\n",
    "        {'params' : edain_model.gru.parameters(), 'lr' : 1e-3},\n",
    "        {'params' : edain_model.feed_forward.parameters(), 'lr' : 1e-3},\n",
    "        {'params' : edain_model.emb_layers.parameters(), 'lr' : 1e-3 },\n",
    "    ], lr=1e-3)\n",
    "scheduler = torch.optim.lr_scheduler.MultiStepLR(optim, milestones=[4, 7], gamma=0.1)\n",
    "\n",
    "if TRAIN_EDAIN_MODEL:\n",
    "    history = fit_model(edain_model, F.binary_cross_entropy, train_loader, val_loader, optim, scheduler, num_epochs=20, device_ids=DEV) #torch.device('cpu'))\n",
    "    torch.save(edain_model.state_dict(), os.path.join(main_cfg['checkpoint_directory'], \"edain_amex_checkpoint\"))\n",
    "else:\n",
    "    edain_model = edain_model.to(torch.device('cuda', 4))\n",
    "    edain_model.load_state_dict(torch.load(os.path.join(main_cfg['checkpoint_directory'], \"edain_amex_checkpoint\"), map_location='cuda:4'))\n",
    "    edain_model.eval()"
   ]
  },
  {
   "cell_type": "code",
   "execution_count": 13,
   "id": "4a10b39e-0530-419f-9dcb-91f65ae9b5a0",
   "metadata": {
    "tags": []
   },
   "outputs": [
    {
     "data": {
      "text/plain": [
       "[AdaptiveOutlierRemoval(),\n",
       " AdaptiveShift(),\n",
       " AdaptiveScale(),\n",
       " AdaptivePowerTransform()]"
      ]
     },
     "execution_count": 13,
     "metadata": {},
     "output_type": "execute_result"
    }
   ],
   "source": [
    "edain_model.preprocess.transform_list"
   ]
  },
  {
   "cell_type": "code",
   "execution_count": 14,
   "id": "0658e00f-ce30-47a1-aa53-249db8e8e872",
   "metadata": {
    "tags": []
   },
   "outputs": [
    {
     "data": {
      "text/plain": [
       "<function torch.nn.functional.cross_entropy(input: torch.Tensor, target: torch.Tensor, weight: Optional[torch.Tensor] = None, size_average: Optional[bool] = None, ignore_index: int = -100, reduce: Optional[bool] = None, reduction: str = 'mean', label_smoothing: float = 0.0) -> torch.Tensor>"
      ]
     },
     "execution_count": 14,
     "metadata": {},
     "output_type": "execute_result"
    }
   ],
   "source": [
    "F.cross_entropy"
   ]
  },
  {
   "cell_type": "code",
   "execution_count": 21,
   "id": "f6c98732-19e0-46af-945b-46bf437dbe43",
   "metadata": {
    "tags": []
   },
   "outputs": [
    {
     "data": {
      "application/vnd.jupyter.widget-view+json": {
       "model_id": "eaa42c218b694394bd21915ccb8db999",
       "version_major": 2,
       "version_minor": 0
      },
      "text/plain": [
       "Evaluating model: 0it [00:00, ?it/s]"
      ]
     },
     "metadata": {},
     "output_type": "display_data"
    },
    {
     "data": {
      "text/plain": [
       "1828.3663323258554"
      ]
     },
     "execution_count": 21,
     "metadata": {},
     "output_type": "execute_result"
    }
   ],
   "source": [
    "dev = torch.device('cuda', 4)\n",
    "\n",
    "def evaluate_model(mod, outlier_removal=True, shift=True, scale=True, power_transform=True):\n",
    "    running_vloss = 0.0\n",
    "    mod = mod.to(dev)\n",
    "    with torch.no_grad():\n",
    "        for i, vdata in tqdm(enumerate(train_loader), desc=\"Evaluating model\"):\n",
    "            vinputs, vlabels = vdata\n",
    "            vinputs, vlabels = vinputs.to(dev), vlabels.to(dev)\n",
    "            \n",
    "            # apply the preprocessing\n",
    "            # ...\n",
    "            if i == 0:\n",
    "                mod.train()\n",
    "            elif i == 1:\n",
    "                mod.eval()\n",
    "            voutputs = mod(vinputs)\n",
    "            vloss = F.cross_entropy(voutputs, vlabels, reduction='mean').cpu().item()\n",
    "            # vmetric = amex_metric_mod(vlabels.cpu().numpy(), voutputs.cpu().numpy())\n",
    "            if i > 0:\n",
    "                running_vloss += vloss\n",
    "            # running_vmetric += vmetric\n",
    "    avg_vloss = running_vloss / (i + 1)\n",
    "    return avg_vloss\n",
    "\n",
    "\n",
    "evaluate_model(edain_model, False, True, True, False)"
   ]
  }
 ],
 "metadata": {
  "kernelspec": {
   "display_name": "cudf_torch",
   "language": "python",
   "name": "cudf_torch"
  },
  "language_info": {
   "codemirror_mode": {
    "name": "ipython",
    "version": 3
   },
   "file_extension": ".py",
   "mimetype": "text/x-python",
   "name": "python",
   "nbconvert_exporter": "python",
   "pygments_lexer": "ipython3",
   "version": "3.10.11"
  }
 },
 "nbformat": 4,
 "nbformat_minor": 5
}
