{
 "cells": [
  {
   "cell_type": "markdown",
   "id": "d64dbbb0-a17e-43be-a36f-43f30047de4c",
   "metadata": {},
   "source": [
    "# Ablation study on Amex data"
   ]
  },
  {
   "cell_type": "code",
   "execution_count": 4,
   "id": "017cb208-9fd7-46a9-ae95-fd7fb85b9354",
   "metadata": {
    "tags": [],
    "ExecuteTime": {
     "end_time": "2024-02-11T14:37:59.994963714Z",
     "start_time": "2024-02-11T14:37:59.958346119Z"
    }
   },
   "outputs": [],
   "source": [
    "# imports\n",
    "import torch\n",
    "import torch.nn as nn\n",
    "import torch.nn.functional as F\n",
    "import numpy as np\n",
    "import sklearn\n",
    "import matplotlib.pyplot as plt\n",
    "import pandas as pd\n",
    "import os\n",
    "import gc\n",
    "import cupy\n",
    "import yaml\n",
    "from datetime import datetime\n",
    "import sklearn\n",
    "from tqdm.auto import tqdm\n",
    "\n",
    "from src.lib.experimentation import load_amex_numpy_data, undo_min_max_corrupt_func, fit_model, cross_validate_experiment\n",
    "import pandas as pd\n",
    "import numpy as np \n",
    "import seaborn as sns\n",
    "from src.lib.plotting import get_figsize, save_plot, update_plot_params\n",
    "\n",
    "\n",
    "with open(os.path.join(\"..\", \"config.yaml\")) as f:\n",
    "    main_cfg = yaml.load(f, Loader=yaml.FullLoader)\n",
    "    \n",
    "with open(os.path.join(\"..\", \"src\", \"experiments\", \"configs\", \"experiment-config-alpha.yaml\")) as f:\n",
    "    amex_cfg = yaml.load(f, Loader=yaml.FullLoader)"
   ]
  },
  {
   "cell_type": "code",
   "execution_count": 2,
   "id": "e726f6d2-a157-4998-822f-ffe9a361e4ac",
   "metadata": {
    "tags": [],
    "ExecuteTime": {
     "end_time": "2024-02-11T14:23:54.721073399Z",
     "start_time": "2024-02-11T14:22:59.220618673Z"
    }
   },
   "outputs": [
    {
     "name": "stdout",
     "output_type": "stream",
     "text": [
      "(458913, 13, 188)\n"
     ]
    }
   ],
   "source": [
    "X_train, y_train = load_amex_numpy_data(\n",
    "    os.path.join(main_cfg['dataset_directory'], \"derived\", \"processed-splits\"),\n",
    "    amex_cfg['amex_dataset']['fill'],\n",
    "    lambda X, y: undo_min_max_corrupt_func(X, y, 42),\n",
    "    11,\n",
    ")\n",
    "print(X_train.shape)"
   ]
  },
  {
   "cell_type": "code",
   "execution_count": 3,
   "id": "67cd1d39-996f-4992-9e95-068b5abf58b1",
   "metadata": {
    "tags": [],
    "ExecuteTime": {
     "end_time": "2024-02-11T14:23:54.738033039Z",
     "start_time": "2024-02-11T14:23:54.686763842Z"
    }
   },
   "outputs": [],
   "source": [
    "NUM_VAL_ITEMS = int(X_train.shape[0] * 2 / 10)\n",
    "\n",
    "train_loader = torch.utils.data.DataLoader(\n",
    "    dataset=torch.utils.data.TensorDataset(\n",
    "        torch.from_numpy(X_train[NUM_VAL_ITEMS:]).float(),\n",
    "        torch.from_numpy(y_train[NUM_VAL_ITEMS:]).float(),\n",
    "    ), \n",
    "    **amex_cfg['amex_dataset']['data_loader']\n",
    ")\n",
    "val_loader = torch.utils.data.DataLoader(\n",
    "    dataset=torch.utils.data.TensorDataset(\n",
    "        torch.from_numpy(X_train[:NUM_VAL_ITEMS]).float(),\n",
    "        torch.from_numpy(y_train[:NUM_VAL_ITEMS]).float(),\n",
    "    ), \n",
    "    **amex_cfg['amex_dataset']['data_loader']\n",
    ")"
   ]
  },
  {
   "cell_type": "code",
   "outputs": [],
   "source": [
    " early_stopper_init_fn = lambda : EarlyStopper(\n",
    "        patience=exp_cfg['fit']['early_stopper_patience'],\n",
    "        min_delta=exp_cfg['fit']['early_stopper_min_delta'],\n",
    "    )"
   ],
   "metadata": {
    "collapsed": false
   },
   "id": "9f004a65c603f363"
  },
  {
   "cell_type": "code",
   "execution_count": 27,
   "id": "20ddc31e-4cb0-46a4-ae6e-ce6020ac3e4c",
   "metadata": {
    "tags": [],
    "ExecuteTime": {
     "end_time": "2024-02-11T16:04:58.150050960Z",
     "start_time": "2024-02-11T16:04:58.138938071Z"
    }
   },
   "outputs": [],
   "source": [
    "from src.models.adaptive_grunet import AdaptiveGRUNet\n",
    "from src.preprocessing.normalizing_flows import EDAIN_Layer\n",
    "from src.preprocessing.static_transformations import (\n",
    "    StandardScalerTimeSeries,\n",
    "    IgnoreTimeDecorator,\n",
    ")\n",
    "from src.lib.experimentation import fit_model, cross_validate_experiment, EarlyStopper\n",
    "\n",
    "TRAIN_EDAIN_MODEL = True\n",
    "\n",
    "def get_model_init(outlier=True, shift=True, scale=True, power=True):\n",
    "    return lambda : AdaptiveGRUNet(\n",
    "        adaptive_layer=EDAIN_Layer(\n",
    "            input_dim=177,\n",
    "            invert_bijector=False,\n",
    "            outlier_removal_residual_connection=True,\n",
    "            batch_aware=False,\n",
    "            init_sigma=0.000001,\n",
    "            outlier_removal_mode='exp',\n",
    "            adaptive_shift=shift,\n",
    "            adaptive_scale=scale,\n",
    "            adaptive_outlier_removal=outlier,\n",
    "            adaptive_power_transform=power,\n",
    "        ),\n",
    "        num_features=188,\n",
    "        num_cat_columns=11,\n",
    "        hidden_dim=128,\n",
    "        layer_dim=2,\n",
    "        embedding_dim=4,\n",
    "        time_series_length=13,\n",
    "        dim_first=False,\n",
    "    )\n",
    "preprocess_init_fn = lambda : IgnoreTimeDecorator(\n",
    "    scaler=StandardScalerTimeSeries(time_series_length=1),\n",
    "    time_series_length=13,\n",
    ")\n",
    "\n",
    "DEV = torch.device('cuda', 7)\n",
    "\n",
    "optim_init_fn = lambda model : torch.optim.Adam(\n",
    "    model.preprocess.get_optimizer_param_list(\n",
    "        base_lr=1e-3,\n",
    "        # For local-aware\n",
    "        # scale_lr=0.0001,\n",
    "        # shift_lr=0.01,\n",
    "        # outlier_lr=10.0,\n",
    "        # power_lr=0.1,\n",
    "        # below for global-aware\n",
    "        scale_lr=0.01,\n",
    "        shift_lr=0.01,\n",
    "        outlier_lr=100.0,\n",
    "        power_lr=10.0,\n",
    "        # # below for EDAIN-KL\n",
    "        # scale_lr: 0.0001\n",
    "        # shift_lr: 0.01\n",
    "        # outlier_lr: 10.0\n",
    "        # power_lr: 0.001\n",
    "    ) + [\n",
    "        {'params' : model.gru.parameters(), 'lr' : 1e-3},\n",
    "        {'params' : model.feed_forward.parameters(), 'lr' : 1e-3},\n",
    "        {'params' : model.emb_layers.parameters(), 'lr' : 1e-3 },\n",
    "    ], lr=1e-3)\n",
    "scheduler_init_fn = lambda optim : torch.optim.lr_scheduler.MultiStepLR(optim, milestones=[4, 7], gamma=0.1)\n",
    "\n",
    "early_stopper_init_fn = lambda : EarlyStopper(\n",
    "   patience=3,\n",
    "   min_delta=0.0,\n",
    ")"
   ]
  },
  {
   "cell_type": "code",
   "outputs": [],
   "source": [
    "# cross_validate_model ...\n",
    "# then make standard scaler preprocessing init fn...\n",
    "def get_history(model_init_fn):\n",
    "    history = cross_validate_experiment(\n",
    "            model_init_fn=model_init_fn,\n",
    "            preprocess_init_fn=preprocess_init_fn,\n",
    "            optimizer_init_fn=optim_init_fn,\n",
    "            scheduler_init_fn=scheduler_init_fn,\n",
    "            early_stopper_init_fn=early_stopper_init_fn,\n",
    "            loss_fn=F.binary_cross_entropy,\n",
    "            X=X_train,\n",
    "            y=y_train,\n",
    "            num_epochs=30, #exp_cfg['fit']['num_epochs'],\n",
    "            dataloader_kwargs=amex_cfg['amex_dataset']['data_loader'],\n",
    "            num_folds=5, #args.num_cross_validation_folds,\n",
    "            device=DEV,\n",
    "            random_state=42, #args.random_state,\n",
    "            num_categorical_features=11, #exp_cfg['amex_dataset']['num_categorical_features'],\n",
    "        )\n",
    "    return history"
   ],
   "metadata": {
    "collapsed": false,
    "ExecuteTime": {
     "end_time": "2024-02-11T16:05:00.092686241Z",
     "start_time": "2024-02-11T16:05:00.076256887Z"
    }
   },
   "id": "13355d1caafe5070",
   "execution_count": 28
  },
  {
   "cell_type": "code",
   "outputs": [
    {
     "name": "stdout",
     "output_type": "stream",
     "text": [
      "Starting model training [1 / 5]\n",
      "Using device = cuda:7\n"
     ]
    },
    {
     "data": {
      "text/plain": "  0%|          | 0/30 [00:00<?, ?it/s]",
      "application/vnd.jupyter.widget-view+json": {
       "version_major": 2,
       "version_minor": 0,
       "model_id": "b53f6f381f7f4b1b9333da9560dc2a90"
      }
     },
     "metadata": {},
     "output_type": "display_data"
    },
    {
     "name": "stdout",
     "output_type": "stream",
     "text": [
      "Starting model training [2 / 5]\n",
      "Using device = cuda:7\n"
     ]
    },
    {
     "data": {
      "text/plain": "  0%|          | 0/30 [00:00<?, ?it/s]",
      "application/vnd.jupyter.widget-view+json": {
       "version_major": 2,
       "version_minor": 0,
       "model_id": "bd7d9f47fe7c45aaa6f38c6eedc516c3"
      }
     },
     "metadata": {},
     "output_type": "display_data"
    },
    {
     "name": "stdout",
     "output_type": "stream",
     "text": [
      "Starting model training [3 / 5]\n",
      "Using device = cuda:7\n"
     ]
    },
    {
     "data": {
      "text/plain": "  0%|          | 0/30 [00:00<?, ?it/s]",
      "application/vnd.jupyter.widget-view+json": {
       "version_major": 2,
       "version_minor": 0,
       "model_id": "eec9403095af4e55b0c6b6e46a560b3f"
      }
     },
     "metadata": {},
     "output_type": "display_data"
    },
    {
     "name": "stdout",
     "output_type": "stream",
     "text": [
      "Starting model training [4 / 5]\n",
      "Using device = cuda:7\n"
     ]
    },
    {
     "data": {
      "text/plain": "  0%|          | 0/30 [00:00<?, ?it/s]",
      "application/vnd.jupyter.widget-view+json": {
       "version_major": 2,
       "version_minor": 0,
       "model_id": "7c24eefd4dc745d5b9f2398b2b326a2a"
      }
     },
     "metadata": {},
     "output_type": "display_data"
    },
    {
     "name": "stdout",
     "output_type": "stream",
     "text": [
      "Starting model training [5 / 5]\n",
      "Using device = cuda:7\n"
     ]
    },
    {
     "data": {
      "text/plain": "  0%|          | 0/30 [00:00<?, ?it/s]",
      "application/vnd.jupyter.widget-view+json": {
       "version_major": 2,
       "version_minor": 0,
       "model_id": "4ae703e758ec4d1f8d0b74142159940d"
      }
     },
     "metadata": {},
     "output_type": "display_data"
    }
   ],
   "source": [
    "history_full = get_history(get_model_init(True, True, True, True))\n",
    "save_path = os.path.join(main_cfg['experiment_directory'], \"ablation-study-1111.npy\")\n",
    "np.save(save_path, history_full)"
   ],
   "metadata": {
    "collapsed": false,
    "ExecuteTime": {
     "end_time": "2024-02-11T16:20:23.714242585Z",
     "start_time": "2024-02-11T16:05:02.748809388Z"
    }
   },
   "id": "9e7e0e07806ecee1",
   "execution_count": 29
  },
  {
   "cell_type": "code",
   "outputs": [
    {
     "name": "stdout",
     "output_type": "stream",
     "text": [
      "Starting model training [1 / 5]\n",
      "Using device = cuda:7\n"
     ]
    },
    {
     "data": {
      "text/plain": "  0%|          | 0/30 [00:00<?, ?it/s]",
      "application/vnd.jupyter.widget-view+json": {
       "version_major": 2,
       "version_minor": 0,
       "model_id": "26d1bc84808a4165b20876af6ca150e9"
      }
     },
     "metadata": {},
     "output_type": "display_data"
    },
    {
     "name": "stdout",
     "output_type": "stream",
     "text": [
      "Starting model training [2 / 5]\n",
      "Using device = cuda:7\n"
     ]
    },
    {
     "data": {
      "text/plain": "  0%|          | 0/30 [00:00<?, ?it/s]",
      "application/vnd.jupyter.widget-view+json": {
       "version_major": 2,
       "version_minor": 0,
       "model_id": "1892b343c6324bedb67443cc5fce5cf2"
      }
     },
     "metadata": {},
     "output_type": "display_data"
    },
    {
     "name": "stdout",
     "output_type": "stream",
     "text": [
      "Starting model training [3 / 5]\n",
      "Using device = cuda:7\n"
     ]
    },
    {
     "data": {
      "text/plain": "  0%|          | 0/30 [00:00<?, ?it/s]",
      "application/vnd.jupyter.widget-view+json": {
       "version_major": 2,
       "version_minor": 0,
       "model_id": "f1577b2060e341c0a410120539433183"
      }
     },
     "metadata": {},
     "output_type": "display_data"
    },
    {
     "name": "stdout",
     "output_type": "stream",
     "text": [
      "Starting model training [4 / 5]\n",
      "Using device = cuda:7\n"
     ]
    },
    {
     "data": {
      "text/plain": "  0%|          | 0/30 [00:00<?, ?it/s]",
      "application/vnd.jupyter.widget-view+json": {
       "version_major": 2,
       "version_minor": 0,
       "model_id": "5312d3ef5acd43f0a69eb09805d116d6"
      }
     },
     "metadata": {},
     "output_type": "display_data"
    },
    {
     "name": "stdout",
     "output_type": "stream",
     "text": [
      "Starting model training [5 / 5]\n",
      "Using device = cuda:7\n"
     ]
    },
    {
     "data": {
      "text/plain": "  0%|          | 0/30 [00:00<?, ?it/s]",
      "application/vnd.jupyter.widget-view+json": {
       "version_major": 2,
       "version_minor": 0,
       "model_id": "0a6293847ef549d5a82f08082fb2c9d6"
      }
     },
     "metadata": {},
     "output_type": "display_data"
    }
   ],
   "source": [
    "history_0110 = get_history(get_model_init(False, True, True, False))\n",
    "save_path = os.path.join(main_cfg['experiment_directory'], \"ablation-study-0110.npy\")\n",
    "np.save(save_path, history_0110)\n"
   ],
   "metadata": {
    "collapsed": false,
    "ExecuteTime": {
     "end_time": "2024-02-11T16:31:18.017407481Z",
     "start_time": "2024-02-11T16:20:23.765196673Z"
    }
   },
   "id": "6771976a9175cf01",
   "execution_count": 30
  },
  {
   "cell_type": "code",
   "outputs": [
    {
     "name": "stdout",
     "output_type": "stream",
     "text": [
      "Starting model training [1 / 5]\n",
      "Using device = cuda:7\n"
     ]
    },
    {
     "data": {
      "text/plain": "  0%|          | 0/30 [00:00<?, ?it/s]",
      "application/vnd.jupyter.widget-view+json": {
       "version_major": 2,
       "version_minor": 0,
       "model_id": "93ef8c5fcc5f4533a825020ef38f3781"
      }
     },
     "metadata": {},
     "output_type": "display_data"
    },
    {
     "name": "stdout",
     "output_type": "stream",
     "text": [
      "Starting model training [2 / 5]\n",
      "Using device = cuda:7\n"
     ]
    },
    {
     "data": {
      "text/plain": "  0%|          | 0/30 [00:00<?, ?it/s]",
      "application/vnd.jupyter.widget-view+json": {
       "version_major": 2,
       "version_minor": 0,
       "model_id": "e1640b16b2da4c8eb1a3c94ee02baa9d"
      }
     },
     "metadata": {},
     "output_type": "display_data"
    },
    {
     "name": "stdout",
     "output_type": "stream",
     "text": [
      "Starting model training [3 / 5]\n",
      "Using device = cuda:7\n"
     ]
    },
    {
     "data": {
      "text/plain": "  0%|          | 0/30 [00:00<?, ?it/s]",
      "application/vnd.jupyter.widget-view+json": {
       "version_major": 2,
       "version_minor": 0,
       "model_id": "983bac6082c6482492ed9b603255de71"
      }
     },
     "metadata": {},
     "output_type": "display_data"
    },
    {
     "name": "stdout",
     "output_type": "stream",
     "text": [
      "Starting model training [4 / 5]\n",
      "Using device = cuda:7\n"
     ]
    },
    {
     "data": {
      "text/plain": "  0%|          | 0/30 [00:00<?, ?it/s]",
      "application/vnd.jupyter.widget-view+json": {
       "version_major": 2,
       "version_minor": 0,
       "model_id": "82a24d8646fe4eabba361528f905b166"
      }
     },
     "metadata": {},
     "output_type": "display_data"
    },
    {
     "name": "stdout",
     "output_type": "stream",
     "text": [
      "Starting model training [5 / 5]\n",
      "Using device = cuda:7\n"
     ]
    },
    {
     "data": {
      "text/plain": "  0%|          | 0/30 [00:00<?, ?it/s]",
      "application/vnd.jupyter.widget-view+json": {
       "version_major": 2,
       "version_minor": 0,
       "model_id": "b97d5bcdc7c64b2a98a06b136e39cdef"
      }
     },
     "metadata": {},
     "output_type": "display_data"
    }
   ],
   "source": [
    "history_0111 = get_history(get_model_init(False, True, True, True))\n",
    "save_path = os.path.join(main_cfg['experiment_directory'], \"ablation-study-0111.npy\")\n",
    "np.save(save_path, history_0111)\n"
   ],
   "metadata": {
    "collapsed": false,
    "ExecuteTime": {
     "end_time": "2024-02-11T16:45:56.177587815Z",
     "start_time": "2024-02-11T16:31:18.022858675Z"
    }
   },
   "id": "e44e85c338f05bdc",
   "execution_count": 31
  },
  {
   "cell_type": "code",
   "outputs": [
    {
     "name": "stdout",
     "output_type": "stream",
     "text": [
      "Starting model training [1 / 5]\n",
      "Using device = cuda:7\n"
     ]
    },
    {
     "data": {
      "text/plain": "  0%|          | 0/30 [00:00<?, ?it/s]",
      "application/vnd.jupyter.widget-view+json": {
       "version_major": 2,
       "version_minor": 0,
       "model_id": "f4ad6f29d74040babba95d29857e3263"
      }
     },
     "metadata": {},
     "output_type": "display_data"
    },
    {
     "name": "stdout",
     "output_type": "stream",
     "text": [
      "Starting model training [2 / 5]\n",
      "Using device = cuda:7\n"
     ]
    },
    {
     "data": {
      "text/plain": "  0%|          | 0/30 [00:00<?, ?it/s]",
      "application/vnd.jupyter.widget-view+json": {
       "version_major": 2,
       "version_minor": 0,
       "model_id": "45f5a5c9845247b682f8c6d6fd00d9b2"
      }
     },
     "metadata": {},
     "output_type": "display_data"
    },
    {
     "name": "stdout",
     "output_type": "stream",
     "text": [
      "Starting model training [3 / 5]\n",
      "Using device = cuda:7\n"
     ]
    },
    {
     "data": {
      "text/plain": "  0%|          | 0/30 [00:00<?, ?it/s]",
      "application/vnd.jupyter.widget-view+json": {
       "version_major": 2,
       "version_minor": 0,
       "model_id": "0d264293be814bff8daa0338f9190ab8"
      }
     },
     "metadata": {},
     "output_type": "display_data"
    },
    {
     "name": "stdout",
     "output_type": "stream",
     "text": [
      "Starting model training [4 / 5]\n",
      "Using device = cuda:7\n"
     ]
    },
    {
     "data": {
      "text/plain": "  0%|          | 0/30 [00:00<?, ?it/s]",
      "application/vnd.jupyter.widget-view+json": {
       "version_major": 2,
       "version_minor": 0,
       "model_id": "b6bb6ac581fe4d5a92638ecd5a2ac6e5"
      }
     },
     "metadata": {},
     "output_type": "display_data"
    },
    {
     "name": "stdout",
     "output_type": "stream",
     "text": [
      "Starting model training [5 / 5]\n",
      "Using device = cuda:7\n"
     ]
    },
    {
     "data": {
      "text/plain": "  0%|          | 0/30 [00:00<?, ?it/s]",
      "application/vnd.jupyter.widget-view+json": {
       "version_major": 2,
       "version_minor": 0,
       "model_id": "6158eadda9fa4ba88416ad846f995ba5"
      }
     },
     "metadata": {},
     "output_type": "display_data"
    }
   ],
   "source": [
    "history_1110 = get_history(get_model_init(True, True, True, False))\n",
    "save_path = os.path.join(main_cfg['experiment_directory'], \"ablation-study-1110.npy\")\n",
    "np.save(save_path, history_1110)\n"
   ],
   "metadata": {
    "collapsed": false,
    "ExecuteTime": {
     "end_time": "2024-02-11T16:59:04.535169163Z",
     "start_time": "2024-02-11T16:45:56.180908468Z"
    }
   },
   "id": "9c31e5172ecd00b2",
   "execution_count": 32
  },
  {
   "cell_type": "code",
   "outputs": [
    {
     "name": "stdout",
     "output_type": "stream",
     "text": [
      "Starting model training [1 / 5]\n",
      "Using device = cuda:7\n"
     ]
    },
    {
     "data": {
      "text/plain": "  0%|          | 0/30 [00:00<?, ?it/s]",
      "application/vnd.jupyter.widget-view+json": {
       "version_major": 2,
       "version_minor": 0,
       "model_id": "4cb12fbde105425486880bce42a5f3d5"
      }
     },
     "metadata": {},
     "output_type": "display_data"
    },
    {
     "name": "stdout",
     "output_type": "stream",
     "text": [
      "Starting model training [2 / 5]\n",
      "Using device = cuda:7\n"
     ]
    },
    {
     "data": {
      "text/plain": "  0%|          | 0/30 [00:00<?, ?it/s]",
      "application/vnd.jupyter.widget-view+json": {
       "version_major": 2,
       "version_minor": 0,
       "model_id": "c1763e6c24c949a3a909b19168386022"
      }
     },
     "metadata": {},
     "output_type": "display_data"
    },
    {
     "name": "stdout",
     "output_type": "stream",
     "text": [
      "Starting model training [3 / 5]\n",
      "Using device = cuda:7\n"
     ]
    },
    {
     "data": {
      "text/plain": "  0%|          | 0/30 [00:00<?, ?it/s]",
      "application/vnd.jupyter.widget-view+json": {
       "version_major": 2,
       "version_minor": 0,
       "model_id": "91ae7b1345a74d7990d30f156f219d6a"
      }
     },
     "metadata": {},
     "output_type": "display_data"
    },
    {
     "name": "stdout",
     "output_type": "stream",
     "text": [
      "Starting model training [4 / 5]\n",
      "Using device = cuda:7\n"
     ]
    },
    {
     "data": {
      "text/plain": "  0%|          | 0/30 [00:00<?, ?it/s]",
      "application/vnd.jupyter.widget-view+json": {
       "version_major": 2,
       "version_minor": 0,
       "model_id": "d1235b9a34db441fa4354db806ae3772"
      }
     },
     "metadata": {},
     "output_type": "display_data"
    },
    {
     "name": "stdout",
     "output_type": "stream",
     "text": [
      "Starting model training [5 / 5]\n",
      "Using device = cuda:7\n"
     ]
    },
    {
     "data": {
      "text/plain": "  0%|          | 0/30 [00:00<?, ?it/s]",
      "application/vnd.jupyter.widget-view+json": {
       "version_major": 2,
       "version_minor": 0,
       "model_id": "715f32f5fa2940258617a31671533e69"
      }
     },
     "metadata": {},
     "output_type": "display_data"
    }
   ],
   "source": [
    "history_0100 = get_history(get_model_init(False, True, False, False))\n",
    "save_path = os.path.join(main_cfg['experiment_directory'], \"ablation-study-0100.npy\")\n",
    "np.save(save_path, history_0100)\n"
   ],
   "metadata": {
    "collapsed": false,
    "ExecuteTime": {
     "end_time": "2024-02-11T17:10:11.996441917Z",
     "start_time": "2024-02-11T16:59:04.539186766Z"
    }
   },
   "id": "9bc9f40bfe818796",
   "execution_count": 33
  },
  {
   "cell_type": "code",
   "outputs": [
    {
     "name": "stdout",
     "output_type": "stream",
     "text": [
      "Starting model training [1 / 5]\n",
      "Using device = cuda:7\n"
     ]
    },
    {
     "data": {
      "text/plain": "  0%|          | 0/30 [00:00<?, ?it/s]",
      "application/vnd.jupyter.widget-view+json": {
       "version_major": 2,
       "version_minor": 0,
       "model_id": "232610f434484c64992207613ca93da7"
      }
     },
     "metadata": {},
     "output_type": "display_data"
    },
    {
     "name": "stdout",
     "output_type": "stream",
     "text": [
      "Starting model training [2 / 5]\n",
      "Using device = cuda:7\n"
     ]
    },
    {
     "data": {
      "text/plain": "  0%|          | 0/30 [00:00<?, ?it/s]",
      "application/vnd.jupyter.widget-view+json": {
       "version_major": 2,
       "version_minor": 0,
       "model_id": "dc7554857f5147d1b27cca9ab140e0e2"
      }
     },
     "metadata": {},
     "output_type": "display_data"
    },
    {
     "name": "stdout",
     "output_type": "stream",
     "text": [
      "Starting model training [3 / 5]\n",
      "Using device = cuda:7\n"
     ]
    },
    {
     "data": {
      "text/plain": "  0%|          | 0/30 [00:00<?, ?it/s]",
      "application/vnd.jupyter.widget-view+json": {
       "version_major": 2,
       "version_minor": 0,
       "model_id": "4616549ba4294a31b453a5976a1cc6e8"
      }
     },
     "metadata": {},
     "output_type": "display_data"
    },
    {
     "name": "stdout",
     "output_type": "stream",
     "text": [
      "Starting model training [4 / 5]\n",
      "Using device = cuda:7\n"
     ]
    },
    {
     "data": {
      "text/plain": "  0%|          | 0/30 [00:00<?, ?it/s]",
      "application/vnd.jupyter.widget-view+json": {
       "version_major": 2,
       "version_minor": 0,
       "model_id": "6983da49f366470c88ed539c77780f64"
      }
     },
     "metadata": {},
     "output_type": "display_data"
    },
    {
     "name": "stdout",
     "output_type": "stream",
     "text": [
      "Starting model training [5 / 5]\n",
      "Using device = cuda:7\n"
     ]
    },
    {
     "data": {
      "text/plain": "  0%|          | 0/30 [00:00<?, ?it/s]",
      "application/vnd.jupyter.widget-view+json": {
       "version_major": 2,
       "version_minor": 0,
       "model_id": "d1930ef33e7d4a1ba55fd8eadcac2ca9"
      }
     },
     "metadata": {},
     "output_type": "display_data"
    }
   ],
   "source": [
    "history_0010 = get_history(get_model_init(False, False, True, False))\n",
    "save_path = os.path.join(main_cfg['experiment_directory'], \"ablation-study-0010.npy\")\n",
    "np.save(save_path, history_0010)"
   ],
   "metadata": {
    "collapsed": false,
    "ExecuteTime": {
     "end_time": "2024-02-11T17:22:01.187476460Z",
     "start_time": "2024-02-11T17:10:12.001323752Z"
    }
   },
   "id": "42f5f8915e7ec75",
   "execution_count": 34
  },
  {
   "cell_type": "code",
   "outputs": [
    {
     "name": "stdout",
     "output_type": "stream",
     "text": [
      "Starting model training [1 / 5]\n",
      "Using device = cuda:7\n"
     ]
    },
    {
     "data": {
      "text/plain": "  0%|          | 0/30 [00:00<?, ?it/s]",
      "application/vnd.jupyter.widget-view+json": {
       "version_major": 2,
       "version_minor": 0,
       "model_id": "54ac63bde2644534ace19de5cefb605c"
      }
     },
     "metadata": {},
     "output_type": "display_data"
    },
    {
     "name": "stdout",
     "output_type": "stream",
     "text": [
      "Starting model training [2 / 5]\n",
      "Using device = cuda:7\n"
     ]
    },
    {
     "data": {
      "text/plain": "  0%|          | 0/30 [00:00<?, ?it/s]",
      "application/vnd.jupyter.widget-view+json": {
       "version_major": 2,
       "version_minor": 0,
       "model_id": "85eb4d722b9e4e669b97a937cc44b559"
      }
     },
     "metadata": {},
     "output_type": "display_data"
    },
    {
     "name": "stdout",
     "output_type": "stream",
     "text": [
      "Starting model training [3 / 5]\n",
      "Using device = cuda:7\n"
     ]
    },
    {
     "data": {
      "text/plain": "  0%|          | 0/30 [00:00<?, ?it/s]",
      "application/vnd.jupyter.widget-view+json": {
       "version_major": 2,
       "version_minor": 0,
       "model_id": "fb70dfbf55e1450fbb96aa85b020f2ea"
      }
     },
     "metadata": {},
     "output_type": "display_data"
    },
    {
     "name": "stdout",
     "output_type": "stream",
     "text": [
      "Starting model training [4 / 5]\n",
      "Using device = cuda:7\n"
     ]
    },
    {
     "data": {
      "text/plain": "  0%|          | 0/30 [00:00<?, ?it/s]",
      "application/vnd.jupyter.widget-view+json": {
       "version_major": 2,
       "version_minor": 0,
       "model_id": "73800ca3cce3437da349b46f06d95739"
      }
     },
     "metadata": {},
     "output_type": "display_data"
    },
    {
     "name": "stdout",
     "output_type": "stream",
     "text": [
      "Starting model training [5 / 5]\n",
      "Using device = cuda:7\n"
     ]
    },
    {
     "data": {
      "text/plain": "  0%|          | 0/30 [00:00<?, ?it/s]",
      "application/vnd.jupyter.widget-view+json": {
       "version_major": 2,
       "version_minor": 0,
       "model_id": "f886dd8ba4c84a60b3a18c17fe3223e6"
      }
     },
     "metadata": {},
     "output_type": "display_data"
    }
   ],
   "source": [
    "history_0000 = get_history(get_model_init(False, False, False, False))\n",
    "save_path = os.path.join(main_cfg['experiment_directory'], \"ablation-study-0000.npy\")\n",
    "np.save(save_path, history_0000)\n"
   ],
   "metadata": {
    "collapsed": false,
    "ExecuteTime": {
     "end_time": "2024-02-11T18:56:52.576635018Z",
     "start_time": "2024-02-11T18:46:05.149776797Z"
    }
   },
   "id": "b0b52da104ec78b6",
   "execution_count": 35
  },
  {
   "cell_type": "code",
   "outputs": [],
   "source": [],
   "metadata": {
    "collapsed": false
   },
   "id": "de735ad90c19d62b"
  },
  {
   "cell_type": "code",
   "outputs": [],
   "source": [],
   "metadata": {
    "collapsed": false
   },
   "id": "a3ef609364a70672"
  },
  {
   "cell_type": "code",
   "outputs": [],
   "source": [],
   "metadata": {
    "collapsed": false
   },
   "id": "f5a3f670fdf49391"
  },
  {
   "cell_type": "code",
   "outputs": [],
   "source": [
    "history_0111 = get_history(get_model_init(False, True, True, True))\n",
    "history_1110 = get_history(get_model_init(True, True, True, False))"
   ],
   "metadata": {
    "collapsed": false
   },
   "id": "16fc7922d0ea762f"
  },
  {
   "cell_type": "code",
   "outputs": [],
   "source": [
    "save_path = os.path.join(main_cfg['experiment_directory'], \"ablation-study-test.npy\")\n",
    "np.save(save_path, history_full)"
   ],
   "metadata": {
    "collapsed": false,
    "ExecuteTime": {
     "end_time": "2024-02-11T16:03:31.992729861Z",
     "start_time": "2024-02-11T16:03:31.908000531Z"
    }
   },
   "id": "ee680bad26e263a7",
   "execution_count": 25
  },
  {
   "cell_type": "code",
   "outputs": [],
   "source": [],
   "metadata": {
    "collapsed": false
   },
   "id": "3de5219f9b500055"
  },
  {
   "cell_type": "code",
   "outputs": [],
   "source": [],
   "metadata": {
    "collapsed": false
   },
   "id": "cba46569414bfd7e"
  },
  {
   "cell_type": "code",
   "outputs": [],
   "source": [],
   "metadata": {
    "collapsed": false
   },
   "id": "ad48040f8ff14594"
  },
  {
   "cell_type": "code",
   "execution_count": 13,
   "id": "4a10b39e-0530-419f-9dcb-91f65ae9b5a0",
   "metadata": {
    "tags": []
   },
   "outputs": [
    {
     "data": {
      "text/plain": [
       "[AdaptiveOutlierRemoval(),\n",
       " AdaptiveShift(),\n",
       " AdaptiveScale(),\n",
       " AdaptivePowerTransform()]"
      ]
     },
     "execution_count": 13,
     "metadata": {},
     "output_type": "execute_result"
    }
   ],
   "source": [
    "edain_model.preprocess.transform_list"
   ]
  },
  {
   "cell_type": "code",
   "execution_count": 14,
   "id": "0658e00f-ce30-47a1-aa53-249db8e8e872",
   "metadata": {
    "tags": []
   },
   "outputs": [
    {
     "data": {
      "text/plain": [
       "<function torch.nn.functional.cross_entropy(input: torch.Tensor, target: torch.Tensor, weight: Optional[torch.Tensor] = None, size_average: Optional[bool] = None, ignore_index: int = -100, reduce: Optional[bool] = None, reduction: str = 'mean', label_smoothing: float = 0.0) -> torch.Tensor>"
      ]
     },
     "execution_count": 14,
     "metadata": {},
     "output_type": "execute_result"
    }
   ],
   "source": [
    "F.cross_entropy"
   ]
  },
  {
   "cell_type": "code",
   "execution_count": 21,
   "id": "f6c98732-19e0-46af-945b-46bf437dbe43",
   "metadata": {
    "tags": []
   },
   "outputs": [
    {
     "data": {
      "application/vnd.jupyter.widget-view+json": {
       "model_id": "eaa42c218b694394bd21915ccb8db999",
       "version_major": 2,
       "version_minor": 0
      },
      "text/plain": [
       "Evaluating model: 0it [00:00, ?it/s]"
      ]
     },
     "metadata": {},
     "output_type": "display_data"
    },
    {
     "data": {
      "text/plain": [
       "1828.3663323258554"
      ]
     },
     "execution_count": 21,
     "metadata": {},
     "output_type": "execute_result"
    }
   ],
   "source": [
    "dev = torch.device('cuda', 4)\n",
    "\n",
    "def evaluate_model(mod, outlier_removal=True, shift=True, scale=True, power_transform=True):\n",
    "    running_vloss = 0.0\n",
    "    mod = mod.to(dev)\n",
    "    with torch.no_grad():\n",
    "        for i, vdata in tqdm(enumerate(train_loader), desc=\"Evaluating model\"):\n",
    "            vinputs, vlabels = vdata\n",
    "            vinputs, vlabels = vinputs.to(dev), vlabels.to(dev)\n",
    "            \n",
    "            # apply the preprocessing\n",
    "            # ...\n",
    "            if i == 0:\n",
    "                mod.train()\n",
    "            elif i == 1:\n",
    "                mod.eval()\n",
    "            voutputs = mod(vinputs)\n",
    "            vloss = F.cross_entropy(voutputs, vlabels, reduction='mean').cpu().item()\n",
    "            # vmetric = amex_metric_mod(vlabels.cpu().numpy(), voutputs.cpu().numpy())\n",
    "            if i > 0:\n",
    "                running_vloss += vloss\n",
    "            # running_vmetric += vmetric\n",
    "    avg_vloss = running_vloss / (i + 1)\n",
    "    return avg_vloss\n",
    "\n",
    "\n",
    "evaluate_model(edain_model, False, True, True, False)"
   ]
  }
 ],
 "metadata": {
  "kernelspec": {
   "display_name": "cudf_torch",
   "language": "python",
   "name": "cudf_torch"
  },
  "language_info": {
   "codemirror_mode": {
    "name": "ipython",
    "version": 3
   },
   "file_extension": ".py",
   "mimetype": "text/x-python",
   "name": "python",
   "nbconvert_exporter": "python",
   "pygments_lexer": "ipython3",
   "version": "3.10.11"
  }
 },
 "nbformat": 4,
 "nbformat_minor": 5
}
