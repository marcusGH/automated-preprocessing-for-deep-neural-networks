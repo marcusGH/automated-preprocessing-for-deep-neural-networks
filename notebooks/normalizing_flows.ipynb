{
 "cells": [
  {
   "cell_type": "markdown",
   "id": "37982be1-8d80-433c-a1a1-3a5a3eb28d60",
   "metadata": {},
   "source": [
    "# Normalizing flows"
   ]
  },
  {
   "cell_type": "code",
   "execution_count": 1,
   "id": "3da81b9f-c2c0-495e-9474-c08138da871a",
   "metadata": {
    "tags": []
   },
   "outputs": [
    {
     "name": "stdout",
     "output_type": "stream",
     "text": [
      "/data/mas322/amex-project\n"
     ]
    }
   ],
   "source": [
    "%cd .."
   ]
  },
  {
   "cell_type": "code",
   "execution_count": 2,
   "id": "ad7f870f-7a2d-41b2-80dd-bb0687759ba1",
   "metadata": {
    "tags": []
   },
   "outputs": [
    {
     "name": "stdout",
     "output_type": "stream",
     "text": [
      "X shape: (1024, 13, 177)\n"
     ]
    }
   ],
   "source": [
    "import yaml\n",
    "import os\n",
    "import importlib\n",
    "import numpy as np\n",
    "import sklearn\n",
    "import matplotlib.pyplot as plt\n",
    "from tqdm.auto import tqdm\n",
    "\n",
    "from src.experiments.static_preprocessing_methods.min_max_scaling import MinMaxTimeSeries\n",
    "from src.lib import experimentation\n",
    "import src.experiments.static_preprocessing_methods.experiment_setup as spm\n",
    "\n",
    "with open(os.path.join(\"config.yaml\")) as f:\n",
    "    cfg = yaml.load(f, Loader=yaml.FullLoader)\n",
    "\n",
    "data_loader_kwargs = {\n",
    "    'batch_size' : 1024,\n",
    "    'shuffle' : True,\n",
    "    'drop_last' : True,\n",
    "}\n",
    "\n",
    "fill_dict = {\n",
    "    'nan' : -0.5,\n",
    "    'pad_categorical' : -2,\n",
    "    'pad_numeric' : -1.,\n",
    "}\n",
    "# load corrupted data\n",
    "train_loader, val_loader = experimentation.load_numpy_data(\n",
    "    os.path.join(cfg['dataset_directory'], \"derived\", \"processed-splits\"),\n",
    "    val_idx=[0, 1],\n",
    "    fill_dict=fill_dict,\n",
    "    preprocess_obj=MinMaxTimeSeries(),\n",
    "    corrupt_func=spm.undo_min_max_corrupt_func,\n",
    "    **data_loader_kwargs)\n",
    "\n",
    "for X, y in train_loader:\n",
    "    break\n",
    "X, y = X.numpy()[:, :, 11:], y.numpy()[11:]\n",
    "print(f\"X shape: {X.shape}\")"
   ]
  },
  {
   "cell_type": "code",
   "execution_count": 3,
   "id": "98f06c80-7a18-4998-a6fa-27f44217d64f",
   "metadata": {
    "tags": []
   },
   "outputs": [],
   "source": [
    "import torch\n",
    "import torch.nn as nn\n",
    "import torch.nn.functional as F\n",
    "import pyro\n",
    "import pyro.distributions as dist \n",
    "import pyro.distributions.transforms as T"
   ]
  },
  {
   "cell_type": "markdown",
   "id": "3bce63b5-ce4c-49ee-96d0-a75a94d3e7c9",
   "metadata": {
    "tags": []
   },
   "source": [
    "## Simple normalizing flow example"
   ]
  },
  {
   "cell_type": "markdown",
   "id": "63134dd6-e8b9-4c97-93a5-3dbc3e52f856",
   "metadata": {},
   "source": [
    "`T.ExpTransform()` implements $g(x)=\\exp(x)$, for which $\\log\\left(\\left| \\frac{dg}{dx}\\right|\\right)=x$. We can pass in a list of transformations to the below method, and a base distribution e.g. `dist.Normal` object. The transformations are applied from left to right when going forwards"
   ]
  },
  {
   "cell_type": "code",
   "execution_count": 11,
   "id": "c3aa34fb-485b-469a-8a02-c99b7b0ca2c5",
   "metadata": {
    "tags": []
   },
   "outputs": [
    {
     "data": {
      "text/plain": [
       "\u001b[0;31mInit signature:\u001b[0m\n",
       "\u001b[0mdist\u001b[0m\u001b[0;34m.\u001b[0m\u001b[0mTransformedDistribution\u001b[0m\u001b[0;34m(\u001b[0m\u001b[0;34m\u001b[0m\n",
       "\u001b[0;34m\u001b[0m    \u001b[0mbase_distribution\u001b[0m\u001b[0;34m,\u001b[0m\u001b[0;34m\u001b[0m\n",
       "\u001b[0;34m\u001b[0m    \u001b[0mtransforms\u001b[0m\u001b[0;34m,\u001b[0m\u001b[0;34m\u001b[0m\n",
       "\u001b[0;34m\u001b[0m    \u001b[0mvalidate_args\u001b[0m\u001b[0;34m=\u001b[0m\u001b[0;32mNone\u001b[0m\u001b[0;34m,\u001b[0m\u001b[0;34m\u001b[0m\n",
       "\u001b[0;34m\u001b[0m\u001b[0;34m)\u001b[0m\u001b[0;34m\u001b[0m\u001b[0;34m\u001b[0m\u001b[0m\n",
       "\u001b[0;31mDocstring:\u001b[0m     \n",
       "Wraps :class:`torch.distributions.transformed_distribution.TransformedDistribution` with\n",
       ":class:`~pyro.distributions.torch_distribution.TorchDistributionMixin`.\n",
       "\u001b[0;31mFile:\u001b[0m           ~/anaconda3/envs/cudf-torch/lib/python3.10/site-packages/pyro/distributions/torch.py\n",
       "\u001b[0;31mType:\u001b[0m           DistributionMeta\n",
       "\u001b[0;31mSubclasses:\u001b[0m     AffineBeta, FoldedDistribution, InverseGamma, LKJ"
      ]
     },
     "metadata": {},
     "output_type": "display_data"
    }
   ],
   "source": [
    "?dist.TransformedDistribution"
   ]
  },
  {
   "cell_type": "markdown",
   "id": "b8ca0e88-4d2c-40c2-ab8f-c7bd34651c8b",
   "metadata": {},
   "source": [
    "`T.AffineTransform` does a linear shift and scale"
   ]
  },
  {
   "cell_type": "markdown",
   "id": "4f3cd278-3253-49b6-8e54-8c88774ef2c8",
   "metadata": {},
   "source": [
    "Learnable transformations should inherit from `dist.torch_transform.TransformModule`, not the `T` verison, which is only for fixed parameters. However, this is just child of both `T.Transform` and `nn.modules.module.Module`."
   ]
  },
  {
   "cell_type": "code",
   "execution_count": 4,
   "id": "887c1abf-0758-46b2-90c7-ced346f4776a",
   "metadata": {
    "tags": []
   },
   "outputs": [],
   "source": [
    "# example\n",
    "def get_iaf_bijector(num_layers, scale_and_shift_dims, input_dim, dev):\n",
    "    transforms = []\n",
    "    for _ in range(num_layers):\n",
    "        scale_and_shift = pyro.nn.AutoRegressiveNN(input_dim, scale_and_shift_dims, param_dims=[1, 1])\n",
    "        transforms.append(T.AffineAutoregressive(scale_and_shift, stable=True))\n",
    "        transforms.append(T.Permute(torch.randperm(input_dim, dtype=torch.long, device=dev)))\n",
    "    # skip the last permutation\n",
    "    return T.ComposeTransformModule(transforms[:-1])\n",
    "\n",
    "DEV = torch.device('cuda', 5)\n",
    "\n",
    "base_dist = dist.Normal(torch.zeros(177, device=DEV), torch.ones(177, device=DEV))\n",
    "bijector = get_iaf_bijector(2, [256], 177, DEV).to(DEV)"
   ]
  },
  {
   "cell_type": "code",
   "execution_count": 10,
   "id": "ef5157ce-ad18-426a-883e-1b88055037a9",
   "metadata": {
    "tags": []
   },
   "outputs": [
    {
     "data": {
      "text/plain": [
       "tensor([[ 0.0094,  0.0780,  0.3357,  ...,  0.2932,  0.4504,  0.0438],\n",
       "        [ 0.0097,  0.0813,  0.3347,  ...,  0.2970,  0.3759,  0.0158],\n",
       "        [ 0.0104,  0.0537,  0.3351,  ...,  0.2942,  0.3783,  0.0219],\n",
       "        ...,\n",
       "        [ 0.0122,  0.0324,  0.3348,  ...,  0.2886,  0.4976,  0.1553],\n",
       "        [ 0.0126,  0.0341,  0.3349,  ...,  0.2869,  0.4957, -0.0017],\n",
       "        [ 0.0088,  0.0230,  0.2102,  ...,  0.1631, -0.0016,  0.0251]],\n",
       "       device='cuda:5', grad_fn=<AddBackward0>)"
      ]
     },
     "execution_count": 10,
     "metadata": {},
     "output_type": "execute_result"
    }
   ],
   "source": [
    "# forward\n",
    "out = bijector(torch.tensor(X).to(DEV).flatten(0, 1))\n",
    "out"
   ]
  },
  {
   "cell_type": "code",
   "execution_count": 11,
   "id": "2b47444b-d53b-4bb3-be5c-d3bbc55aa94a",
   "metadata": {
    "tags": []
   },
   "outputs": [
    {
     "data": {
      "text/plain": [
       "tensor([[0.7235, 0.0055, 0.6719,  ..., 0.5000, 0.4285, 0.0189],\n",
       "        [0.7173, 0.1038, 0.6868,  ..., 0.5000, 0.4278, 0.0189],\n",
       "        [0.7252, 0.1366, 0.6860,  ..., 0.5000, 0.4275, 0.0189],\n",
       "        ...,\n",
       "        [0.6754, 0.0111, 0.4775,  ..., 0.5000, 0.4308, 0.0185],\n",
       "        [0.6858, 0.0112, 0.4785,  ..., 0.5000, 0.4298, 0.0185],\n",
       "        [0.5828, 0.0062, 0.3779,  ..., 0.5000, 0.0053, 0.0185]],\n",
       "       device='cuda:5')"
      ]
     },
     "execution_count": 11,
     "metadata": {},
     "output_type": "execute_result"
    }
   ],
   "source": [
    "# inverse call\n",
    "bijector.inv(out)"
   ]
  },
  {
   "cell_type": "code",
   "execution_count": 5,
   "id": "c8384bb7-56b9-4574-a200-8f64c216e376",
   "metadata": {
    "tags": []
   },
   "outputs": [
    {
     "data": {
      "application/vnd.jupyter.widget-view+json": {
       "model_id": "4ed3265b9e7949fea2f643c75c154e5f",
       "version_major": 2,
       "version_minor": 0
      },
      "text/plain": [
       "Epoch:   0%|          | 0/1 [00:00<?, ?it/s]"
      ]
     },
     "metadata": {},
     "output_type": "display_data"
    },
    {
     "data": {
      "application/vnd.jupyter.widget-view+json": {
       "model_id": "bad8c296429e421da620ce6f7b0bdd59",
       "version_major": 2,
       "version_minor": 0
      },
      "text/plain": [
       "  0%|          | 0/358 [00:00<?, ?it/s]"
      ]
     },
     "metadata": {},
     "output_type": "display_data"
    },
    {
     "ename": "ValueError",
     "evalue": "Expected value argument (Tensor of shape (13312, 177)) to be within the support (Real()) of the distribution Normal(loc: torch.Size([177]), scale: torch.Size([177])), but found invalid values:\ntensor([[-1.1671e-01,  1.1777e-01, -2.6893e-01,  ...,  1.3653e-01,\n          1.0293e-01,  1.4628e+00],\n        [-1.0690e-01,  1.1310e-01, -2.2581e-01,  ...,  1.3152e-01,\n          1.0276e-01,  1.2569e+00],\n        [-1.2455e-01,  1.1984e-01, -3.0641e-01,  ...,  1.4204e-01,\n          1.1465e-01,  1.6196e+00],\n        ...,\n        [ 2.8297e-01, -4.7330e-01, -5.2042e-01,  ..., -6.5786e-01,\n         -5.1815e-01, -4.1372e-01],\n        [ 3.4143e-01, -4.3128e-01,  2.1879e-01,  ..., -6.0557e-01,\n         -1.2954e+00, -3.4450e-01],\n        [-6.8723e-01,  1.1125e-03,  3.5299e-01,  ...,  5.3059e-01,\n         -2.3010e+00,  3.7948e-01]], device='cuda:5', grad_fn=<StackBackward0>)",
     "output_type": "error",
     "traceback": [
      "\u001b[0;31m---------------------------------------------------------------------------\u001b[0m",
      "\u001b[0;31mValueError\u001b[0m                                Traceback (most recent call last)",
      "Cell \u001b[0;32mIn[5], line 9\u001b[0m\n\u001b[1;32m      7\u001b[0m X \u001b[38;5;241m=\u001b[39m X\u001b[38;5;241m.\u001b[39mflatten(\u001b[38;5;241m0\u001b[39m, \u001b[38;5;241m1\u001b[39m)[:, \u001b[38;5;241m11\u001b[39m:]\u001b[38;5;241m.\u001b[39mto(DEV)\n\u001b[1;32m      8\u001b[0m optim\u001b[38;5;241m.\u001b[39mzero_grad()\n\u001b[0;32m----> 9\u001b[0m loss \u001b[38;5;241m=\u001b[39m \u001b[38;5;241m-\u001b[39m\u001b[43mflow_dist\u001b[49m\u001b[38;5;241;43m.\u001b[39;49m\u001b[43mlog_prob\u001b[49m\u001b[43m(\u001b[49m\u001b[43mX\u001b[49m\u001b[43m)\u001b[49m\u001b[38;5;241m.\u001b[39mmean()\n\u001b[1;32m     10\u001b[0m loss\u001b[38;5;241m.\u001b[39mbackward()\n\u001b[1;32m     11\u001b[0m optim\u001b[38;5;241m.\u001b[39mstep()\n",
      "File \u001b[0;32m~/anaconda3/envs/cudf-torch/lib/python3.10/site-packages/torch/distributions/transformed_distribution.py:153\u001b[0m, in \u001b[0;36mTransformedDistribution.log_prob\u001b[0;34m(self, value)\u001b[0m\n\u001b[1;32m    149\u001b[0m     log_prob \u001b[38;5;241m=\u001b[39m log_prob \u001b[38;5;241m-\u001b[39m _sum_rightmost(transform\u001b[38;5;241m.\u001b[39mlog_abs_det_jacobian(x, y),\n\u001b[1;32m    150\u001b[0m                                          event_dim \u001b[38;5;241m-\u001b[39m transform\u001b[38;5;241m.\u001b[39mdomain\u001b[38;5;241m.\u001b[39mevent_dim)\n\u001b[1;32m    151\u001b[0m     y \u001b[38;5;241m=\u001b[39m x\n\u001b[0;32m--> 153\u001b[0m log_prob \u001b[38;5;241m=\u001b[39m log_prob \u001b[38;5;241m+\u001b[39m _sum_rightmost(\u001b[38;5;28;43mself\u001b[39;49m\u001b[38;5;241;43m.\u001b[39;49m\u001b[43mbase_dist\u001b[49m\u001b[38;5;241;43m.\u001b[39;49m\u001b[43mlog_prob\u001b[49m\u001b[43m(\u001b[49m\u001b[43my\u001b[49m\u001b[43m)\u001b[49m,\n\u001b[1;32m    154\u001b[0m                                      event_dim \u001b[38;5;241m-\u001b[39m \u001b[38;5;28mlen\u001b[39m(\u001b[38;5;28mself\u001b[39m\u001b[38;5;241m.\u001b[39mbase_dist\u001b[38;5;241m.\u001b[39mevent_shape))\n\u001b[1;32m    155\u001b[0m \u001b[38;5;28;01mreturn\u001b[39;00m log_prob\n",
      "File \u001b[0;32m~/anaconda3/envs/cudf-torch/lib/python3.10/site-packages/torch/distributions/independent.py:99\u001b[0m, in \u001b[0;36mIndependent.log_prob\u001b[0;34m(self, value)\u001b[0m\n\u001b[1;32m     98\u001b[0m \u001b[38;5;28;01mdef\u001b[39;00m \u001b[38;5;21mlog_prob\u001b[39m(\u001b[38;5;28mself\u001b[39m, value):\n\u001b[0;32m---> 99\u001b[0m     log_prob \u001b[38;5;241m=\u001b[39m \u001b[38;5;28;43mself\u001b[39;49m\u001b[38;5;241;43m.\u001b[39;49m\u001b[43mbase_dist\u001b[49m\u001b[38;5;241;43m.\u001b[39;49m\u001b[43mlog_prob\u001b[49m\u001b[43m(\u001b[49m\u001b[43mvalue\u001b[49m\u001b[43m)\u001b[49m\n\u001b[1;32m    100\u001b[0m     \u001b[38;5;28;01mreturn\u001b[39;00m _sum_rightmost(log_prob, \u001b[38;5;28mself\u001b[39m\u001b[38;5;241m.\u001b[39mreinterpreted_batch_ndims)\n",
      "File \u001b[0;32m~/anaconda3/envs/cudf-torch/lib/python3.10/site-packages/torch/distributions/normal.py:79\u001b[0m, in \u001b[0;36mNormal.log_prob\u001b[0;34m(self, value)\u001b[0m\n\u001b[1;32m     77\u001b[0m \u001b[38;5;28;01mdef\u001b[39;00m \u001b[38;5;21mlog_prob\u001b[39m(\u001b[38;5;28mself\u001b[39m, value):\n\u001b[1;32m     78\u001b[0m     \u001b[38;5;28;01mif\u001b[39;00m \u001b[38;5;28mself\u001b[39m\u001b[38;5;241m.\u001b[39m_validate_args:\n\u001b[0;32m---> 79\u001b[0m         \u001b[38;5;28;43mself\u001b[39;49m\u001b[38;5;241;43m.\u001b[39;49m\u001b[43m_validate_sample\u001b[49m\u001b[43m(\u001b[49m\u001b[43mvalue\u001b[49m\u001b[43m)\u001b[49m\n\u001b[1;32m     80\u001b[0m     \u001b[38;5;66;03m# compute the variance\u001b[39;00m\n\u001b[1;32m     81\u001b[0m     var \u001b[38;5;241m=\u001b[39m (\u001b[38;5;28mself\u001b[39m\u001b[38;5;241m.\u001b[39mscale \u001b[38;5;241m*\u001b[39m\u001b[38;5;241m*\u001b[39m \u001b[38;5;241m2\u001b[39m)\n",
      "File \u001b[0;32m~/anaconda3/envs/cudf-torch/lib/python3.10/site-packages/torch/distributions/distribution.py:300\u001b[0m, in \u001b[0;36mDistribution._validate_sample\u001b[0;34m(self, value)\u001b[0m\n\u001b[1;32m    298\u001b[0m valid \u001b[38;5;241m=\u001b[39m support\u001b[38;5;241m.\u001b[39mcheck(value)\n\u001b[1;32m    299\u001b[0m \u001b[38;5;28;01mif\u001b[39;00m \u001b[38;5;129;01mnot\u001b[39;00m valid\u001b[38;5;241m.\u001b[39mall():\n\u001b[0;32m--> 300\u001b[0m     \u001b[38;5;28;01mraise\u001b[39;00m \u001b[38;5;167;01mValueError\u001b[39;00m(\n\u001b[1;32m    301\u001b[0m         \u001b[38;5;124m\"\u001b[39m\u001b[38;5;124mExpected value argument \u001b[39m\u001b[38;5;124m\"\u001b[39m\n\u001b[1;32m    302\u001b[0m         \u001b[38;5;124mf\u001b[39m\u001b[38;5;124m\"\u001b[39m\u001b[38;5;124m(\u001b[39m\u001b[38;5;132;01m{\u001b[39;00m\u001b[38;5;28mtype\u001b[39m(value)\u001b[38;5;241m.\u001b[39m\u001b[38;5;18m__name__\u001b[39m\u001b[38;5;132;01m}\u001b[39;00m\u001b[38;5;124m of shape \u001b[39m\u001b[38;5;132;01m{\u001b[39;00m\u001b[38;5;28mtuple\u001b[39m(value\u001b[38;5;241m.\u001b[39mshape)\u001b[38;5;132;01m}\u001b[39;00m\u001b[38;5;124m) \u001b[39m\u001b[38;5;124m\"\u001b[39m\n\u001b[1;32m    303\u001b[0m         \u001b[38;5;124mf\u001b[39m\u001b[38;5;124m\"\u001b[39m\u001b[38;5;124mto be within the support (\u001b[39m\u001b[38;5;132;01m{\u001b[39;00m\u001b[38;5;28mrepr\u001b[39m(support)\u001b[38;5;132;01m}\u001b[39;00m\u001b[38;5;124m) \u001b[39m\u001b[38;5;124m\"\u001b[39m\n\u001b[1;32m    304\u001b[0m         \u001b[38;5;124mf\u001b[39m\u001b[38;5;124m\"\u001b[39m\u001b[38;5;124mof the distribution \u001b[39m\u001b[38;5;132;01m{\u001b[39;00m\u001b[38;5;28mrepr\u001b[39m(\u001b[38;5;28mself\u001b[39m)\u001b[38;5;132;01m}\u001b[39;00m\u001b[38;5;124m, \u001b[39m\u001b[38;5;124m\"\u001b[39m\n\u001b[1;32m    305\u001b[0m         \u001b[38;5;124mf\u001b[39m\u001b[38;5;124m\"\u001b[39m\u001b[38;5;124mbut found invalid values:\u001b[39m\u001b[38;5;130;01m\\n\u001b[39;00m\u001b[38;5;132;01m{\u001b[39;00mvalue\u001b[38;5;132;01m}\u001b[39;00m\u001b[38;5;124m\"\u001b[39m\n\u001b[1;32m    306\u001b[0m     )\n",
      "\u001b[0;31mValueError\u001b[0m: Expected value argument (Tensor of shape (13312, 177)) to be within the support (Real()) of the distribution Normal(loc: torch.Size([177]), scale: torch.Size([177])), but found invalid values:\ntensor([[-1.1671e-01,  1.1777e-01, -2.6893e-01,  ...,  1.3653e-01,\n          1.0293e-01,  1.4628e+00],\n        [-1.0690e-01,  1.1310e-01, -2.2581e-01,  ...,  1.3152e-01,\n          1.0276e-01,  1.2569e+00],\n        [-1.2455e-01,  1.1984e-01, -3.0641e-01,  ...,  1.4204e-01,\n          1.1465e-01,  1.6196e+00],\n        ...,\n        [ 2.8297e-01, -4.7330e-01, -5.2042e-01,  ..., -6.5786e-01,\n         -5.1815e-01, -4.1372e-01],\n        [ 3.4143e-01, -4.3128e-01,  2.1879e-01,  ..., -6.0557e-01,\n         -1.2954e+00, -3.4450e-01],\n        [-6.8723e-01,  1.1125e-03,  3.5299e-01,  ...,  5.3059e-01,\n         -2.3010e+00,  3.7948e-01]], device='cuda:5', grad_fn=<StackBackward0>)"
     ]
    }
   ],
   "source": [
    "flow_dist = dist.TransformedDistribution(base_dist, [bijector])\n",
    "\n",
    "epochs = 1\n",
    "optim = torch.optim.Adam(bijector.parameters(), lr=1e-3)\n",
    "for epoch_idx in tqdm(range(epochs), desc = \"Epoch: \"):\n",
    "    for X, _ in (pbar := tqdm(train_loader)):\n",
    "        X = X.flatten(0, 1)[:, 11:].to(DEV)\n",
    "        optim.zero_grad()\n",
    "        loss = -flow_dist.log_prob(X).mean()\n",
    "        loss.backward()\n",
    "        optim.step()\n",
    "        pbar.set_description(f\"Loss : {loss.detach().cpu().item():.4f}\")\n",
    "        flow_dist.clear_cache()\n",
    "        del X, loss"
   ]
  },
  {
   "cell_type": "code",
   "execution_count": 7,
   "id": "c6b1fa98-d90e-4c0a-9e67-1a67ea61ea58",
   "metadata": {
    "tags": []
   },
   "outputs": [],
   "source": [
    "for X, y in train_loader:\n",
    "    break\n",
    "X, y = X.numpy()[:, :, 11:], y.numpy()[11:]"
   ]
  },
  {
   "cell_type": "code",
   "execution_count": 13,
   "id": "cae39a78-aac0-4eb9-a236-a67f30ec806d",
   "metadata": {
    "tags": []
   },
   "outputs": [],
   "source": [
    "torch.save(bijector.state_dict(), os.path.join(cfg['checkpoint_directory'], \"bijector-model-11-07-2023\"))"
   ]
  },
  {
   "cell_type": "code",
   "execution_count": 5,
   "id": "640078d8-e0e2-4d8f-beae-d7d983882c38",
   "metadata": {
    "tags": []
   },
   "outputs": [
    {
     "data": {
      "text/plain": [
       "<All keys matched successfully>"
      ]
     },
     "execution_count": 5,
     "metadata": {},
     "output_type": "execute_result"
    }
   ],
   "source": [
    "bijector.load_state_dict(torch.load(os.path.join(cfg['checkpoint_directory'], \"bijector-model-11-07-2023\")))"
   ]
  },
  {
   "cell_type": "markdown",
   "id": "3cee80fe-4097-40c1-9711-b3e2e255d346",
   "metadata": {},
   "source": [
    "Somehow just one lazy initialisation of the bijector uses up 18 GB of GPU memory, so trick is to save model state after training, then apply transformation using CPU perhaps?"
   ]
  },
  {
   "cell_type": "code",
   "execution_count": 11,
   "id": "2ed08611-99cf-42cb-b76e-c0474e596e5f",
   "metadata": {
    "tags": []
   },
   "outputs": [],
   "source": [
    "out = bijector.inv(torch.tensor(X).flatten(0, 1).to(DEV))"
   ]
  },
  {
   "cell_type": "code",
   "execution_count": 20,
   "id": "c030c0d8-5354-4e76-aa10-a7848ad952fc",
   "metadata": {
    "tags": []
   },
   "outputs": [],
   "source": [
    "out = out.detach().cpu().numpy()\n",
    "X = X.reshape((-1, 177))"
   ]
  },
  {
   "cell_type": "markdown",
   "id": "f299fd82-ede2-49aa-9897-5d505a43758e",
   "metadata": {},
   "source": [
    "The below plots are misleading due to the random permutations..."
   ]
  },
  {
   "cell_type": "code",
   "execution_count": 32,
   "id": "f2905458-56ca-4378-b225-2d978fce8874",
   "metadata": {
    "tags": []
   },
   "outputs": [
    {
     "data": {
      "image/png": "[encoded data removed]",
      "text/plain": [
       "<Figure size 1400x700 with 2 Axes>"
      ]
     },
     "metadata": {},
     "output_type": "display_data"
    }
   ],
   "source": [
    "fig, axs = plt.subplots(ncols=2, figsize=(14, 7))\n",
    "axs[0].hist(X[:, 13], bins=60, density=True)\n",
    "axs[1].hist(out[:, 13], bins=60, density=True)\n",
    "plt.show()"
   ]
  },
  {
   "cell_type": "code",
   "execution_count": 34,
   "id": "e3ff5f71-81f1-49d2-8ff0-143b17ab7870",
   "metadata": {
    "tags": []
   },
   "outputs": [
    {
     "data": {
      "image/png": "[encoded data removed]",
      "text/plain": [
       "<Figure size 1400x700 with 2 Axes>"
      ]
     },
     "metadata": {},
     "output_type": "display_data"
    }
   ],
   "source": [
    "fig, axs = plt.subplots(ncols=2, figsize=(14, 7))\n",
    "axs[0].hist(X[:,   25], bins=60, density=True)\n",
    "axs[1].hist(out[:, 25], bins=60, density=True)\n",
    "plt.show()"
   ]
  },
  {
   "cell_type": "code",
   "execution_count": 37,
   "id": "3458ebba-3385-4422-8b35-89226174e8ff",
   "metadata": {
    "tags": []
   },
   "outputs": [
    {
     "data": {
      "image/png": "[encoded data removed]",
      "text/plain": [
       "<Figure size 1400x700 with 2 Axes>"
      ]
     },
     "metadata": {},
     "output_type": "display_data"
    }
   ],
   "source": [
    "fig, axs = plt.subplots(ncols=2, figsize=(14, 7))\n",
    "axs[0].hist(X[:,   70], bins=60, density=True)\n",
    "axs[1].hist(out[:, 70], bins=60, density=True)\n",
    "plt.show()"
   ]
  },
  {
   "cell_type": "code",
   "execution_count": 38,
   "id": "c4709b90-3015-4cf3-8fdd-337aa50e1dd9",
   "metadata": {
    "tags": []
   },
   "outputs": [
    {
     "data": {
      "image/png": "[encoded data removed]",
      "text/plain": [
       "<Figure size 1400x700 with 2 Axes>"
      ]
     },
     "metadata": {},
     "output_type": "display_data"
    }
   ],
   "source": [
    "fig, axs = plt.subplots(ncols=2, figsize=(14, 7))\n",
    "axs[0].hist(X[:,   100], bins=60, density=True)\n",
    "axs[1].hist(out[:, 100], bins=60, density=True)\n",
    "plt.show()"
   ]
  },
  {
   "cell_type": "code",
   "execution_count": 44,
   "id": "d7891929-3f9e-428c-8930-7ba5f6cfea85",
   "metadata": {
    "tags": []
   },
   "outputs": [
    {
     "data": {
      "text/plain": [
       "'6188.0625 MB'"
      ]
     },
     "execution_count": 44,
     "metadata": {},
     "output_type": "execute_result"
    }
   ],
   "source": [
    "f\"{torch.cuda.mem_get_info(5)[0] / 1024 ** 2} MB\""
   ]
  },
  {
   "cell_type": "code",
   "execution_count": 55,
   "id": "dfef6395-994c-4774-aac8-dfd3e5ad6d21",
   "metadata": {
    "tags": []
   },
   "outputs": [
    {
     "data": {
      "application/vnd.jupyter.widget-view+json": {
       "model_id": "cfe4ba4e8fe5434db577a2e0696621f4",
       "version_major": 2,
       "version_minor": 0
      },
      "text/plain": [
       "  0%|          | 0/89 [00:00<?, ?it/s]"
      ]
     },
     "metadata": {},
     "output_type": "display_data"
    },
    {
     "name": "stderr",
     "output_type": "stream",
     "text": [
      "/tmp/ipykernel_3551810/468380385.py:6: UserWarning: To copy construct from a tensor, it is recommended to use sourceTensor.clone().detach() or sourceTensor.clone().detach().requires_grad_(True), rather than torch.tensor(sourceTensor).\n",
      "  X_in = torch.tensor(X[:, :, 11:]).flatten(0, 1).to(DEV)\n"
     ]
    }
   ],
   "source": [
    "X_processed = []\n",
    "y_processed = []\n",
    "\n",
    "for X, y in tqdm(val_loader):\n",
    "    with torch.no_grad():\n",
    "        X_in = torch.tensor(X[:, :, 11:]).flatten(0, 1).to(DEV)\n",
    "        X_out = bijector.inv(X_in)\n",
    "        X_out = X_out.unflatten(0, (X.shape[0], X.shape[1])).detach().cpu().numpy()\n",
    "    X = np.concatenate((X[:, :, :11], X_out), 2)\n",
    "    X_processed.append(X)\n",
    "    y_processed.append(y)    "
   ]
  },
  {
   "cell_type": "code",
   "execution_count": 56,
   "id": "f5891d1e-1b3f-4ac1-9b7b-6edd925feefa",
   "metadata": {
    "tags": []
   },
   "outputs": [],
   "source": [
    "np.save(os.path.join(cfg['dataset_directory'], 'transformed', f\"RealNVP-1-X_val.npy\"), np.concatenate(X_processed, axis=0))"
   ]
  },
  {
   "cell_type": "code",
   "execution_count": 57,
   "id": "174c631d-9511-4aee-ad04-718aaff94dc1",
   "metadata": {
    "tags": []
   },
   "outputs": [],
   "source": [
    "np.save(os.path.join(cfg['dataset_directory'], 'transformed', f\"RealNVP-1-y_val.npy\"), np.concatenate(y_processed, axis=0))"
   ]
  },
  {
   "cell_type": "code",
   "execution_count": 62,
   "id": "5de8b44e-cbcb-40eb-8301-25e302d2b64b",
   "metadata": {
    "tags": []
   },
   "outputs": [],
   "source": [
    "temp = np.load(os.path.join(cfg['dataset_directory'], 'transformed', f\"RealNVP-1-X_train.npy\"))"
   ]
  },
  {
   "cell_type": "markdown",
   "id": "fa552a93-6ac0-44cf-961b-38b136fb682b",
   "metadata": {
    "jp-MarkdownHeadingCollapsed": true,
    "tags": []
   },
   "source": [
    "## Training model on RealNVP-transformed data"
   ]
  },
  {
   "cell_type": "markdown",
   "id": "f5b98140-e5c4-4dd6-bd88-3baa6daf6c7f",
   "metadata": {},
   "source": [
    "Step 1: Load the data"
   ]
  },
  {
   "cell_type": "code",
   "execution_count": 4,
   "id": "e0c0cf4f-33ec-4838-92cd-86438f1a5caf",
   "metadata": {
    "tags": []
   },
   "outputs": [],
   "source": [
    "X_train = np.load(os.path.join(cfg['dataset_directory'], 'transformed', f\"RealNVP-1-X_train.npy\"))\n",
    "y_train = np.load(os.path.join(cfg['dataset_directory'], 'transformed', f\"RealNVP-1-y_train.npy\"))\n",
    "X_val = np.load(os.path.join(cfg['dataset_directory'], 'transformed', f\"RealNVP-1-X_val.npy\"))\n",
    "y_val = np.load(os.path.join(cfg['dataset_directory'], 'transformed', f\"RealNVP-1-y_val.npy\"))\n",
    "\n",
    "data_loader_kwargs = {\n",
    "    'batch_size' : 1024,\n",
    "    'shuffle' : False,\n",
    "    'drop_last' : False,\n",
    "}\n",
    "\n",
    "train_loader = torch.utils.data.DataLoader(\n",
    "    dataset = torch.utils.data.TensorDataset(\n",
    "        torch.from_numpy(X_train).type(torch.float32),\n",
    "        torch.from_numpy(y_train).type(torch.float32)\n",
    "    ), **data_loader_kwargs)\n",
    "\n",
    "val_loader = torch.utils.data.DataLoader(\n",
    "    dataset = torch.utils.data.TensorDataset(\n",
    "        torch.from_numpy(X_val).type(torch.float32),\n",
    "        torch.from_numpy(y_val).type(torch.float32)\n",
    "    ), **data_loader_kwargs)"
   ]
  },
  {
   "cell_type": "code",
   "execution_count": 5,
   "id": "3c5f7439-0499-4f45-92cf-3085b3790374",
   "metadata": {
    "tags": []
   },
   "outputs": [],
   "source": [
    "from src.models.basic_grunet import GRUNetBasic\n",
    "\n",
    "loss_fn = F.binary_cross_entropy\n",
    "model = GRUNetBasic(188, 128, 2, 4)\n",
    "optimizer = torch.optim.Adam(model.parameters(), lr=1e-3)\n",
    "scheduler = torch.optim.lr_scheduler.MultiStepLR(optimizer, milestones=[4, 7], gamma=0.1)\n",
    "early_stopper = experimentation.EarlyStopper(patience=5)"
   ]
  },
  {
   "cell_type": "code",
   "execution_count": 9,
   "id": "ea7342d7-45fe-42dc-86ff-223902d5ade5",
   "metadata": {
    "tags": []
   },
   "outputs": [
    {
     "name": "stdout",
     "output_type": "stream",
     "text": [
      "Using device = cpu\n"
     ]
    },
    {
     "data": {
      "application/vnd.jupyter.widget-view+json": {
       "model_id": "0fd894df0d05473483f92ebc8604d095",
       "version_major": 2,
       "version_minor": 0
      },
      "text/plain": [
       "  0%|          | 0/50 [00:00<?, ?it/s]"
      ]
     },
     "metadata": {},
     "output_type": "display_data"
    },
    {
     "ename": "RuntimeError",
     "evalue": "all elements of input should be between 0 and 1",
     "output_type": "error",
     "traceback": [
      "\u001b[0;31m---------------------------------------------------------------------------\u001b[0m",
      "\u001b[0;31mRuntimeError\u001b[0m                              Traceback (most recent call last)",
      "Cell \u001b[0;32mIn[9], line 1\u001b[0m\n\u001b[0;32m----> 1\u001b[0m hist \u001b[38;5;241m=\u001b[39m \u001b[43mexperimentation\u001b[49m\u001b[38;5;241;43m.\u001b[39;49m\u001b[43mfit_model\u001b[49m\u001b[43m(\u001b[49m\u001b[43mmodel\u001b[49m\u001b[43m,\u001b[49m\u001b[43m \u001b[49m\u001b[43mloss_fn\u001b[49m\u001b[43m,\u001b[49m\u001b[43m \u001b[49m\u001b[43mtrain_loader\u001b[49m\u001b[43m,\u001b[49m\u001b[43m \u001b[49m\u001b[43mval_loader\u001b[49m\u001b[43m,\u001b[49m\u001b[43m \u001b[49m\u001b[43moptimizer\u001b[49m\u001b[43m,\u001b[49m\u001b[43m \u001b[49m\u001b[43mscheduler\u001b[49m\u001b[43m,\u001b[49m\u001b[43m \u001b[49m\u001b[43mnum_epochs\u001b[49m\u001b[38;5;241;43m=\u001b[39;49m\u001b[38;5;241;43m50\u001b[39;49m\u001b[43m,\u001b[49m\u001b[43m \u001b[49m\u001b[43mearly_stopper\u001b[49m\u001b[38;5;241;43m=\u001b[39;49m\u001b[43mearly_stopper\u001b[49m\u001b[43m,\u001b[49m\u001b[43m \u001b[49m\u001b[43mdevice_ids\u001b[49m\u001b[38;5;241;43m=\u001b[39;49m\u001b[38;5;124;43m'\u001b[39;49m\u001b[38;5;124;43mcpu\u001b[39;49m\u001b[38;5;124;43m'\u001b[39;49m\u001b[43m,\u001b[49m\u001b[43m \u001b[49m\u001b[43mverbose\u001b[49m\u001b[38;5;241;43m=\u001b[39;49m\u001b[38;5;28;43;01mTrue\u001b[39;49;00m\u001b[43m)\u001b[49m\n",
      "File \u001b[0;32m~/amex-project/src/lib/experimentation.py:212\u001b[0m, in \u001b[0;36mfit_model\u001b[0;34m(model, loss_fn, train_loader, val_loader, optimizer, scheduler, num_epochs, verbose, early_stopper, device_ids)\u001b[0m\n\u001b[1;32m    207\u001b[0m \u001b[38;5;28;01mfor\u001b[39;00m epoch \u001b[38;5;129;01min\u001b[39;00m \u001b[38;5;28mrange\u001b[39m(num_epochs):\n\u001b[1;32m    208\u001b[0m     \u001b[38;5;66;03m# print('EPOCH {}:'.format(epoch + 1))\u001b[39;00m\n\u001b[1;32m    209\u001b[0m \n\u001b[1;32m    210\u001b[0m     \u001b[38;5;66;03m# Make sure gradient tracking is on, and do a pass over the data\u001b[39;00m\n\u001b[1;32m    211\u001b[0m     model\u001b[38;5;241m.\u001b[39mtrain(\u001b[38;5;28;01mTrue\u001b[39;00m)\n\u001b[0;32m--> 212\u001b[0m     avg_loss, avg_metric \u001b[38;5;241m=\u001b[39m \u001b[43mtrain_one_epoch\u001b[49m\u001b[43m(\u001b[49m\u001b[43mmodel\u001b[49m\u001b[43m,\u001b[49m\u001b[43m \u001b[49m\u001b[43mloss_fn\u001b[49m\u001b[43m,\u001b[49m\u001b[43m \u001b[49m\u001b[43mtrain_loader\u001b[49m\u001b[43m,\u001b[49m\u001b[43m \u001b[49m\u001b[43moptimizer\u001b[49m\u001b[43m,\u001b[49m\u001b[43m \u001b[49m\u001b[43mepoch\u001b[49m\u001b[43m \u001b[49m\u001b[38;5;241;43m+\u001b[39;49m\u001b[43m \u001b[49m\u001b[38;5;241;43m1\u001b[39;49m\u001b[43m,\u001b[49m\u001b[43m \u001b[49m\u001b[43mdev\u001b[49m\u001b[43m \u001b[49m\u001b[38;5;241;43m=\u001b[39;49m\u001b[43m \u001b[49m\u001b[43mdev\u001b[49m\u001b[43m)\u001b[49m\n\u001b[1;32m    214\u001b[0m     running_vloss \u001b[38;5;241m=\u001b[39m \u001b[38;5;241m0.0\u001b[39m\n\u001b[1;32m    215\u001b[0m     running_vmetric \u001b[38;5;241m=\u001b[39m \u001b[38;5;241m0.0\u001b[39m\n",
      "File \u001b[0;32m~/amex-project/src/lib/experimentation.py:154\u001b[0m, in \u001b[0;36mtrain_one_epoch\u001b[0;34m(model, loss_fn, training_loader, optimizer, epoch_number, dev)\u001b[0m\n\u001b[1;32m    151\u001b[0m outputs \u001b[38;5;241m=\u001b[39m model(inputs)\n\u001b[1;32m    153\u001b[0m \u001b[38;5;66;03m# Compute the loss and its gradients\u001b[39;00m\n\u001b[0;32m--> 154\u001b[0m loss \u001b[38;5;241m=\u001b[39m \u001b[43mloss_fn\u001b[49m\u001b[43m(\u001b[49m\u001b[43moutputs\u001b[49m\u001b[43m,\u001b[49m\u001b[43m \u001b[49m\u001b[43mlabels\u001b[49m\u001b[43m)\u001b[49m\n\u001b[1;32m    155\u001b[0m loss\u001b[38;5;241m.\u001b[39mbackward()\n\u001b[1;32m    157\u001b[0m \u001b[38;5;66;03m# Adjust learning weights\u001b[39;00m\n",
      "File \u001b[0;32m~/anaconda3/envs/cudf-torch/lib/python3.10/site-packages/torch/nn/functional.py:3098\u001b[0m, in \u001b[0;36mbinary_cross_entropy\u001b[0;34m(input, target, weight, size_average, reduce, reduction)\u001b[0m\n\u001b[1;32m   3095\u001b[0m     new_size \u001b[38;5;241m=\u001b[39m _infer_size(target\u001b[38;5;241m.\u001b[39msize(), weight\u001b[38;5;241m.\u001b[39msize())\n\u001b[1;32m   3096\u001b[0m     weight \u001b[38;5;241m=\u001b[39m weight\u001b[38;5;241m.\u001b[39mexpand(new_size)\n\u001b[0;32m-> 3098\u001b[0m \u001b[38;5;28;01mreturn\u001b[39;00m \u001b[43mtorch\u001b[49m\u001b[38;5;241;43m.\u001b[39;49m\u001b[43m_C\u001b[49m\u001b[38;5;241;43m.\u001b[39;49m\u001b[43m_nn\u001b[49m\u001b[38;5;241;43m.\u001b[39;49m\u001b[43mbinary_cross_entropy\u001b[49m\u001b[43m(\u001b[49m\u001b[38;5;28;43minput\u001b[39;49m\u001b[43m,\u001b[49m\u001b[43m \u001b[49m\u001b[43mtarget\u001b[49m\u001b[43m,\u001b[49m\u001b[43m \u001b[49m\u001b[43mweight\u001b[49m\u001b[43m,\u001b[49m\u001b[43m \u001b[49m\u001b[43mreduction_enum\u001b[49m\u001b[43m)\u001b[49m\n",
      "\u001b[0;31mRuntimeError\u001b[0m: all elements of input should be between 0 and 1"
     ]
    }
   ],
   "source": [
    "hist = experimentation.fit_model(model, loss_fn, train_loader, val_loader, optimizer, scheduler, num_epochs=50, early_stopper=early_stopper, device_ids='cpu', verbose=True)"
   ]
  },
  {
   "cell_type": "code",
   "execution_count": 14,
   "id": "31494430-b101-4b43-af1f-06be5b598e08",
   "metadata": {
    "tags": []
   },
   "outputs": [
    {
     "name": "stdout",
     "output_type": "stream",
     "text": [
      "4\n",
      "2\n",
      "21\n",
      "7\n",
      "7\n",
      "18\n",
      "168\n",
      "20\n",
      "30\n",
      "23\n",
      "7\n",
      "46\n",
      "835\n",
      "48\n",
      "39\n",
      "50\n",
      "30\n",
      "61\n",
      "7\n",
      "62\n",
      "53\n",
      "74\n",
      "93\n",
      "84\n",
      "14\n",
      "85\n",
      "19\n",
      "90\n",
      "4\n",
      "95\n",
      "48\n",
      "97\n",
      "7\n",
      "101\n",
      "30\n",
      "104\n",
      "24\n",
      "108\n",
      "97\n",
      "109\n",
      "59\n",
      "110\n",
      "1\n",
      "112\n",
      "38\n",
      "115\n",
      "59\n",
      "117\n",
      "19\n",
      "124\n",
      "16\n",
      "134\n",
      "48\n",
      "136\n",
      "19\n",
      "137\n",
      "26\n",
      "141\n",
      "23\n",
      "144\n",
      "24\n",
      "151\n",
      "39\n",
      "157\n",
      "19\n",
      "158\n",
      "45\n",
      "170\n",
      "25\n",
      "171\n",
      "32\n",
      "175\n",
      "45\n",
      "182\n",
      "45\n",
      "184\n",
      "1\n",
      "186\n",
      "469\n",
      "191\n",
      "8\n",
      "194\n",
      "89\n",
      "195\n",
      "21\n",
      "202\n",
      "304\n",
      "203\n",
      "63\n",
      "205\n",
      "1\n",
      "207\n",
      "10\n",
      "209\n",
      "125\n",
      "210\n",
      "2\n",
      "239\n",
      "13\n",
      "242\n",
      "53\n",
      "245\n",
      "31\n",
      "247\n",
      "39\n",
      "248\n",
      "47\n",
      "251\n",
      "58\n",
      "265\n",
      "8\n",
      "277\n",
      "21\n",
      "279\n",
      "31\n",
      "281\n",
      "11\n",
      "285\n",
      "399\n",
      "294\n",
      "15\n",
      "295\n",
      "37\n",
      "311\n",
      "38\n",
      "317\n",
      "17\n",
      "324\n",
      "19\n",
      "329\n",
      "15\n",
      "334\n",
      "53\n",
      "338\n",
      "46\n",
      "340\n",
      "49\n",
      "348\n",
      "110\n",
      "354\n"
     ]
    }
   ],
   "source": [
    "for i, (X, y) in enumerate(train_loader):\n",
    "    if not torch.all(torch.isfinite(X)):\n",
    "        print(len(X[~torch.isfinite(X)]))\n",
    "        print(i)"
   ]
  },
  {
   "cell_type": "code",
   "execution_count": null,
   "id": "5d2c60a8-c899-41ae-bda0-f02b58e97616",
   "metadata": {},
   "outputs": [],
   "source": []
  }
 ],
 "metadata": {
  "kernelspec": {
   "display_name": "cudf_torch",
   "language": "python",
   "name": "cudf_torch"
  },
  "language_info": {
   "codemirror_mode": {
    "name": "ipython",
    "version": 3
   },
   "file_extension": ".py",
   "mimetype": "text/x-python",
   "name": "python",
   "nbconvert_exporter": "python",
   "pygments_lexer": "ipython3",
   "version": "3.10.11"
  }
 },
 "nbformat": 4,
 "nbformat_minor": 5
}
