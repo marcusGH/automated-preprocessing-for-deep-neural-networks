{
 "cells": [
  {
   "cell_type": "markdown",
   "id": "37982be1-8d80-433c-a1a1-3a5a3eb28d60",
   "metadata": {},
   "source": [
    "# Normalizing flows"
   ]
  },
  {
   "cell_type": "code",
   "execution_count": 2,
   "id": "3da81b9f-c2c0-495e-9474-c08138da871a",
   "metadata": {
    "tags": []
   },
   "outputs": [
    {
     "name": "stdout",
     "output_type": "stream",
     "text": [
      "/data/mas322/amex-project\n"
     ]
    }
   ],
   "source": [
    "%cd .."
   ]
  },
  {
   "cell_type": "code",
   "execution_count": 3,
   "id": "ad7f870f-7a2d-41b2-80dd-bb0687759ba1",
   "metadata": {
    "tags": []
   },
   "outputs": [
    {
     "name": "stdout",
     "output_type": "stream",
     "text": [
      "X shape: (1024, 13, 177)\n"
     ]
    }
   ],
   "source": [
    "import yaml\n",
    "import os\n",
    "import importlib\n",
    "import numpy as np\n",
    "import sklearn\n",
    "import matplotlib.pyplot as plt\n",
    "import warnings\n",
    "\n",
    "from tqdm.auto import tqdm\n",
    "\n",
    "import torch\n",
    "import torch.nn as nn\n",
    "import torch.nn.functional as F\n",
    "import pyro\n",
    "import pyro.distributions as dist \n",
    "import pyro.distributions.transforms as T\n",
    "\n",
    "from src.experiments.static_preprocessing_methods.min_max_scaling import MinMaxTimeSeries\n",
    "from src.experiments.static_preprocessing_methods.standard_scaling import StandardScalerTimeSeries\n",
    "from src.lib import experimentation\n",
    "import src.experiments.static_preprocessing_methods.experiment_setup as spm\n",
    "\n",
    "with open(os.path.join(\"config.yaml\")) as f:\n",
    "    cfg = yaml.load(f, Loader=yaml.FullLoader)\n",
    "\n",
    "data_loader_kwargs = {\n",
    "    'batch_size' : 1024,\n",
    "    'shuffle' : False,\n",
    "    'drop_last' : False,\n",
    "}\n",
    "\n",
    "fill_dict = {\n",
    "    'nan' : -0.5,\n",
    "    'pad_categorical' : -2,\n",
    "    'pad_numeric' : -1.,\n",
    "}\n",
    "\n",
    "LOAD_DATA = True\n",
    "\n",
    "if LOAD_DATA:\n",
    "    # load corrupted data\n",
    "    torch.manual_seed(42)\n",
    "    train_loader, val_loader = experimentation.load_numpy_data(\n",
    "        os.path.join(cfg['dataset_directory'], \"derived\", \"processed-splits\"),\n",
    "        val_idx=[0, 1],\n",
    "        fill_dict=fill_dict,\n",
    "        preprocess_obj=MinMaxTimeSeries(),\n",
    "        corrupt_func=spm.undo_min_max_corrupt_func,\n",
    "        dtype=torch.float32,\n",
    "        **data_loader_kwargs)\n",
    "\n",
    "    for X, y in train_loader:\n",
    "        break\n",
    "    X, y = X.numpy()[:, :, 11:], y.numpy()[11:]\n",
    "    print(f\"X shape: {X.shape}\")"
   ]
  },
  {
   "cell_type": "markdown",
   "id": "10223df4-b0f3-43a9-8b8f-0493f44240b1",
   "metadata": {
    "tags": []
   },
   "source": [
    "## Util methods"
   ]
  },
  {
   "cell_type": "code",
   "execution_count": 32,
   "id": "887c1abf-0758-46b2-90c7-ced346f4776a",
   "metadata": {
    "tags": []
   },
   "outputs": [],
   "source": [
    "# example\n",
    "def get_iaf_bijector(num_layers, scale_and_shift_dims, input_dim, dev, random_state=42):\n",
    "    transforms = []\n",
    "    layers_left = num_layers\n",
    "    while layers_left > 0:\n",
    "        # for reproducibility\n",
    "        torch.random.manual_seed(random_state + layers_left)\n",
    "        \n",
    "        # create the permutations\n",
    "        perm = torch.randperm(input_dim, dtype=torch.long, device=dev)\n",
    "        inv_perm = torch.empty_like(perm, device=dev)\n",
    "        inv_perm[perm] = torch.arange(input_dim, device=dev)\n",
    "        \n",
    "        # first affine autoregressive layer\n",
    "        scale_and_shift = pyro.nn.AutoRegressiveNN(input_dim, scale_and_shift_dims, param_dims=[1, 1])\n",
    "        transforms.append(T.AffineAutoregressive(scale_and_shift, stable=True))\n",
    "        if layers_left == 1:\n",
    "            break\n",
    "        transforms.append(T.Permute(perm))\n",
    "\n",
    "        # second affine autoregressive layer\n",
    "        scale_and_shift = pyro.nn.AutoRegressiveNN(input_dim, scale_and_shift_dims, param_dims=[1, 1])\n",
    "        transforms.append(T.AffineAutoregressive(scale_and_shift, stable=True))\n",
    "        transforms.append(T.Permute(inv_perm))\n",
    "        \n",
    "        layers_left -= 2\n",
    "\n",
    "    return T.ComposeTransformModule(transforms)\n",
    "\n",
    "def fit_bijector(bijector, base_dist, train_loader, num_epochs=3, optimizer=None, scheduler=None, early_stopper=None, batch_preprocess_fn=None, inverse_fit=False, max_errors_ignore=20):\n",
    "    \"\"\"\n",
    "    Set scheduler or early_stopper to \"False\" to disable them. Leaving as None uses default values\n",
    "    \"\"\"\n",
    "    flow_dist = dist.TransformedDistribution(base_dist, [bijector])\n",
    "    dev = next(bijector.parameters()).device\n",
    "    \n",
    "    if optimizer is None:\n",
    "        optimizer = torch.optim.Adam(bijector.parameters(), lr=1e-3)\n",
    "    if scheduler is None:\n",
    "        scheduler = torch.optim.lr_scheduler.MultiStepLR(optimizer, [2, 3], gamma=0.1)\n",
    "    if early_stopper is None:\n",
    "        early_stopper = experimentation.EarlyStopper(patience=100)\n",
    "    if batch_preprocess_fn is None:\n",
    "        batch_preprocess_fn = lambda x : x\n",
    "        \n",
    "    stop = False\n",
    "\n",
    "    for epoch_idx in tqdm(range(num_epochs), desc=\"Fitting bijector\"):\n",
    "        for X, _ in (pbar := tqdm(train_loader)):\n",
    "            try:\n",
    "                X = batch_preprocess_fn(X).to(dev)\n",
    "                # compute loss and update gradients\n",
    "                optimizer.zero_grad()\n",
    "                if inverse_fit:\n",
    "                    z = bijector.inv(X)\n",
    "                    loss = -base_dist.log_prob(z).mean()\n",
    "                else:\n",
    "                    loss = -flow_dist.log_prob(X).mean()\n",
    "                loss.backward()\n",
    "                optimizer.step()\n",
    "                # check for early stopping and report\n",
    "                pbar.set_description(f\"Bijector loss : {loss.detach().cpu().item():.4f}\")\n",
    "                if early_stopper and early_stopper.early_stop(loss.detach().cpu().item()):\n",
    "                    stop = True\n",
    "                    break\n",
    "                # gc\n",
    "                flow_dist.clear_cache()\n",
    "                del X, loss\n",
    "            except ValueError as e:\n",
    "                warnings.warn(\"Skipping a batch due to value errors during training: \" + str(e), RuntimeWarning)\n",
    "                del X\n",
    "                max_errors_ignore -= 1\n",
    "                if max_errors_ignore <= 0:\n",
    "                    raise e\n",
    "                continue\n",
    "        # at end of each epoch, step scheduler\n",
    "        if scheduler:\n",
    "            scheduler.step()\n",
    "        if stop:\n",
    "            break\n",
    "\n",
    "def transform_data(bijector, data_loader, batch_preprocess_fn=None, batch_postprocess_fn=None) -> (np.ndarray, np.ndarray):\n",
    "    X_processed = []\n",
    "    y_processed = []\n",
    "    \n",
    "    if batch_preprocess_fn is None:\n",
    "        batch_preprocess_fn = lambda x : x\n",
    "    if batch_postprocess_fn is None:\n",
    "        batch_postprocess_fn = lambda x : x\n",
    "    dev = next(bijector.parameters()).device\n",
    "\n",
    "    for X, y in tqdm(data_loader):\n",
    "        with torch.no_grad():\n",
    "            X_in = batch_preprocess_fn(X).to(DEV)\n",
    "            X_out = bijector.inv(X_in).detach().cpu()\n",
    "\n",
    "            if not torch.all(torch.isfinite(X_out)):\n",
    "                # find the culprits\n",
    "                idx = torch.logical_not(torch.isfinite(X_out))\n",
    "                idx = np.unique(np.where(idx)[0])\n",
    "                warnings.warn(f\"Replacing {len(idx)} erroneous sample(s) with other data during bijector data transformation.\", RuntimeWarning)\n",
    "                # then replace the erronous values and try again\n",
    "                X_out[idx, :] = bijector.inv(prev_X_in[idx, :]).detach().cpu()\n",
    "\n",
    "                # check if fixed after max number of iters or less\n",
    "                if not torch.all(torch.isfinite(X_out)):\n",
    "                    raise ValueError(\"Failed to remove non-finite values\")\n",
    "            # save working input to replace erroneous ones\n",
    "            prev_X_in = X_in\n",
    "\n",
    "        X = batch_postprocess_fn(X, X_out)\n",
    "        # save\n",
    "        X_processed.append(X)\n",
    "        y_processed.append(y)\n",
    "    return np.concatenate(X_processed, axis=0), np.concatenate(y_processed, axis=0)"
   ]
  },
  {
   "cell_type": "markdown",
   "id": "3bce63b5-ce4c-49ee-96d0-a75a94d3e7c9",
   "metadata": {
    "jp-MarkdownHeadingCollapsed": true,
    "tags": []
   },
   "source": [
    "## Simple normalizing flow example"
   ]
  },
  {
   "cell_type": "markdown",
   "id": "63134dd6-e8b9-4c97-93a5-3dbc3e52f856",
   "metadata": {},
   "source": [
    "`T.ExpTransform()` implements $g(x)=\\exp(x)$, for which $\\log\\left(\\left| \\frac{dg}{dx}\\right|\\right)=x$. We can pass in a list of transformations to the below method, and a base distribution e.g. `dist.Normal` object. The transformations are applied from left to right when going forwards"
   ]
  },
  {
   "cell_type": "code",
   "execution_count": 11,
   "id": "c3aa34fb-485b-469a-8a02-c99b7b0ca2c5",
   "metadata": {
    "tags": []
   },
   "outputs": [
    {
     "data": {
      "text/plain": [
       "\u001b[0;31mInit signature:\u001b[0m\n",
       "\u001b[0mdist\u001b[0m\u001b[0;34m.\u001b[0m\u001b[0mTransformedDistribution\u001b[0m\u001b[0;34m(\u001b[0m\u001b[0;34m\u001b[0m\n",
       "\u001b[0;34m\u001b[0m    \u001b[0mbase_distribution\u001b[0m\u001b[0;34m,\u001b[0m\u001b[0;34m\u001b[0m\n",
       "\u001b[0;34m\u001b[0m    \u001b[0mtransforms\u001b[0m\u001b[0;34m,\u001b[0m\u001b[0;34m\u001b[0m\n",
       "\u001b[0;34m\u001b[0m    \u001b[0mvalidate_args\u001b[0m\u001b[0;34m=\u001b[0m\u001b[0;32mNone\u001b[0m\u001b[0;34m,\u001b[0m\u001b[0;34m\u001b[0m\n",
       "\u001b[0;34m\u001b[0m\u001b[0;34m)\u001b[0m\u001b[0;34m\u001b[0m\u001b[0;34m\u001b[0m\u001b[0m\n",
       "\u001b[0;31mDocstring:\u001b[0m     \n",
       "Wraps :class:`torch.distributions.transformed_distribution.TransformedDistribution` with\n",
       ":class:`~pyro.distributions.torch_distribution.TorchDistributionMixin`.\n",
       "\u001b[0;31mFile:\u001b[0m           ~/anaconda3/envs/cudf-torch/lib/python3.10/site-packages/pyro/distributions/torch.py\n",
       "\u001b[0;31mType:\u001b[0m           DistributionMeta\n",
       "\u001b[0;31mSubclasses:\u001b[0m     AffineBeta, FoldedDistribution, InverseGamma, LKJ"
      ]
     },
     "metadata": {},
     "output_type": "display_data"
    }
   ],
   "source": [
    "?dist.TransformedDistribution"
   ]
  },
  {
   "cell_type": "markdown",
   "id": "b8ca0e88-4d2c-40c2-ab8f-c7bd34651c8b",
   "metadata": {},
   "source": [
    "`T.AffineTransform` does a linear shift and scale"
   ]
  },
  {
   "cell_type": "markdown",
   "id": "4f3cd278-3253-49b6-8e54-8c88774ef2c8",
   "metadata": {},
   "source": [
    "Learnable transformations should inherit from `dist.torch_transform.TransformModule`, not the `T` verison, which is only for fixed parameters. However, this is just child of both `T.Transform` and `nn.modules.module.Module`."
   ]
  },
  {
   "cell_type": "code",
   "execution_count": 90,
   "id": "982b688c-d406-4ba7-bccc-6dc2d0f6ce03",
   "metadata": {
    "tags": []
   },
   "outputs": [
    {
     "data": {
      "text/plain": [
       "1"
      ]
     },
     "execution_count": 90,
     "metadata": {},
     "output_type": "execute_result"
    }
   ],
   "source": [
    "DEV = torch.device('cuda', 5)\n",
    "\n",
    "half = (11, 91)\n",
    "#half = (91, 188)\n",
    "input_dim = half[1] - half[0]\n",
    "\n",
    "base_dist = dist.Normal(torch.zeros(input_dim, device=DEV), torch.ones(input_dim, device=DEV))\n",
    "bijector = get_iaf_bijector(2, [100], input_dim, DEV).to(DEV)\n",
    "batch_preprocess_fn = lambda x : x.flatten(0, 1)[:, half[0]:half[1]]\n",
    "fit_bijector(bijector, base_dist, train_loader, batch_preprocess_fn=batch_preprocess_fn)"
   ]
  },
  {
   "cell_type": "code",
   "execution_count": 5,
   "id": "cae39a78-aac0-4eb9-a236-a67f30ec806d",
   "metadata": {
    "tags": []
   },
   "outputs": [],
   "source": [
    "torch.save(bijector.state_dict(), os.path.join(cfg['checkpoint_directory'], \"bijector-model-12-07-2023-first-half\"))"
   ]
  },
  {
   "cell_type": "code",
   "execution_count": 45,
   "id": "640078d8-e0e2-4d8f-beae-d7d983882c38",
   "metadata": {
    "tags": []
   },
   "outputs": [
    {
     "data": {
      "text/plain": [
       "<All keys matched successfully>"
      ]
     },
     "execution_count": 45,
     "metadata": {},
     "output_type": "execute_result"
    }
   ],
   "source": [
    "bijector.load_state_dict(torch.load(os.path.join(cfg['checkpoint_directory'], \"bijector-model-12-07-2023-first-half\")))"
   ]
  },
  {
   "cell_type": "markdown",
   "id": "3cee80fe-4097-40c1-9711-b3e2e255d346",
   "metadata": {},
   "source": [
    "Somehow just one lazy initialisation of the bijector uses up 18 GB of GPU memory, so trick is to save model state after training, then apply transformation using CPU perhaps?"
   ]
  },
  {
   "cell_type": "code",
   "execution_count": 7,
   "id": "2ed08611-99cf-42cb-b76e-c0474e596e5f",
   "metadata": {
    "tags": []
   },
   "outputs": [],
   "source": [
    "out = bijector.inv(torch.tensor(X).flatten(0, 1).to(DEV))"
   ]
  },
  {
   "cell_type": "code",
   "execution_count": 10,
   "id": "c030c0d8-5354-4e76-aa10-a7848ad952fc",
   "metadata": {
    "tags": []
   },
   "outputs": [],
   "source": [
    "out = out.detach().cpu().numpy()\n",
    "X = X.reshape((-1, input_dim))"
   ]
  },
  {
   "cell_type": "markdown",
   "id": "f299fd82-ede2-49aa-9897-5d505a43758e",
   "metadata": {},
   "source": [
    "The below plots are misleading due to the random permutations..."
   ]
  },
  {
   "cell_type": "code",
   "execution_count": 11,
   "id": "f2905458-56ca-4378-b225-2d978fce8874",
   "metadata": {
    "tags": []
   },
   "outputs": [
    {
     "data": {
      "image/png": "[encoded data removed]",
      "text/plain": [
       "<Figure size 1400x700 with 2 Axes>"
      ]
     },
     "metadata": {},
     "output_type": "display_data"
    }
   ],
   "source": [
    "fig, axs = plt.subplots(ncols=2, figsize=(14, 7))\n",
    "axs[0].hist(X[:, 13], bins=60, density=True)\n",
    "axs[1].hist(out[:, 13], bins=60, density=True)\n",
    "plt.show()"
   ]
  },
  {
   "cell_type": "code",
   "execution_count": 12,
   "id": "e3ff5f71-81f1-49d2-8ff0-143b17ab7870",
   "metadata": {
    "tags": []
   },
   "outputs": [
    {
     "data": {
      "image/png": "[encoded data removed]",
      "text/plain": [
       "<Figure size 1400x700 with 2 Axes>"
      ]
     },
     "metadata": {},
     "output_type": "display_data"
    }
   ],
   "source": [
    "fig, axs = plt.subplots(ncols=2, figsize=(14, 7))\n",
    "axs[0].hist(X[:,   25], bins=60, density=True)\n",
    "axs[1].hist(out[:, 25], bins=60, density=True)\n",
    "plt.show()"
   ]
  },
  {
   "cell_type": "code",
   "execution_count": 13,
   "id": "3458ebba-3385-4422-8b35-89226174e8ff",
   "metadata": {
    "tags": []
   },
   "outputs": [
    {
     "data": {
      "image/png": "[encoded data removed]",
      "text/plain": [
       "<Figure size 1400x700 with 2 Axes>"
      ]
     },
     "metadata": {},
     "output_type": "display_data"
    }
   ],
   "source": [
    "fig, axs = plt.subplots(ncols=2, figsize=(14, 7))\n",
    "axs[0].hist(X[:,   70], bins=60, density=True)\n",
    "axs[1].hist(out[:, 70], bins=60, density=True)\n",
    "plt.show()"
   ]
  },
  {
   "cell_type": "code",
   "execution_count": 14,
   "id": "c4709b90-3015-4cf3-8fdd-337aa50e1dd9",
   "metadata": {
    "tags": []
   },
   "outputs": [
    {
     "data": {
      "image/png": "[encoded data removed]",
      "text/plain": [
       "<Figure size 1400x700 with 2 Axes>"
      ]
     },
     "metadata": {},
     "output_type": "display_data"
    }
   ],
   "source": [
    "fig, axs = plt.subplots(ncols=2, figsize=(14, 7))\n",
    "axs[0].hist(X[:,   29], bins=60, density=True)\n",
    "axs[1].hist(out[:, 29], bins=60, density=True)\n",
    "plt.show()"
   ]
  },
  {
   "cell_type": "code",
   "execution_count": 25,
   "id": "b8c8a35f-d68f-4759-b58e-d0b17ed40e57",
   "metadata": {
    "tags": []
   },
   "outputs": [
    {
     "data": {
      "image/png": "[encoded data removed]",
      "text/plain": [
       "<Figure size 1400x700 with 2 Axes>"
      ]
     },
     "metadata": {},
     "output_type": "display_data"
    }
   ],
   "source": [
    "fig, axs = plt.subplots(ncols=2, figsize=(14, 7))\n",
    "axs[1].hist(torch.tensor(out).unflatten(0, (1024,  13)).numpy()[:, 7,  15], bins=60, density=True)\n",
    "axs[0].hist(X[:, 15], bins=60, density=True)\n",
    "plt.show()"
   ]
  },
  {
   "cell_type": "code",
   "execution_count": 5,
   "id": "d7891929-3f9e-428c-8930-7ba5f6cfea85",
   "metadata": {
    "tags": []
   },
   "outputs": [
    {
     "data": {
      "text/plain": [
       "'23174.0625 MB'"
      ]
     },
     "execution_count": 5,
     "metadata": {},
     "output_type": "execute_result"
    }
   ],
   "source": [
    "f\"{torch.cuda.mem_get_info(5)[0] / 1024 ** 2} MB\""
   ]
  },
  {
   "cell_type": "code",
   "execution_count": 64,
   "id": "7d667006-f2ca-45d4-b3a7-4bf80c5a1ef3",
   "metadata": {
    "tags": []
   },
   "outputs": [
    {
     "data": {
      "text/plain": [
       "tensor(True)"
      ]
     },
     "execution_count": 64,
     "metadata": {},
     "output_type": "execute_result"
    }
   ],
   "source": [
    "xin = X_in + 0.00 * torch.normal(torch.ones_like(X_in, device=DEV) * 0.5, torch.ones_like(X_in, device=DEV))\n",
    "                   \n",
    "torch.all(torch.isfinite(bijector.inv(xin).detach().cpu()))"
   ]
  },
  {
   "cell_type": "code",
   "execution_count": 58,
   "id": "106a79a7-6a58-4b8d-b4cf-fc66d7e9e2e1",
   "metadata": {
    "tags": []
   },
   "outputs": [
    {
     "data": {
      "text/plain": [
       "tensor(True)"
      ]
     },
     "execution_count": 58,
     "metadata": {},
     "output_type": "execute_result"
    }
   ],
   "source": [
    "torch.all(torch.isfinite(bijector.inv(torch.tensor(X).flatten(0, 1).to(DEV)).detach().cpu()))"
   ]
  },
  {
   "cell_type": "code",
   "execution_count": 13,
   "id": "dfef6395-994c-4774-aac8-dfd3e5ad6d21",
   "metadata": {
    "tags": []
   },
   "outputs": [
    {
     "data": {
      "application/vnd.jupyter.widget-view+json": {
       "model_id": "e76c30dd011341fabba9971306191433",
       "version_major": 2,
       "version_minor": 0
      },
      "text/plain": [
       "  0%|          | 0/90 [00:00<?, ?it/s]"
      ]
     },
     "metadata": {},
     "output_type": "display_data"
    }
   ],
   "source": [
    "X_processed = []\n",
    "y_processed = []\n",
    "\n",
    "for X, y in tqdm(val_loader):\n",
    "    with torch.no_grad():\n",
    "        X_in = X[:, :, half[0]:half[1]].flatten(0, 1).to(DEV)\n",
    "        # X_out = bijector.inv(X_in).detach().cpu()\n",
    "        X_out = X[:, :, :11].flatten(0, 1).detach().cpu()\n",
    "        \n",
    "        if not torch.all(torch.isfinite(X_out)):\n",
    "            # find the culprits\n",
    "            idx = torch.logical_not(torch.isfinite(X_out))\n",
    "            idx = np.unique(np.where(idx)[0])\n",
    "            print(f\"Replacing {len(idx)} erroneous sample(s) with other data.\")\n",
    "            # then replace the erronous values and try again\n",
    "            X_out[idx, :] = bijector.inv(prev_X_in[idx, :]).detach().cpu()\n",
    "            \n",
    "            # check if fixed after max number of iters or less\n",
    "            if not torch.all(torch.isfinite(X_out)):\n",
    "                raise ValueError(\"Failed to avoid non-finite values\")\n",
    "        # save working input to replace erroneous ones\n",
    "        prev_X_in = X_in\n",
    "                \n",
    "    X = X_out.unflatten(0, (X.shape[0], X.shape[1])).numpy()\n",
    "    #X = np.concatenate((X[:, :, :11], X_out.numpy()), 2)\n",
    "    X_processed.append(X)\n",
    "    y_processed.append(y)    "
   ]
  },
  {
   "cell_type": "code",
   "execution_count": 7,
   "id": "099ab74e-729a-4f02-a27d-68f1ff8a28d2",
   "metadata": {
    "tags": []
   },
   "outputs": [
    {
     "data": {
      "text/plain": [
       "((367131, 13, 11), (367131,))"
      ]
     },
     "execution_count": 7,
     "metadata": {},
     "output_type": "execute_result"
    }
   ],
   "source": [
    "X_train_first_half = np.concatenate(X_processed, axis=0)\n",
    "y_train_first_half = np.concatenate(y_processed, axis=0)\n",
    "X_train_first_half.shape, y_train_first_half.shape"
   ]
  },
  {
   "cell_type": "code",
   "execution_count": 14,
   "id": "fc1846a4-2b13-409d-b4ff-6d3b43ccc15f",
   "metadata": {
    "tags": []
   },
   "outputs": [
    {
     "data": {
      "text/plain": [
       "((91782, 13, 11), (91782,))"
      ]
     },
     "execution_count": 14,
     "metadata": {},
     "output_type": "execute_result"
    }
   ],
   "source": [
    "X_val_first_half = np.concatenate(X_processed, axis=0)\n",
    "y_val_first_half = np.concatenate(y_processed, axis=0)\n",
    "X_val_first_half.shape, y_val_first_half.shape"
   ]
  },
  {
   "cell_type": "code",
   "execution_count": 41,
   "id": "1a8cc92c-dd58-40bc-8489-7e5effa37123",
   "metadata": {
    "tags": []
   },
   "outputs": [
    {
     "data": {
      "text/plain": [
       "((367131, 13, 97), (367131,))"
      ]
     },
     "execution_count": 41,
     "metadata": {},
     "output_type": "execute_result"
    }
   ],
   "source": [
    "X_train_second_half = np.concatenate(X_processed, axis=0)\n",
    "y_train_second_half = np.concatenate(y_processed, axis=0)\n",
    "X_train_second_half.shape, y_train_second_half.shape"
   ]
  },
  {
   "cell_type": "code",
   "execution_count": 43,
   "id": "c251e9d0-fef3-4504-8e59-f5d9e1d0edb3",
   "metadata": {
    "tags": []
   },
   "outputs": [
    {
     "data": {
      "text/plain": [
       "((91782, 13, 97), (91782,))"
      ]
     },
     "execution_count": 43,
     "metadata": {},
     "output_type": "execute_result"
    }
   ],
   "source": [
    "X_val_second_half = np.concatenate(X_processed, axis=0)\n",
    "y_val_second_half = np.concatenate(y_processed, axis=0)\n",
    "X_val_second_half.shape, y_val_second_half.shape"
   ]
  },
  {
   "cell_type": "code",
   "execution_count": 9,
   "id": "6761401a-412a-4fb0-a208-7059848edd39",
   "metadata": {
    "tags": []
   },
   "outputs": [
    {
     "data": {
      "text/plain": [
       "1.0"
      ]
     },
     "execution_count": 9,
     "metadata": {},
     "output_type": "execute_result"
    }
   ],
   "source": [
    "np.mean(y_train_first_half == np.load(os.path.join(cfg['dataset_directory'], 'transformed', f\"RealNVP-2-y_train.npy\")))"
   ]
  },
  {
   "cell_type": "code",
   "execution_count": 11,
   "id": "56303db3-c324-4d38-a12f-e1f8baedab81",
   "metadata": {
    "tags": []
   },
   "outputs": [
    {
     "data": {
      "text/plain": [
       "(367131, 13, 188)"
      ]
     },
     "execution_count": 11,
     "metadata": {},
     "output_type": "execute_result"
    }
   ],
   "source": [
    ".shape"
   ]
  },
  {
   "cell_type": "code",
   "execution_count": 12,
   "id": "f5891d1e-1b3f-4ac1-9b7b-6edd925feefa",
   "metadata": {
    "tags": []
   },
   "outputs": [],
   "source": [
    "np.save(os.path.join(cfg['dataset_directory'], 'transformed', f\"RealNVP-3-X_train.npy\"), np.concatenate((X_train_first_half, np.load(os.path.join(cfg['dataset_directory'], 'transformed', f\"RealNVP-2-X_train.npy\"))), axis=2))"
   ]
  },
  {
   "cell_type": "code",
   "execution_count": 15,
   "id": "c9345cd5-4847-4fdb-af4c-237dbc0b4653",
   "metadata": {
    "tags": []
   },
   "outputs": [],
   "source": [
    "np.save(os.path.join(cfg['dataset_directory'], 'transformed', f\"RealNVP-3-X_val.npy\"), np.concatenate((X_val_first_half, np.load(os.path.join(cfg['dataset_directory'], 'transformed', f\"RealNVP-2-X_val.npy\"))), axis=2))"
   ]
  },
  {
   "cell_type": "code",
   "execution_count": 55,
   "id": "174c631d-9511-4aee-ad04-718aaff94dc1",
   "metadata": {
    "tags": []
   },
   "outputs": [],
   "source": [
    "np.save(os.path.join(cfg['dataset_directory'], 'transformed', f\"RealNVP-2-y_val.npy\"), y_val_first_half)"
   ]
  },
  {
   "cell_type": "code",
   "execution_count": 56,
   "id": "412c09fe-7078-4e17-947f-4af6a4fa256f",
   "metadata": {
    "tags": []
   },
   "outputs": [],
   "source": [
    "np.save(os.path.join(cfg['dataset_directory'], 'transformed', f\"RealNVP-2-y_train.npy\"), y_train_first_half)"
   ]
  },
  {
   "cell_type": "code",
   "execution_count": 62,
   "id": "5de8b44e-cbcb-40eb-8301-25e302d2b64b",
   "metadata": {
    "tags": []
   },
   "outputs": [],
   "source": [
    "temp = np.load(os.path.join(cfg['dataset_directory'], 'transformed', f\"RealNVP-1-X_train.npy\"))"
   ]
  },
  {
   "cell_type": "code",
   "execution_count": 25,
   "id": "794660b2-653d-40cf-94c2-477a41bf4920",
   "metadata": {
    "tags": []
   },
   "outputs": [
    {
     "data": {
      "text/plain": [
       "tensor([ 0,  1,  2,  3,  4,  5,  6,  7,  8,  9, 10, 11, 12, 13, 14, 15, 16, 17,\n",
       "        18, 19])"
      ]
     },
     "execution_count": 25,
     "metadata": {},
     "output_type": "execute_result"
    }
   ],
   "source": [
    "temp = torch.randperm(20)\n",
    "inv_temp = torch.empty_like(temp)\n",
    "inv_temp[temp] = torch.arange(20)\n",
    "torch.arange(0, 20)[temp][inv_temp]"
   ]
  },
  {
   "cell_type": "code",
   "execution_count": 35,
   "id": "9b2613e7-fa44-49d8-b96e-cafa994d2ccd",
   "metadata": {
    "tags": []
   },
   "outputs": [
    {
     "name": "stdout",
     "output_type": "stream",
     "text": [
      "0\n",
      "3\n",
      "5\n",
      "10\n",
      "12\n",
      "14\n",
      "15\n",
      "17\n",
      "20\n",
      "22\n",
      "24\n",
      "25\n",
      "28\n",
      "32\n",
      "35\n",
      "36\n",
      "37\n",
      "38\n",
      "39\n",
      "47\n",
      "48\n",
      "50\n",
      "51\n",
      "53\n",
      "55\n",
      "56\n",
      "60\n",
      "64\n",
      "66\n",
      "67\n",
      "68\n",
      "70\n",
      "75\n",
      "77\n",
      "78\n"
     ]
    }
   ],
   "source": [
    "temp_out = bijector.inv(temp)\n",
    "for i in range(80):\n",
    "    if not torch.all(torch.isfinite(temp_out[:, i])):\n",
    "        print(i)"
   ]
  },
  {
   "cell_type": "code",
   "execution_count": null,
   "id": "85006077-6fc4-4997-811d-662861cc4043",
   "metadata": {},
   "outputs": [],
   "source": []
  },
  {
   "cell_type": "code",
   "execution_count": 39,
   "id": "3b26086f-f953-4cae-ad59-1f56901af3f2",
   "metadata": {
    "tags": []
   },
   "outputs": [
    {
     "data": {
      "image/png": "[encoded data removed]",
      "text/plain": [
       "<Figure size 640x480 with 1 Axes>"
      ]
     },
     "metadata": {},
     "output_type": "display_data"
    }
   ],
   "source": [
    "plt.hist(temp_out[:, 0].detach().cpu().numpy(), bins=100)\n",
    "plt.show()"
   ]
  },
  {
   "cell_type": "code",
   "execution_count": 42,
   "id": "ed2a2fd6-79d1-4c58-96be-7bbc2f705383",
   "metadata": {
    "tags": []
   },
   "outputs": [
    {
     "data": {
      "image/png": "[encoded data removed]",
      "text/plain": [
       "<Figure size 640x480 with 1 Axes>"
      ]
     },
     "metadata": {},
     "output_type": "display_data"
    }
   ],
   "source": [
    "plt.hist(temp[:, 0].detach().cpu().numpy(), bins=100)\n",
    "plt.show()"
   ]
  },
  {
   "cell_type": "code",
   "execution_count": 53,
   "id": "37d6b1fd-4fec-461f-8d55-fa74bb77cdfa",
   "metadata": {
    "tags": []
   },
   "outputs": [
    {
     "ename": "RuntimeError",
     "evalue": "CUDA error: device-side assert triggered\nCUDA kernel errors might be asynchronously reported at some other API call, so the stacktrace below might be incorrect.\nFor debugging consider passing CUDA_LAUNCH_BLOCKING=1.\nCompile with `TORCH_USE_CUDA_DSA` to enable device-side assertions.\n",
     "output_type": "error",
     "traceback": [
      "\u001b[0;31m---------------------------------------------------------------------------\u001b[0m",
      "\u001b[0;31mRuntimeError\u001b[0m                              Traceback (most recent call last)",
      "Cell \u001b[0;32mIn[53], line 1\u001b[0m\n\u001b[0;32m----> 1\u001b[0m temp[np\u001b[38;5;241m.\u001b[39mwhere(\u001b[38;5;241m~\u001b[39m\u001b[43mtorch\u001b[49m\u001b[38;5;241;43m.\u001b[39;49m\u001b[43misfinite\u001b[49m\u001b[43m(\u001b[49m\u001b[43mtemp_out\u001b[49m\u001b[43m[\u001b[49m\u001b[43m:\u001b[49m\u001b[43m,\u001b[49m\u001b[43m \u001b[49m\u001b[38;5;241;43m0\u001b[39;49m\u001b[43m]\u001b[49m\u001b[43m)\u001b[49m\u001b[38;5;241m.\u001b[39mcpu())[\u001b[38;5;241m0\u001b[39m], :]\n",
      "\u001b[0;31mRuntimeError\u001b[0m: CUDA error: device-side assert triggered\nCUDA kernel errors might be asynchronously reported at some other API call, so the stacktrace below might be incorrect.\nFor debugging consider passing CUDA_LAUNCH_BLOCKING=1.\nCompile with `TORCH_USE_CUDA_DSA` to enable device-side assertions.\n"
     ]
    }
   ],
   "source": [
    "temp[np.where(~torch.isfinite(temp_out[:, 0]).cpu())[0], :]"
   ]
  },
  {
   "cell_type": "code",
   "execution_count": 52,
   "id": "4331000a-7dfb-4438-b2e8-e9441aedda5d",
   "metadata": {
    "tags": []
   },
   "outputs": [
    {
     "ename": "RuntimeError",
     "evalue": "CUDA error: device-side assert triggered\nCUDA kernel errors might be asynchronously reported at some other API call, so the stacktrace below might be incorrect.\nFor debugging consider passing CUDA_LAUNCH_BLOCKING=1.\nCompile with `TORCH_USE_CUDA_DSA` to enable device-side assertions.\n",
     "output_type": "error",
     "traceback": [
      "\u001b[0;31m---------------------------------------------------------------------------\u001b[0m",
      "\u001b[0;31mRuntimeError\u001b[0m                              Traceback (most recent call last)",
      "Cell \u001b[0;32mIn[52], line 1\u001b[0m\n\u001b[0;32m----> 1\u001b[0m bijector\u001b[38;5;241m.\u001b[39minv(temp[np\u001b[38;5;241m.\u001b[39mwhere(\u001b[38;5;241m~\u001b[39m\u001b[43mtorch\u001b[49m\u001b[38;5;241;43m.\u001b[39;49m\u001b[43misfinite\u001b[49m\u001b[43m(\u001b[49m\u001b[43mtemp_out\u001b[49m\u001b[43m[\u001b[49m\u001b[43m:\u001b[49m\u001b[43m,\u001b[49m\u001b[43m \u001b[49m\u001b[38;5;241;43m0\u001b[39;49m\u001b[43m]\u001b[49m\u001b[43m)\u001b[49m\u001b[38;5;241m.\u001b[39mcpu())[\u001b[38;5;241m0\u001b[39m], \u001b[38;5;241m0\u001b[39m])\n",
      "\u001b[0;31mRuntimeError\u001b[0m: CUDA error: device-side assert triggered\nCUDA kernel errors might be asynchronously reported at some other API call, so the stacktrace below might be incorrect.\nFor debugging consider passing CUDA_LAUNCH_BLOCKING=1.\nCompile with `TORCH_USE_CUDA_DSA` to enable device-side assertions.\n"
     ]
    }
   ],
   "source": [
    "bijector.inv(temp[np.where(~torch.isfinite(temp_out[:, 0]).cpu())[0], 0])"
   ]
  },
  {
   "cell_type": "code",
   "execution_count": null,
   "id": "14670997-561a-453b-8b89-9588dc0c435b",
   "metadata": {},
   "outputs": [],
   "source": []
  },
  {
   "cell_type": "markdown",
   "id": "fa552a93-6ac0-44cf-961b-38b136fb682b",
   "metadata": {
    "jp-MarkdownHeadingCollapsed": true,
    "tags": []
   },
   "source": [
    "## Training model on RealNVP-transformed data"
   ]
  },
  {
   "cell_type": "code",
   "execution_count": null,
   "id": "abb0cac5-7511-446d-90df-b3bf448ac690",
   "metadata": {},
   "outputs": [],
   "source": []
  },
  {
   "cell_type": "markdown",
   "id": "f5b98140-e5c4-4dd6-bd88-3baa6daf6c7f",
   "metadata": {},
   "source": [
    "Step 1: Load the data"
   ]
  },
  {
   "cell_type": "code",
   "execution_count": 10,
   "id": "e0c0cf4f-33ec-4838-92cd-86438f1a5caf",
   "metadata": {
    "tags": []
   },
   "outputs": [],
   "source": [
    "X_train = np.load(os.path.join(cfg['dataset_directory'], 'transformed', f\"RealNVP-3-X_train.npy\"))\n",
    "y_train = np.load(os.path.join(cfg['dataset_directory'], 'transformed', f\"RealNVP-2-y_train.npy\"))\n",
    "X_val = np.load(os.path.join(cfg['dataset_directory'], 'transformed', f\"RealNVP-3-X_val.npy\"))\n",
    "y_val = np.load(os.path.join(cfg['dataset_directory'], 'transformed', f\"RealNVP-2-y_val.npy\"))\n",
    "\n",
    "#preprocess = StandardScalerTimeSeries()\n",
    "#X_train[:, :, 11:] = preprocess.fit_transform(X_train[:, :, 11:], y_train)\n",
    "#X_val[:, :, 11:] = preprocess.transform(X_val[:, :, 11:])\n",
    "\n",
    "data_loader_kwargs = {\n",
    "    'batch_size' : 1024,\n",
    "    'shuffle' : False,\n",
    "    'drop_last' : False,\n",
    "}\n",
    "\n",
    "train_loader = torch.utils.data.DataLoader(\n",
    "    dataset = torch.utils.data.TensorDataset(\n",
    "        torch.from_numpy(X_train).type(torch.float32),\n",
    "        torch.from_numpy(y_train).type(torch.float32)\n",
    "    ), **data_loader_kwargs)\n",
    "\n",
    "val_loader = torch.utils.data.DataLoader(\n",
    "    dataset = torch.utils.data.TensorDataset(\n",
    "        torch.from_numpy(X_val).type(torch.float32),\n",
    "        torch.from_numpy(y_val).type(torch.float32)\n",
    "    ), **data_loader_kwargs)"
   ]
  },
  {
   "cell_type": "code",
   "execution_count": 11,
   "id": "3c5f7439-0499-4f45-92cf-3085b3790374",
   "metadata": {
    "tags": []
   },
   "outputs": [],
   "source": [
    "from src.models.basic_grunet import GRUNetBasic\n",
    "\n",
    "loss_fn = F.binary_cross_entropy\n",
    "model = GRUNetBasic(188, 128, 2, 4)\n",
    "optimizer = torch.optim.Adam(model.parameters(), lr=1e-3)\n",
    "scheduler = torch.optim.lr_scheduler.MultiStepLR(optimizer, milestones=[3, 5], gamma=0.1)\n",
    "early_stopper = experimentation.EarlyStopper(patience=10)"
   ]
  },
  {
   "cell_type": "code",
   "execution_count": 12,
   "id": "ea7342d7-45fe-42dc-86ff-223902d5ade5",
   "metadata": {
    "tags": []
   },
   "outputs": [
    {
     "name": "stdout",
     "output_type": "stream",
     "text": [
      "Using device = cuda:4\n"
     ]
    },
    {
     "data": {
      "application/vnd.jupyter.widget-view+json": {
       "model_id": "477151e0dcae41f19f975276cbc69454",
       "version_major": 2,
       "version_minor": 0
      },
      "text/plain": [
       "  0%|          | 0/50 [00:00<?, ?it/s]"
      ]
     },
     "metadata": {},
     "output_type": "display_data"
    }
   ],
   "source": [
    "hist = experimentation.fit_model(model, loss_fn, train_loader, val_loader, optimizer, scheduler, num_epochs=50, early_stopper=early_stopper, device_ids=[4], verbose=False)"
   ]
  },
  {
   "cell_type": "code",
   "execution_count": 15,
   "id": "5d2c60a8-c899-41ae-bda0-f02b58e97616",
   "metadata": {},
   "outputs": [],
   "source": [
    "np.save(os.path.join(cfg['experiment_directory'], 'normalizing_flow_small_history.npy'), hist)"
   ]
  },
  {
   "cell_type": "code",
   "execution_count": 17,
   "id": "3815267a-2432-4dd1-8043-a0bca87e72f2",
   "metadata": {
    "tags": []
   },
   "outputs": [
    {
     "data": {
      "text/plain": [
       "0.2249893479877048"
      ]
     },
     "execution_count": 17,
     "metadata": {},
     "output_type": "execute_result"
    }
   ],
   "source": [
    "np.min(hist['val_loss'])"
   ]
  },
  {
   "cell_type": "code",
   "execution_count": 18,
   "id": "dc63696a-7c9f-40c4-a749-334d9e4ce42e",
   "metadata": {
    "tags": []
   },
   "outputs": [
    {
     "data": {
      "text/plain": [
       "0.7698227349840046"
      ]
     },
     "execution_count": 18,
     "metadata": {},
     "output_type": "execute_result"
    }
   ],
   "source": [
    "np.min(hist['val_amex_metric'])"
   ]
  },
  {
   "cell_type": "code",
   "execution_count": 8,
   "id": "e34ffaa5-296c-4671-86bf-956566fceace",
   "metadata": {
    "tags": []
   },
   "outputs": [
    {
     "data": {
      "text/plain": [
       "(array([0.22735007, 0.22445291, 0.2232345 , 0.22275956, 0.22212165,\n",
       "        0.22215124, 0.22211825, 0.22168321, 0.22161712, 0.22160993,\n",
       "        0.22161777, 0.22164823, 0.22166345, 0.22165659, 0.22168927]),\n",
       " array([0.77734793, 0.78128873, 0.78234227, 0.78462958, 0.78609896,\n",
       "        0.78606435, 0.78632146, 0.78674466, 0.78688495, 0.78658075,\n",
       "        0.78653513, 0.7865156 , 0.78651322, 0.78641881, 0.78657073]))"
      ]
     },
     "execution_count": 8,
     "metadata": {},
     "output_type": "execute_result"
    }
   ],
   "source": [
    "standard_scaling = np.load(os.path.join(cfg['experiment_directory'], 'standard-scaling-history-50-epochs.npy'), allow_pickle=True).item()\n",
    "standard_scaling['val_loss'][0], standard_scaling['val_amex_metric'][0]"
   ]
  },
  {
   "cell_type": "markdown",
   "id": "8bfdbdcc-02c9-4bf0-9347-b4d6660222e1",
   "metadata": {
    "tags": []
   },
   "source": [
    "## Adaptive preprocessing layer as bijector"
   ]
  },
  {
   "cell_type": "code",
   "execution_count": 206,
   "id": "2fc099db-142f-457d-b7c1-c05e4d24149b",
   "metadata": {
    "tags": []
   },
   "outputs": [],
   "source": [
    "class AdaptiveScale(dist.torch_transform.TransformModule):\n",
    "    \"\"\"\n",
    "    Todo\n",
    "    \"\"\"\n",
    "    \n",
    "    # setup params\n",
    "    domain = dist.transforms.constraints.real_vector # or just real?\n",
    "    codomain = dist.transforms.constraints.real_vector\n",
    "    bijective = True\n",
    "    \n",
    "    def __init__(self, input_dim, init_sigma=0.1):\n",
    "        super(AdaptiveScale, self).__init__(cache_size=1)\n",
    "        \n",
    "        self.input_dim = input_dim\n",
    "        # learned standard deviation should be positive\n",
    "        self.log_scale = nn.Parameter(\n",
    "            torch.randn(self.input_dim) * init_sigma\n",
    "        )\n",
    "    \n",
    "    def _params(self):\n",
    "        # s = torch.exp(self.log_scale)\n",
    "        return self.log_scale\n",
    "    \n",
    "    def _call(self, x):\n",
    "        # apply scale\n",
    "        return x * torch.exp(self.log_scale)\n",
    "    \n",
    "    def _inverse(self, y):\n",
    "        x = y * torch.exp(-self.log_scale)\n",
    "        return x\n",
    "    \n",
    "    def log_abs_det_jacobian(self, x, y):\n",
    "        \"\"\"\n",
    "        Calculates the elementwise determinant of the log Jacobian\n",
    "        \"\"\"\n",
    "        return torch.sum(self.log_scale)\n",
    "    \n",
    "    def _inverse_log_abs_det_jacobian(self, x, y):\n",
    "        return torch.sum(-self.log_scale)\n",
    "    \n",
    "class AdaptiveShift(dist.torch_transform.TransformModule):\n",
    "    \"\"\"\n",
    "    Todo\n",
    "    \"\"\"\n",
    "    \n",
    "    # setup params\n",
    "    domain = dist.transforms.constraints.real_vector # or just real?\n",
    "    codomain = dist.transforms.constraints.real_vector\n",
    "    bijective = True\n",
    "    \n",
    "    def __init__(self, input_dim, init_sigma=0.1):\n",
    "        super(AdaptiveShift, self).__init__(cache_size=1)\n",
    "        \n",
    "        self.input_dim = input_dim\n",
    "        # learned shift can be any real\n",
    "        self.shift = nn.Parameter(\n",
    "            torch.randn(self.input_dim) * init_sigma\n",
    "        )\n",
    "    \n",
    "    def _params(self):\n",
    "        # s = torch.exp(self.log_scale)\n",
    "        return self.shift\n",
    "    \n",
    "    def _call(self, x):\n",
    "        return x + self.shift\n",
    "    \n",
    "    def _inverse(self, y):\n",
    "        return y - self.shift\n",
    "    \n",
    "    def log_abs_det_jacobian(self, x, y):\n",
    "        \"\"\"\n",
    "        Calculates the elementwise determinant of the log Jacobian\n",
    "        \"\"\"\n",
    "        return torch.zeros(x.size(0), device=x.device, dtype=x.dtype)\n",
    "    \n",
    "    def _inverse_log_abs_det_jacobian(self, x, y):\n",
    "        return torch.zeros(x.size(0), device=x.device, dtype=x.dtype)\n",
    "    \n",
    "class AdaptiveOutlierRemoval(dist.torch_transform.TransformModule):\n",
    "    \"\"\"\n",
    "    Only invertible if residual_connection is set to False\n",
    "    \n",
    "    Performs the transformation:\n",
    "    \n",
    "       y = (1-a') * x + a' * b' * tanh(x / b')\n",
    "       \n",
    "    where a' in [0, 1] and b' > 0\n",
    "    \"\"\"\n",
    "    \n",
    "    # setup params\n",
    "    domain = dist.transforms.constraints.real_vector # or just real?\n",
    "    codomain = dist.transforms.constraints.real_vector\n",
    "    bijective = True\n",
    "    \n",
    "    def __init__(self, input_dim, residual_connection=True, init_sigma=0.1):\n",
    "        super(AdaptiveOutlierRemoval, self).__init__(cache_size=1)\n",
    "        \n",
    "        self.input_dim = input_dim\n",
    "        # learned b' in above equation should be positive\n",
    "        # TODO: why is this 1 and not 0, it becomes 1 if we start with 0 because of exp(.)\n",
    "        self.log_cutoff = nn.Parameter(\n",
    "            1. + torch.randn(self.input_dim) * init_sigma\n",
    "        )\n",
    "        # skip parameter, before applying sigmoid\n",
    "        self.alpha = None\n",
    "        if residual_connection:\n",
    "            self.alpha = nn.Parameter(\n",
    "                torch.randn(self.input_dim) * init_sigma\n",
    "            )\n",
    "    \n",
    "    def _params(self):\n",
    "        if self.alpha is None:\n",
    "            return self.log_cutoff\n",
    "        else:\n",
    "            return self.log_cutoff, self.alpha\n",
    "    \n",
    "    def _call(self, x):\n",
    "        \"\"\"\n",
    "        If residual connection:\n",
    "          (1-a') * x + a' * (b' * tanh(x / b'))\n",
    "        Otherwise:\n",
    "          b' * tanh(x / b')\n",
    "        \"\"\"\n",
    "        x_tanh = torch.exp(self.log_cutoff) * torch.tanh(x * torch.exp(-self.log_cutoff))\n",
    "        if self.alpha is not None:\n",
    "            y = (1. - torch.sigmoid(self.alpha)) * x + torch.sigmoid(self.alpha) * x_tanh\n",
    "        else:\n",
    "            y = x_tanh\n",
    "        return y\n",
    "    \n",
    "    def _inverse(self, y):\n",
    "        if self.alpha is not None:\n",
    "            raise NotImplementedError(\"There is not analytical expression for inverting adaptive outlier removal transformation when using a residual connection\")\n",
    "        x = torch.atanh(y * torch.exp(-self.log_cutoff)) * torch.exp(self.log_cutoff)\n",
    "        return x\n",
    "    \n",
    "    def log_abs_det_jacobian(self, x, y):\n",
    "        \"\"\"\n",
    "        References:\n",
    "          - https://github.com/tensorflow/probability/blob/main/tensorflow_probability/python/bijectors/tanh.py#L72-L83\n",
    "          \n",
    "        The below formula is equivalent to `torch.log1p(-torch.square(torch.tanh(x / b')))`, but is more numerically\n",
    "        stable. See references for proof.\n",
    "        \"\"\"\n",
    "        if self.alpha is not None:\n",
    "            raise NotImplementedError(\"There is not analytical expression for log abs det jacobian for the adaptive outlier removal transformation when using a residual connection\")\n",
    "        ladj = 2. * (np.log(2.) - x * torch.exp(-self.log_cutoff) - F.softplus(-2. * x * torch.exp(-self.log_cutoff)))\n",
    "        # determinant of diagonal matrix is just sum since we're taking logs\n",
    "        return torch.sum(ladj, axis=-1)\n",
    "    \n",
    "    def _inverse_log_abs_det_jacobian(self, x, y):\n",
    "        \"\"\"\n",
    "        This is a more numerically stable version of `-torch.log1p(-torch.square(y * b'))`, but still not that stable.\n",
    "        If possible, try to use the forward log abs det jacobian instead.\n",
    "        \"\"\"\n",
    "        if self.alpha is not None:\n",
    "            raise NotImplementedError(\"There is not analytical expression for inverse log abs det jacobian for the adaptive outlier removal transformation when using a residual connection\")\n",
    "        #  Derivation:\n",
    "        # ----------------------------------------\n",
    "        #    -log(|1-y'^2|)\n",
    "        #  = -log(|1-y'| * |1+y'|)\n",
    "        #  = -log(|1 - y'|) - log(|1 + y'|)\n",
    "        #  =    (part 1)   +    (part 2)\n",
    "        #\n",
    "        #  Part 1:\n",
    "        #    -log(|1 - y'|)\n",
    "        #  = (case 1: 1 < y')  -log(y' - 1)\n",
    "        #    (case 2: 1 > y')  -log1p(-y')\n",
    "        #\n",
    "        #  Part 2:\n",
    "        #    -log(|1 + y'|)\n",
    "        #  = (case 1: 1 + y' < 0)  -log(-y' - 1)\n",
    "        #    (case 2: 1 + y' > 0)  -log1p(y')\n",
    "        # (For cases where y' is numerically close to -1 or 1, clip gradient to 0 and don't apply log)\n",
    "        # TODO: use F.softplus(.) instead of exp for more linear growth???\n",
    "        y_prime = y * torch.exp(self.log_cutoff)\n",
    "        iladj = torch.zeros_like(y)\n",
    "        # Part 1: case 1\n",
    "        iladj[1. < y_prime] -= torch.log(y_prime[1. < y_prime] - 1.)\n",
    "        # Part 1: case 2\n",
    "        iladj[1. > y_prime] -= torch.log1p(-y_prime[1. > y_prime])\n",
    "        # Part 2: case 1\n",
    "        iladj[1. + y_prime < 0.] -= torch.log(-y_prime[1. + y_prime < 0.] - 1.)\n",
    "        # Part 2: case 2\n",
    "        iladj[1. + y_prime > 0.] -= torch.log1p(y_prime[1. + y_prime > 0.])\n",
    "        return torch.sum(iladj, axis=-1)\n",
    "        \n",
    "class InvertBijector(dist.torch_transform.TransformModule):\n",
    "    \n",
    "     # setup params\n",
    "    domain = dist.transforms.constraints.real_vector # or just real?\n",
    "    codomain = dist.transforms.constraints.real_vector\n",
    "    bijective = True\n",
    "    \n",
    "    def __init__(self, bijector):\n",
    "        super(InvertBijector, self).__init__()\n",
    "        self.bijector = bijector\n",
    "        # check if has implemented ildj\n",
    "        invert_op = getattr(self.bijector, \"_inverse_log_abs_det_jacobian\", None)\n",
    "        if not callable(invert_op):\n",
    "            raise ValueError(\"Provided bijector does not implement _inverse_log_abs_det_jacobian, so it cannot be inverted\")\n",
    "        \n",
    "    def _params(self):\n",
    "        return self.bijector._params()\n",
    "    \n",
    "    def _call(self, x):\n",
    "        return self.bijector.inv(x)\n",
    "    \n",
    "    def _inverse(self, y):\n",
    "        return self.bijector(y)\n",
    "    \n",
    "    def log_abs_det_jacobian(self, x, y):\n",
    "        # Should this be flipped or not ????\n",
    "        # TODO: look at log_prob impementation of:\n",
    "        # - https://pytorch.org/docs/master/_modules/torch/distributions/transformed_distribution.html#TransformedDistribution\n",
    "        return self.bijector._inverse_log_abs_det_jacobian(y, x)"
   ]
  },
  {
   "cell_type": "code",
   "execution_count": 208,
   "id": "7c993193-eee9-4b8e-bbe9-81b8fc603cef",
   "metadata": {
    "tags": []
   },
   "outputs": [],
   "source": [
    "input_dim = 177 * 13\n",
    "DEV = torch.device('cuda', 5)\n",
    "\n",
    "base_dist = dist.Normal(torch.zeros(input_dim, device=DEV), torch.ones(input_dim, device=DEV)).to_event(1)\n",
    "transform_list = [\n",
    "    InvertBijector(AdaptiveScale(input_dim)),\n",
    "    InvertBijector(AdaptiveShift(input_dim)),\n",
    "    InvertBijector(AdaptiveOutlierRemoval(input_dim, residual_connection=False)),\n",
    "]\n",
    "bijector = dist.torch_transform.ComposeTransformModule(transform_list).to(DEV)\n",
    "batch_preprocess_fn = lambda x : x[:, :, 11:].flatten(1, 2)\n",
    "optimizer = torch.optim.Adam([\n",
    "    {'params' : bijector[0].parameters()},\n",
    "    {'params' : bijector[1].parameters()},\n",
    "    {'params' : bijector[2].parameters(), 'lr' : 1e-6},\n",
    "], lr=1e-3)\n",
    "scheduler = torch.optim.lr_scheduler.MultiStepLR(optimizer, milestones=[4, 8], gamma=0.1)"
   ]
  },
  {
   "cell_type": "code",
   "execution_count": 209,
   "id": "749f523b-b96a-4de7-b9df-5c9d61e0a382",
   "metadata": {
    "tags": []
   },
   "outputs": [
    {
     "data": {
      "application/vnd.jupyter.widget-view+json": {
       "model_id": "53825760d86d444db95c5d7213b58cd8",
       "version_major": 2,
       "version_minor": 0
      },
      "text/plain": [
       "Fitting bijector:   0%|          | 0/20 [00:00<?, ?it/s]"
      ]
     },
     "metadata": {},
     "output_type": "display_data"
    },
    {
     "data": {
      "application/vnd.jupyter.widget-view+json": {
       "model_id": "466036ff76cd46b4ab988b7ce9b0ae85",
       "version_major": 2,
       "version_minor": 0
      },
      "text/plain": [
       "  0%|          | 0/359 [00:00<?, ?it/s]"
      ]
     },
     "metadata": {},
     "output_type": "display_data"
    },
    {
     "data": {
      "application/vnd.jupyter.widget-view+json": {
       "model_id": "29678ac9d95b434b8c23b97b2b31d373",
       "version_major": 2,
       "version_minor": 0
      },
      "text/plain": [
       "  0%|          | 0/359 [00:00<?, ?it/s]"
      ]
     },
     "metadata": {},
     "output_type": "display_data"
    },
    {
     "data": {
      "application/vnd.jupyter.widget-view+json": {
       "model_id": "a83a9547756d41378c2373709197d2b8",
       "version_major": 2,
       "version_minor": 0
      },
      "text/plain": [
       "  0%|          | 0/359 [00:00<?, ?it/s]"
      ]
     },
     "metadata": {},
     "output_type": "display_data"
    },
    {
     "data": {
      "application/vnd.jupyter.widget-view+json": {
       "model_id": "ba440add6901417288c68e0867dea60f",
       "version_major": 2,
       "version_minor": 0
      },
      "text/plain": [
       "  0%|          | 0/359 [00:00<?, ?it/s]"
      ]
     },
     "metadata": {},
     "output_type": "display_data"
    },
    {
     "data": {
      "application/vnd.jupyter.widget-view+json": {
       "model_id": "a16190473f3e47fabb8e450624d539df",
       "version_major": 2,
       "version_minor": 0
      },
      "text/plain": [
       "  0%|          | 0/359 [00:00<?, ?it/s]"
      ]
     },
     "metadata": {},
     "output_type": "display_data"
    }
   ],
   "source": [
    "fit_bijector(bijector, base_dist, train_loader, optimizer=optimizer, scheduler=scheduler, batch_preprocess_fn=batch_preprocess_fn, num_epochs=20, inverse_fit=False)"
   ]
  },
  {
   "cell_type": "code",
   "execution_count": 210,
   "id": "fdc69061-756d-42c9-9f0f-ccf90da0756f",
   "metadata": {
    "tags": []
   },
   "outputs": [
    {
     "data": {
      "text/plain": [
       "(tensor(1.9474, device='cuda:5'),\n",
       " tensor(3.9292, device='cuda:5'),\n",
       " tensor([3.1564, 2.5489, 2.6168,  ..., 2.6883, 2.4327, 2.9899], device='cuda:5'))"
      ]
     },
     "execution_count": 210,
     "metadata": {},
     "output_type": "execute_result"
    }
   ],
   "source": [
    "betas = torch.exp(list(bijector[2].bijector.parameters())[0].data)\n",
    "torch.min(betas), torch.max(betas), betas"
   ]
  },
  {
   "cell_type": "code",
   "execution_count": 143,
   "id": "4ba66d48-948d-44a3-b866-5f5677e335a1",
   "metadata": {
    "tags": []
   },
   "outputs": [
    {
     "data": {
      "text/plain": [
       "tensor(9.5367e-07)"
      ]
     },
     "execution_count": 143,
     "metadata": {},
     "output_type": "execute_result"
    }
   ],
   "source": [
    "torch.log(1 + torch.tensor(1e-6))"
   ]
  },
  {
   "cell_type": "code",
   "execution_count": 190,
   "id": "e36795b3-6ea6-48dc-a253-92152bfb56b7",
   "metadata": {
    "tags": []
   },
   "outputs": [
    {
     "data": {
      "text/plain": [
       "(1024, 2301)"
      ]
     },
     "execution_count": 190,
     "metadata": {},
     "output_type": "execute_result"
    }
   ],
   "source": [
    "for X, _ in train_loader:\n",
    "    break\n",
    "x_in = X[:, :, 11:].flatten(1, 2)\n",
    "out = bijector.inv(x_in.to(DEV)).detach().cpu().numpy()\n",
    "x_in = x_in.numpy()\n",
    "out.shape"
   ]
  },
  {
   "cell_type": "code",
   "execution_count": 191,
   "id": "33012fe2-3e13-4ea1-ba82-e27822e56286",
   "metadata": {
    "tags": []
   },
   "outputs": [
    {
     "name": "stdout",
     "output_type": "stream",
     "text": [
      "-0.00072579365 0.9638341\n"
     ]
    },
    {
     "data": {
      "image/png": "[encoded data removed]",
      "text/plain": [
       "<Figure size 1400x700 with 2 Axes>"
      ]
     },
     "metadata": {},
     "output_type": "display_data"
    }
   ],
   "source": [
    "idx = 1\n",
    "fig, axs = plt.subplots(ncols=2, figsize=(14, 7))\n",
    "axs[0].hist(x_in[:, idx], density=True, bins=50)\n",
    "axs[1].hist(out[:, idx], density=True, bins=50)\n",
    "print(np.mean(out[:, idx]), np.std(out[:, idx]))\n",
    "plt.show()"
   ]
  },
  {
   "cell_type": "code",
   "execution_count": 194,
   "id": "09b84e09-60a4-43f0-a7d8-fbbbbcbda8a6",
   "metadata": {
    "tags": []
   },
   "outputs": [
    {
     "name": "stdout",
     "output_type": "stream",
     "text": [
      "0.018472409 0.98665094\n"
     ]
    },
    {
     "data": {
      "image/png": "[encoded data removed]",
      "text/plain": [
       "<Figure size 1400x700 with 2 Axes>"
      ]
     },
     "metadata": {},
     "output_type": "display_data"
    }
   ],
   "source": [
    "# this is with inverse scale first\n",
    "idx = 50\n",
    "fig, axs = plt.subplots(ncols=2, figsize=(14, 7))\n",
    "axs[0].hist(x_in[:, idx], density=True, bins=50)\n",
    "axs[1].hist(out[:, idx], density=True, bins=50)\n",
    "print(np.mean(out[:, idx]), np.std(out[:, idx]))\n",
    "plt.show()"
   ]
  },
  {
   "cell_type": "code",
   "execution_count": 211,
   "id": "110d03a9-3aeb-4456-a42c-7276e8775925",
   "metadata": {
    "tags": []
   },
   "outputs": [
    {
     "data": {
      "application/vnd.jupyter.widget-view+json": {
       "model_id": "48b8b257308342c1bdf88b71203595bc",
       "version_major": 2,
       "version_minor": 0
      },
      "text/plain": [
       "  0%|          | 0/359 [00:00<?, ?it/s]"
      ]
     },
     "metadata": {},
     "output_type": "display_data"
    },
    {
     "data": {
      "application/vnd.jupyter.widget-view+json": {
       "model_id": "0282e111ff244c3d9799b2d70a811ac5",
       "version_major": 2,
       "version_minor": 0
      },
      "text/plain": [
       "  0%|          | 0/90 [00:00<?, ?it/s]"
      ]
     },
     "metadata": {},
     "output_type": "display_data"
    }
   ],
   "source": [
    "post_fn = lambda x_in, x_out : np.concatenate((x_in[:, :, :11], x_out.unflatten(1, (13, 177))), axis=2) \n",
    "train_out = transform_data(bijector, train_loader, batch_preprocess_fn, post_fn)\n",
    "val_out = transform_data(bijector, val_loader, batch_preprocess_fn, post_fn)"
   ]
  },
  {
   "cell_type": "code",
   "execution_count": 156,
   "id": "88de8b96-8c91-4479-acb9-5eaf17245b1a",
   "metadata": {
    "tags": []
   },
   "outputs": [],
   "source": [
    "np.save(os.path.join(cfg['dataset_directory'], 'transformed', f\"Adaptive-flow-3-X_train.npy\"), train_out[0])\n",
    "np.save(os.path.join(cfg['dataset_directory'], 'transformed', f\"Adaptive-flow-3-y_train.npy\"), train_out[1])"
   ]
  },
  {
   "cell_type": "code",
   "execution_count": 157,
   "id": "149803ab-e094-4728-b9b6-1271108303d3",
   "metadata": {
    "tags": []
   },
   "outputs": [],
   "source": [
    "np.save(os.path.join(cfg['dataset_directory'], 'transformed', f\"Adaptive-flow-3-y_val.npy\"), val_out[1])\n",
    "np.save(os.path.join(cfg['dataset_directory'], 'transformed', f\"Adaptive-flow-3-X_val.npy\"), val_out[0])"
   ]
  },
  {
   "cell_type": "code",
   "execution_count": 212,
   "id": "fad39c8d-1cac-4356-826f-4524d2028824",
   "metadata": {
    "tags": []
   },
   "outputs": [],
   "source": [
    "X_train = np.load(os.path.join(cfg['dataset_directory'], 'transformed', f\"Adaptive-flow-3-X_train.npy\"))\n",
    "y_train = np.load(os.path.join(cfg['dataset_directory'], 'transformed', f\"Adaptive-flow-3-y_train.npy\"))\n",
    "X_val = np.load(os.path.join(cfg['dataset_directory'], 'transformed', f\"Adaptive-flow-3-X_val.npy\"))\n",
    "y_val = np.load(os.path.join(cfg['dataset_directory'], 'transformed', f\"Adaptive-flow-3-y_val.npy\"))\n",
    "\n",
    "X_train, y_train = train_out\n",
    "X_val, y_val = val_out\n",
    "\n",
    "#preprocess = StandardScalerTimeSeries()\n",
    "#X_train[:, :, 11:] = preprocess.fit_transform(X_train[:, :, 11:], y_train)\n",
    "#X_val[:, :, 11:] = preprocess.transform(X_val[:, :, 11:])\n",
    "\n",
    "data_loader_kwargs = {\n",
    "    'batch_size' : 1024,\n",
    "    'shuffle' : False,\n",
    "    'drop_last' : False,\n",
    "}\n",
    "\n",
    "train_loader = torch.utils.data.DataLoader(\n",
    "    dataset = torch.utils.data.TensorDataset(\n",
    "        torch.from_numpy(X_train).type(torch.float32),\n",
    "        torch.from_numpy(y_train).type(torch.float32)\n",
    "    ), **data_loader_kwargs)\n",
    "\n",
    "val_loader = torch.utils.data.DataLoader(\n",
    "    dataset = torch.utils.data.TensorDataset(\n",
    "        torch.from_numpy(X_val).type(torch.float32),\n",
    "        torch.from_numpy(y_val).type(torch.float32)\n",
    "    ), **data_loader_kwargs)"
   ]
  },
  {
   "cell_type": "code",
   "execution_count": 213,
   "id": "529b78cf-0715-4caf-a265-96c1b10326c1",
   "metadata": {
    "tags": []
   },
   "outputs": [
    {
     "name": "stdout",
     "output_type": "stream",
     "text": [
      "Using device = cuda:4\n"
     ]
    },
    {
     "data": {
      "application/vnd.jupyter.widget-view+json": {
       "model_id": "f0d7e89cad6c49dbb018c868a4856746",
       "version_major": 2,
       "version_minor": 0
      },
      "text/plain": [
       "  0%|          | 0/150 [00:00<?, ?it/s]"
      ]
     },
     "metadata": {},
     "output_type": "display_data"
    }
   ],
   "source": [
    "from src.models.basic_grunet import GRUNetBasic\n",
    "\n",
    "loss_fn = F.binary_cross_entropy\n",
    "model = GRUNetBasic(188, 128, 2, 4)\n",
    "optimizer = torch.optim.Adam(model.parameters(), lr=1e-3)\n",
    "scheduler = torch.optim.lr_scheduler.MultiStepLR(optimizer, milestones=[4, 7], gamma=0.1)\n",
    "early_stopper = experimentation.EarlyStopper(patience=5)\n",
    "hist = experimentation.fit_model(model, loss_fn, train_loader, val_loader, optimizer, scheduler, num_epochs=150, early_stopper=early_stopper, device_ids=[4], verbose=False)"
   ]
  },
  {
   "cell_type": "code",
   "execution_count": 214,
   "id": "345ecd79-5bb3-44aa-b9c8-6c5498eb5cf2",
   "metadata": {
    "tags": []
   },
   "outputs": [
    {
     "data": {
      "text/plain": [
       "(0.7864906604375737, 0.22195142375098334)"
      ]
     },
     "execution_count": 214,
     "metadata": {},
     "output_type": "execute_result"
    }
   ],
   "source": [
    "np.max(hist['val_amex_metric']), np.min(hist['val_loss'])"
   ]
  },
  {
   "cell_type": "code",
   "execution_count": null,
   "id": "2ce45723-2d38-4e6a-a6d3-27e62fd5b266",
   "metadata": {},
   "outputs": [],
   "source": []
  }
 ],
 "metadata": {
  "kernelspec": {
   "display_name": "cudf_torch",
   "language": "python",
   "name": "cudf_torch"
  },
  "language_info": {
   "codemirror_mode": {
    "name": "ipython",
    "version": 3
   },
   "file_extension": ".py",
   "mimetype": "text/x-python",
   "name": "python",
   "nbconvert_exporter": "python",
   "pygments_lexer": "ipython3",
   "version": "3.10.11"
  }
 },
 "nbformat": 4,
 "nbformat_minor": 5
}
